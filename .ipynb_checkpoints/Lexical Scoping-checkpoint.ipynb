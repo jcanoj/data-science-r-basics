{
 "cells": [
  {
   "cell_type": "markdown",
   "metadata": {},
   "source": [
    "## Lexical scoping ##"
   ]
  },
  {
   "cell_type": "markdown",
   "metadata": {},
   "source": [
    "### Lecturas recomendadas ###\n",
    "- [Forms of the Assignment operator](https://github.com/lgreski/datasciencectacontent/blob/master/markdown/rprog-assignmentOperators.md)\n",
    "- [R Objects, Lexical Scoping](https://github.com/lgreski/datasciencectacontent/blob/master/markdown/rprog-lexicalScoping.md)\n",
    "- [Advanced R by Hadley Wickham - Functions](http://adv-r.had.co.nz/Functions.html)\n",
    "- [Advanced R by Hadley Wickham - Non standard evaluation](http://adv-r.had.co.nz/Computing-on-the-language.html#scoping-issues)\n",
    "- [Lexical Scoping and Statistical Computing](https://www.stat.auckland.ac.nz/~ihaka/downloads/lexical.pdf)"
   ]
  },
  {
   "cell_type": "markdown",
   "metadata": {},
   "source": [
    "In R every object is tied to an environment. Specifically for functions, **each function includes a pointer to its parent environment**. This allows the function to have **access to the objects that are defined in the parent environment**, in addition to any objects that are created within the function. The combination of a function and the variables referenced in its environment is also known in computer science as a **closure**.\n",
    "\n",
    "This feature allows a developer to write functions within a function that can access objects defined in all of the parent environment(s) in the hierarchy between the child function and the R Global Environment."
   ]
  },
  {
   "cell_type": "code",
   "execution_count": 1,
   "metadata": {},
   "outputs": [
    {
     "data": {
      "text/html": [
       "34"
      ],
      "text/latex": [
       "34"
      ],
      "text/markdown": [
       "34"
      ],
      "text/plain": [
       "[1] 34"
      ]
     },
     "metadata": {},
     "output_type": "display_data"
    }
   ],
   "source": [
    "y <- 10\n",
    "\n",
    "f <- function(x){\n",
    "        y <- 2\n",
    "        y^2 + g(x)\n",
    "}\n",
    "\n",
    "g <- function(x) { x* y}\n",
    "\n",
    "f(3)"
   ]
  },
  {
   "cell_type": "markdown",
   "metadata": {},
   "source": [
    "## What is a closure? ##"
   ]
  },
  {
   "cell_type": "markdown",
   "metadata": {},
   "source": [
    "A Closure is a functional programming concept that is central to lexical scoping. A closure represents the association between a function and its environment, including the local variables that are defined within its scope and the name or reference to which the name was bound at design time. Since anonymous functions are unnamed, they are associated with environments by reference.\n",
    "\n",
    "A closure enables the function to access these variables through copies or references even when the function is accessed outside their scope, unlike a regular function that is defined without an environment."
   ]
  },
  {
   "cell_type": "markdown",
   "metadata": {},
   "source": [
    "## Caching ##"
   ]
  },
  {
   "cell_type": "markdown",
   "metadata": {},
   "source": [
    "A cache is a way to **store objects in memory to accelerate subsequent access to the same object**. In statistics, some matrix algebra computations are notoriously expensive, such as calculating the inverse of a matrix. Therefore, if one needs to use the same inverted matrix for subsequent computations, it is advantageous to cache it in memory instead of repeatedly calculating the inverse."
   ]
  },
  {
   "cell_type": "code",
   "execution_count": null,
   "metadata": {},
   "outputs": [],
   "source": [
    "makeVector <- function(x = numeric()) {\n",
    "        m <- NULL\n",
    "        set <- function(y) {\n",
    "                x <<- y\n",
    "                m <<- NULL\n",
    "        }\n",
    "        get <- function() x\n",
    "        setmean <- function(mean) m <<- mean\n",
    "        getmean <- function() m\n",
    "        list(set = set, get = get,\n",
    "             setmean = setmean,\n",
    "             getmean = getmean)\n",
    "}\n",
    "\n",
    "cachemean <- function(x, ...) {\n",
    "        m <- x$getmean()\n",
    "        if(!is.null(m)) {\n",
    "                message(\"getting cached data\")\n",
    "                return(m)\n",
    "        }\n",
    "        data <- x$get()\n",
    "        m <- mean(data, ...)\n",
    "        x$setmean(m)\n",
    "        m\n",
    "}\n",
    "\n",
    "myVector <- makeVector(1:15)"
   ]
  },
  {
   "cell_type": "markdown",
   "metadata": {},
   "source": [
    "When an R function returns an object that contains functions to its parent environment (as is the case with a call like myVector <- makeVector(1:15)), not only does myVector have access to the specific functions in its list, but it also retains access to the entire environment defined by makeVector(), including the original argument used to start the function.\n",
    "\n",
    "Why is this the case? myVector contains pointers to functions that are within the makeVector() environment after the function ends, so these pointers prevent the memory consumed by makeVector() from being released by the garbage collector. Therefore, the entire makeVector() environment stays in memory, and myVector can access its functions as well as any data in that environment that is referenced in its functions.\n",
    "\n",
    "This feature explains why x (the argument initialized on the original function call) is accessible by subsequent calls to functions on myVector such as myVector$get(), and it also explains why the code works without having to explicitly issue myVector$set() to set the value of x."
   ]
  },
  {
   "cell_type": "markdown",
   "metadata": {},
   "source": [
    "## makeVector() step by step ##\n",
    "\n",
    "After initializing key objects that store key information within makeVector(), the code provides four basic behaviors that are typical for data elements within an object-oriented program. They're called \"getters and settters,\" and more formally known as mutator and accessor methods. As one might expect, \"getters\" are program modules that retrieve (access) data within an object, and \"setters\" are program modules that set (mutate) the data values within an object.\n",
    "\n",
    "```R\n",
    " set <- function(y) {\n",
    "                x <<- y\n",
    "                m <<- NULL\n",
    "        }\n",
    "        get <- function() x\n",
    "```\n",
    "\n",
    "<<- is one of three forms of the assignment operator. The double left arrow << indicates that the assignment should be made to the parent environment.\n",
    "\n",
    "Within set() we use the <<- form of the assignment operator, which assigns the value on the right side of the operator to an object in the parent environment named by the object on the left side of the operator.\n",
    "\n",
    "When set() is executed, it does two things:\n",
    "\n",
    "1. Assign the input argument to the x object in the parent environment, and\n",
    "2. Assign the value of NULL to the m object in the parent environment. This line of code clears any value of m that had been cached by a prior execution of cachemean().\n",
    "\n",
    "Therefore, if there is already a valid mean cached in m, whenever x is reset, the value of m cached in the memory of the object is cleared, forcing subsequent calls to cachemean() to recalculate the mean rather than retrieving the wrong value from cache.\n",
    "\n",
    "Step 3: Create a new object by returning a list()\n",
    "\n",
    "```R\n",
    "    list(set = set,          # gives the name 'set' to the set() function defined above\n",
    "         get = get,          # gives the name 'get' to the get() function defined above\n",
    "         setmean = setmean,  # gives the name 'setmean' to the setmean() function defined above\n",
    "         getmean = getmean)  # gives the name 'getmean' to the getmean() function defined above\n",
    "```\n",
    "\n",
    "The last section of code assigns each of these functions as an element within a list(), and returns it to the parent environment.Each element in the list is named. This allows us to use the $ form of the extract operator to access the functions by name rather than using the [[ form of the extract operator, as in myVector[[2]](), to get the contents of the vector.\n",
    "\n",
    "It's important to note that the cachemean() function REQUIRES an input argument of type makeVector(). If one passes a regular vector to the function, as in\n",
    "\n",
    "```R\n",
    "aResult <- cachemean(1:15)\n",
    "```\n",
    "\n",
    "the function call will fail with an error explaining that cachemean() was unable to access $getmean() on the input argument because $ does not work with atomic vectors.\n",
    "\n",
    "## Explaining cachemean() ##\n",
    "\n",
    "cachemean() is required to populate or retrieve the mean from an object of type makeVector().\n",
    "\n",
    "```R\n",
    "cachemean <- function(x, ...) {\n",
    "     ...\n",
    "```\n",
    "\n",
    "cachemean() starts with a single argument, x, and an ellipsis that allows the caller to pass additional arguments into the function.\n",
    "\n",
    "Note that cachemean() is the only place where the mean() function is executed, which is why makeVector() is incomplete without cachemean()."
   ]
  },
  {
   "cell_type": "code",
   "execution_count": null,
   "metadata": {},
   "outputs": [],
   "source": []
  }
 ],
 "metadata": {
  "kernelspec": {
   "display_name": "R",
   "language": "R",
   "name": "ir"
  },
  "language_info": {
   "codemirror_mode": "r",
   "file_extension": ".r",
   "mimetype": "text/x-r-source",
   "name": "R",
   "pygments_lexer": "r",
   "version": "3.4.2"
  }
 },
 "nbformat": 4,
 "nbformat_minor": 2
}
