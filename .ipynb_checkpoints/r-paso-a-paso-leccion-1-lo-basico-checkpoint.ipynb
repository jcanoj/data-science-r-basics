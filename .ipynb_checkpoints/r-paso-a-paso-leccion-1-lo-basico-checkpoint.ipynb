{
 "cells": [
  {
   "cell_type": "markdown",
   "metadata": {},
   "source": [
    "# Empenzado por lo básico #"
   ]
  },
  {
   "cell_type": "markdown",
   "metadata": {},
   "source": [
    "## Consultando la ayuda ##"
   ]
  },
  {
   "cell_type": "code",
   "execution_count": 1,
   "metadata": {},
   "outputs": [],
   "source": [
    "?print"
   ]
  },
  {
   "cell_type": "markdown",
   "metadata": {},
   "source": [
    "# moviendonos por los directorios #"
   ]
  },
  {
   "cell_type": "markdown",
   "metadata": {},
   "source": [
    "Desde la línea de comandos de R podemos movernos por las carpetas de nuestro ordenador, crear y cargar archivos\n",
    "\n",
    "Desde la línea de comandos de R podemos movernos por las carpetas de nuestro ordenador y crear y cargar archivos usando estos comandos\n",
    "\n",
    "\n",
    "```R\n",
    "getwd() \t\t\t\t# nos devuelve el directorio actual de trabajo\n",
    "setwd('..') \t\t\t# accede al nivel superior en el arbol de carpetas\n",
    "setwd('c:/Projects/...')\t\t\t\t# cambia al \n",
    "list.files()\t\t\n",
    "dir()\t\t\t\t\t# igual que list.files()\n",
    "file.path()\n",
    "dir.create()\n",
    "file.exists()\n",
    "file.info()\n",
    "file.create()\n",
    "file.rename('test1.R', 'test2.R)\n",
    "file.copy(from='', to='')\n",
    "file.path()\n",
    "```"
   ]
  },
  {
   "cell_type": "markdown",
   "metadata": {},
   "source": [
    "## Objetos en R: tipos básicos ##"
   ]
  },
  {
   "cell_type": "markdown",
   "metadata": {},
   "source": [
    "Todo elemento en R es un objeto, desde una variable hasta una función. Existen 5 tipos de objetos básicos llamados atomicos: **character, numeric, integer, complex, logic (true/false)**. La asignación de los tipos atómicos es dinámica, no es necesario hacer una declaración explícita. Para asignar un valor a una variable usamos **<-**"
   ]
  },
  {
   "cell_type": "code",
   "execution_count": 1,
   "metadata": {},
   "outputs": [],
   "source": [
    "x <- 5 # los valores numericos son de doble precisión\n",
    "y <- 5L # si queremos guardar un número entero con precisión simple (ahorrando memoria) usamos el sufijo L"
   ]
  },
  {
   "cell_type": "markdown",
   "metadata": {},
   "source": [
    "La función **class** nos devuelve el tipo de objeto"
   ]
  },
  {
   "cell_type": "code",
   "execution_count": 2,
   "metadata": {},
   "outputs": [
    {
     "data": {
      "text/html": [
       "'numeric'"
      ],
      "text/latex": [
       "'numeric'"
      ],
      "text/markdown": [
       "'numeric'"
      ],
      "text/plain": [
       "[1] \"numeric\""
      ]
     },
     "metadata": {},
     "output_type": "display_data"
    },
    {
     "data": {
      "text/html": [
       "'integer'"
      ],
      "text/latex": [
       "'integer'"
      ],
      "text/markdown": [
       "'integer'"
      ],
      "text/plain": [
       "[1] \"integer\""
      ]
     },
     "metadata": {},
     "output_type": "display_data"
    }
   ],
   "source": [
    "class(x)\n",
    "class(y)"
   ]
  },
  {
   "cell_type": "markdown",
   "metadata": {},
   "source": [
    "### Palabras reservadas ###"
   ]
  },
  {
   "cell_type": "markdown",
   "metadata": {},
   "source": [
    "**Inf** es una palabra reservada para representar el valor infinito y **NaN** representa el valor \"Not a Number\" y puede usarse para representar la ausencia de un dato en un conjunto. "
   ]
  },
  {
   "cell_type": "markdown",
   "metadata": {},
   "source": [
    "Todos los objetos en R tienen **atributos**. Algunos de los más comunes son **names**, **dimnames**, **dimension**, **class**, **length**. No todos los objetos tienen los mismos atributos. Para conocer que atributos tienen usamos la función **attributes**"
   ]
  },
  {
   "cell_type": "code",
   "execution_count": 9,
   "metadata": {},
   "outputs": [
    {
     "data": {
      "text/plain": [
       "NULL"
      ]
     },
     "metadata": {},
     "output_type": "display_data"
    }
   ],
   "source": [
    "attributes(x)"
   ]
  },
  {
   "cell_type": "markdown",
   "metadata": {},
   "source": [
    "Para listar los objetos (funciones, variables, etc.) creados en un entorno usamos la función ls(). rm() borra objetos"
   ]
  },
  {
   "cell_type": "code",
   "execution_count": 1,
   "metadata": {},
   "outputs": [
    {
     "data": {
      "text/html": [
       "<ol class=list-inline>\n",
       "\t<li>'archivos'</li>\n",
       "\t<li>'cc'</li>\n",
       "\t<li>'complete'</li>\n",
       "\t<li>'corr'</li>\n",
       "\t<li>'corrtest'</li>\n",
       "\t<li>'cr'</li>\n",
       "\t<li>'data.dir'</li>\n",
       "\t<li>'datosp'</li>\n",
       "\t<li>'datosp.completos'</li>\n",
       "\t<li>'n'</li>\n",
       "\t<li>'out'</li>\n",
       "\t<li>'pollutantmean'</li>\n",
       "\t<li>'use'</li>\n",
       "\t<li>'vector.cor'</li>\n",
       "</ol>\n"
      ],
      "text/latex": [
       "\\begin{enumerate*}\n",
       "\\item 'archivos'\n",
       "\\item 'cc'\n",
       "\\item 'complete'\n",
       "\\item 'corr'\n",
       "\\item 'corrtest'\n",
       "\\item 'cr'\n",
       "\\item 'data.dir'\n",
       "\\item 'datosp'\n",
       "\\item 'datosp.completos'\n",
       "\\item 'n'\n",
       "\\item 'out'\n",
       "\\item 'pollutantmean'\n",
       "\\item 'use'\n",
       "\\item 'vector.cor'\n",
       "\\end{enumerate*}\n"
      ],
      "text/markdown": [
       "1. 'archivos'\n",
       "2. 'cc'\n",
       "3. 'complete'\n",
       "4. 'corr'\n",
       "5. 'corrtest'\n",
       "6. 'cr'\n",
       "7. 'data.dir'\n",
       "8. 'datosp'\n",
       "9. 'datosp.completos'\n",
       "10. 'n'\n",
       "11. 'out'\n",
       "12. 'pollutantmean'\n",
       "13. 'use'\n",
       "14. 'vector.cor'\n",
       "\n",
       "\n"
      ],
      "text/plain": [
       " [1] \"archivos\"         \"cc\"               \"complete\"         \"corr\"            \n",
       " [5] \"corrtest\"         \"cr\"               \"data.dir\"         \"datosp\"          \n",
       " [9] \"datosp.completos\" \"n\"                \"out\"              \"pollutantmean\"   \n",
       "[13] \"use\"              \"vector.cor\"      "
      ]
     },
     "metadata": {},
     "output_type": "display_data"
    }
   ],
   "source": [
    "ls() # list objets"
   ]
  },
  {
   "cell_type": "code",
   "execution_count": null,
   "metadata": {},
   "outputs": [],
   "source": []
  }
 ],
 "metadata": {
  "kernelspec": {
   "display_name": "R",
   "language": "R",
   "name": "ir"
  },
  "language_info": {
   "codemirror_mode": "r",
   "file_extension": ".r",
   "mimetype": "text/x-r-source",
   "name": "R",
   "pygments_lexer": "r",
   "version": "3.4.2"
  }
 },
 "nbformat": 4,
 "nbformat_minor": 2
}
