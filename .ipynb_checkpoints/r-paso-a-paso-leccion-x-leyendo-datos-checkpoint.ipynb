{
 "cells": [
  {
   "cell_type": "markdown",
   "metadata": {},
   "source": [
    "# Leyendo datos #"
   ]
  },
  {
   "cell_type": "markdown",
   "metadata": {},
   "source": [
    "Existen varias funciones que nos permiten leer datos externos en R\n",
    "\n",
    "- read.table, read.csv para leer datos tabulados\n",
    "- readLines, para leer lineas de un archivo de texto\n",
    "- source, para leer archivos R (dump permite escribirlos)\n",
    "- dget, (dput)\n",
    "- load, para leer workspaces guardados\n",
    "- unserialize, para leer objetos de R guardados en binario"
   ]
  },
  {
   "cell_type": "markdown",
   "metadata": {},
   "source": [
    "**read.table** es una de las funciones más usadas para leer datos. Usa los siguientes argumentos:\n",
    "\n",
    "- file, el nombre del archivo\n",
    "- header, valor lógico que indica si el archivo tiene un encabezado o no\n",
    "- sep, un string que indica qué se usa para separar columnas\n",
    "- colClasses, un vector de tipo \"character\" que indica el tipo de datos a usar en cada columna\n",
    "- nrows, el número de filas del dataset\n",
    "- comment.char, una cadena de texto que especifica como se indican los comentarios en el archivo\n",
    "- skip, número de líneas que no se leeran desde el comienzo del archivo\n",
    "- stringsAsFactors, valor lógico que indica si los datos character deben ser interpretados como factores"
   ]
  },
  {
   "cell_type": "markdown",
   "metadata": {},
   "source": [
    "Para archivos pequeños, se puede usar read.table sin especificar ningún otro tipo de argumentos. R automáticamente\n",
    "- saltará las líneas que empiecen con #\n",
    "- determinará el número de líneas a leer\n",
    "- deducirá el tipo de objeto en cada columna\n",
    "\n",
    "read.csv es idéntico a read.table solo que el elemento usado para separar valores es la coma"
   ]
  },
  {
   "cell_type": "code",
   "execution_count": 3,
   "metadata": {},
   "outputs": [
    {
     "name": "stderr",
     "output_type": "stream",
     "text": [
      "Warning message in file(file, \"rt\"):\n",
      "\"no fue posible abrir el archivo 'data/ejemplo': No such file or directory\""
     ]
    },
    {
     "ename": "ERROR",
     "evalue": "Error in file(file, \"rt\"): no se puede abrir la conexión\n",
     "output_type": "error",
     "traceback": [
      "Error in file(file, \"rt\"): no se puede abrir la conexión\nTraceback:\n",
      "1. read.csv(\"data/ejemplo\")",
      "2. read.table(file = file, header = header, sep = sep, quote = quote, \n .     dec = dec, fill = fill, comment.char = comment.char, ...)",
      "3. file(file, \"rt\")"
     ]
    }
   ],
   "source": [
    "provincias <- read.csv('data/ejemplo.csv')"
   ]
  },
  {
   "cell_type": "markdown",
   "metadata": {},
   "source": [
    "## Leyendo grandes conjuntos de datos ##"
   ]
  },
  {
   "cell_type": "markdown",
   "metadata": {},
   "source": [
    "Una de las características de R es que los datasets se guardan en la memoria. Por lo tanto un conjunto de datos demasiado grande requerirá mucha  RAM y puede ralentizar R. La ayuda de read.table contiene muchos consejos útiles sobre como leer datos eficazmente.\n",
    "\n",
    "Es conveniente estimar la memoria que se usará. Por ejemplo, si nuestro conjunto de datos contiene 1500000 registros y 120 columnas de valores numericos (8 bytes), esto requerirá 1500000*120*8 bytes. Dividiendo entre 2^20 tendremos el número de MB que es aproximadamente 1.34GB\n",
    "\n",
    "Además conviene especificar el tipo de datos con **colClasses**. Por ejemplo si todos los datos son de tipo númerico, deberiamos especifica **colClasses = 'numeric'**.\n",
    "\n",
    "Establecer nrows. En Unix podemos usar wc para determinar el número de filas.\n",
    "\n",
    "Un pequeño truco para determinar el tipo de clases de cada columna es el siguiente:"
   ]
  },
  {
   "cell_type": "code",
   "execution_count": null,
   "metadata": {},
   "outputs": [],
   "source": [
    "test <- read.table('datos.txt', nrows=100)\n",
    "classes <- sapply(initial, class)\n",
    "tabAll <- read.table('datos.txt', colClasses = classes)"
   ]
  },
  {
   "cell_type": "markdown",
   "metadata": {},
   "source": [
    "## Textual Data Formats ##"
   ]
  },
  {
   "cell_type": "markdown",
   "metadata": {},
   "source": [
    "## Interfaces with the outside world ##"
   ]
  },
  {
   "cell_type": "markdown",
   "metadata": {},
   "source": [
    "Existen distintos interfaces de conexión para leer datos. El más común es el archivo.\n",
    "\n",
    "- file, crea una conexión a un archivo\n",
    "- gzfile, abre una conexión con un archivo comprimido con gzip\n",
    "- bzfile, conexión con archivo bzip2\n",
    "- url, abre una conexión con un sitio web."
   ]
  },
  {
   "cell_type": "markdown",
   "metadata": {},
   "source": [
    "En la práctica no necesitamos crear estos conexiones"
   ]
  },
  {
   "cell_type": "code",
   "execution_count": null,
   "metadata": {},
   "outputs": [],
   "source": [
    "con <- file('ejemplo.txt','r')\n",
    "data <- read.csv(con)\n",
    "close(con)"
   ]
  },
  {
   "cell_type": "markdown",
   "metadata": {},
   "source": [
    "es equivalente a"
   ]
  },
  {
   "cell_type": "code",
   "execution_count": null,
   "metadata": {},
   "outputs": [],
   "source": [
    "data <- read.csv('ejemplo.txt')"
   ]
  },
  {
   "cell_type": "code",
   "execution_count": 5,
   "metadata": {},
   "outputs": [
    {
     "data": {
      "text/html": [
       "<ol class=list-inline>\n",
       "\t<li>'&lt;!DOCTYPE html&gt;'</li>\n",
       "\t<li>'&lt;html lang=\"en\"&gt;'</li>\n",
       "\t<li>''</li>\n",
       "\t<li>'&lt;head&gt;'</li>\n",
       "\t<li>'&lt;meta charset=\"utf-8\" /&gt;'</li>\n",
       "\t<li>'&lt;title&gt;Johns Hopkins Bloomberg School of Public Health&lt;/title&gt;'</li>\n",
       "</ol>\n"
      ],
      "text/latex": [
       "\\begin{enumerate*}\n",
       "\\item '<!DOCTYPE html>'\n",
       "\\item '<html lang=\"en\">'\n",
       "\\item ''\n",
       "\\item '<head>'\n",
       "\\item '<meta charset=\"utf-8\" />'\n",
       "\\item '<title>Johns Hopkins Bloomberg School of Public Health</title>'\n",
       "\\end{enumerate*}\n"
      ],
      "text/markdown": [
       "1. '&lt;!DOCTYPE html&gt;'\n",
       "2. '&lt;html lang=\"en\"&gt;'\n",
       "3. ''\n",
       "4. '&lt;head&gt;'\n",
       "5. '&lt;meta charset=\"utf-8\" /&gt;'\n",
       "6. '&lt;title&gt;Johns Hopkins Bloomberg School of Public Health&lt;/title&gt;'\n",
       "\n",
       "\n"
      ],
      "text/plain": [
       "[1] \"<!DOCTYPE html>\"                                               \n",
       "[2] \"<html lang=\\\"en\\\">\"                                            \n",
       "[3] \"\"                                                              \n",
       "[4] \"<head>\"                                                        \n",
       "[5] \"<meta charset=\\\"utf-8\\\" />\"                                    \n",
       "[6] \"<title>Johns Hopkins Bloomberg School of Public Health</title>\""
      ]
     },
     "metadata": {},
     "output_type": "display_data"
    }
   ],
   "source": [
    "# Esto puede tardar\n",
    "con <- url('http://www.jhsph.edu','r')\n",
    "x <- readLines(con)\n",
    "head(x)"
   ]
  },
  {
   "cell_type": "code",
   "execution_count": null,
   "metadata": {},
   "outputs": [],
   "source": []
  }
 ],
 "metadata": {
  "kernelspec": {
   "display_name": "R",
   "language": "R",
   "name": "ir"
  },
  "language_info": {
   "codemirror_mode": "r",
   "file_extension": ".r",
   "mimetype": "text/x-r-source",
   "name": "R",
   "pygments_lexer": "r",
   "version": "3.4.2"
  }
 },
 "nbformat": 4,
 "nbformat_minor": 2
}
