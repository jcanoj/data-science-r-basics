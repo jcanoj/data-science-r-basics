{
 "cells": [
  {
   "cell_type": "markdown",
   "metadata": {},
   "source": [
    "# Estructuras de control: if, for, while #"
   ]
  },
  {
   "cell_type": "markdown",
   "metadata": {},
   "source": [
    "## Expresiones condicionales (if /else / ifelse) ##"
   ]
  },
  {
   "cell_type": "code",
   "execution_count": null,
   "metadata": {
    "collapsed": true
   },
   "outputs": [],
   "source": [
    "if(a!=0){\n",
    "    print(1/a)\n",
    "} else {\n",
    "    print(\"error en la operación: división por cero\")\n",
    "}"
   ]
  },
  {
   "cell_type": "markdown",
   "metadata": {},
   "source": [
    "la palabra clave **ifelse** permite escribir sentencias condicionales muy compactas"
   ]
  },
  {
   "cell_type": "code",
   "execution_count": 1,
   "metadata": {},
   "outputs": [
    {
     "data": {
      "text/html": [
       "&lt;NA&gt;"
      ],
      "text/latex": [
       "<NA>"
      ],
      "text/markdown": [
       "&lt;NA&gt;"
      ],
      "text/plain": [
       "[1] NA"
      ]
     },
     "metadata": {},
     "output_type": "display_data"
    }
   ],
   "source": [
    "a <- 0\n",
    "ifelse(a>0, 1/a, NA)"
   ]
  },
  {
   "cell_type": "markdown",
   "metadata": {},
   "source": [
    "Esta función se puede aplicar a un vector y el resultado es otro vector"
   ]
  },
  {
   "cell_type": "code",
   "execution_count": 2,
   "metadata": {},
   "outputs": [
    {
     "data": {
      "text/html": [
       "<ol class=list-inline>\n",
       "\t<li>&lt;NA&gt;</li>\n",
       "\t<li>1</li>\n",
       "\t<li>0.5</li>\n",
       "\t<li>&lt;NA&gt;</li>\n",
       "\t<li>0.2</li>\n",
       "</ol>\n"
      ],
      "text/latex": [
       "\\begin{enumerate*}\n",
       "\\item <NA>\n",
       "\\item 1\n",
       "\\item 0.5\n",
       "\\item <NA>\n",
       "\\item 0.2\n",
       "\\end{enumerate*}\n"
      ],
      "text/markdown": [
       "1. &lt;NA&gt;\n",
       "2. 1\n",
       "3. 0.5\n",
       "4. &lt;NA&gt;\n",
       "5. 0.2\n",
       "\n",
       "\n"
      ],
      "text/plain": [
       "[1]  NA 1.0 0.5  NA 0.2"
      ]
     },
     "metadata": {},
     "output_type": "display_data"
    }
   ],
   "source": [
    "a <- c(0, 1, 2, -4, 5)\n",
    "division  <- ifelse(a>0, 1/a, NA)\n",
    "division"
   ]
  },
  {
   "cell_type": "markdown",
   "metadata": {},
   "source": [
    "Podemos usarla para sustituir los valores NA por el valor 0 (cero)"
   ]
  },
  {
   "cell_type": "code",
   "execution_count": 6,
   "metadata": {
    "scrolled": true
   },
   "outputs": [
    {
     "data": {
      "text/html": [
       "2"
      ],
      "text/latex": [
       "2"
      ],
      "text/markdown": [
       "2"
      ],
      "text/plain": [
       "[1] 2"
      ]
     },
     "metadata": {},
     "output_type": "display_data"
    },
    {
     "data": {
      "text/html": [
       "<ol class=list-inline>\n",
       "\t<li>0</li>\n",
       "\t<li>1</li>\n",
       "\t<li>5</li>\n",
       "\t<li>0</li>\n",
       "\t<li>7</li>\n",
       "\t<li>9</li>\n",
       "</ol>\n"
      ],
      "text/latex": [
       "\\begin{enumerate*}\n",
       "\\item 0\n",
       "\\item 1\n",
       "\\item 5\n",
       "\\item 0\n",
       "\\item 7\n",
       "\\item 9\n",
       "\\end{enumerate*}\n"
      ],
      "text/markdown": [
       "1. 0\n",
       "2. 1\n",
       "3. 5\n",
       "4. 0\n",
       "5. 7\n",
       "6. 9\n",
       "\n",
       "\n"
      ],
      "text/plain": [
       "[1] 0 1 5 0 7 9"
      ]
     },
     "metadata": {},
     "output_type": "display_data"
    }
   ],
   "source": [
    "na_serie <- c(NA, 1, 5, NA, 7, 9)\n",
    "sum(is.na(na_serie))\n",
    "no_nas <- ifelse(is.na(na_serie), 0, na_serie)\n",
    "no_nas"
   ]
  },
  {
   "cell_type": "code",
   "execution_count": 5,
   "metadata": {
    "scrolled": true
   },
   "outputs": [
    {
     "data": {
      "text/html": [
       "<table>\n",
       "<thead><tr><th scope=col>Ozone</th><th scope=col>Solar.R</th><th scope=col>Wind</th><th scope=col>Temp</th><th scope=col>Month</th><th scope=col>Day</th></tr></thead>\n",
       "<tbody>\n",
       "\t<tr><td>41  </td><td>190 </td><td> 7.4</td><td>67  </td><td>5   </td><td>1   </td></tr>\n",
       "\t<tr><td>36  </td><td>118 </td><td> 8.0</td><td>72  </td><td>5   </td><td>2   </td></tr>\n",
       "\t<tr><td>12  </td><td>149 </td><td>12.6</td><td>74  </td><td>5   </td><td>3   </td></tr>\n",
       "\t<tr><td>18  </td><td>313 </td><td>11.5</td><td>62  </td><td>5   </td><td>4   </td></tr>\n",
       "\t<tr><td>NA  </td><td> NA </td><td>14.3</td><td>56  </td><td>5   </td><td>5   </td></tr>\n",
       "\t<tr><td>28  </td><td> NA </td><td>14.9</td><td>66  </td><td>5   </td><td>6   </td></tr>\n",
       "</tbody>\n",
       "</table>\n"
      ],
      "text/latex": [
       "\\begin{tabular}{r|llllll}\n",
       " Ozone & Solar.R & Wind & Temp & Month & Day\\\\\n",
       "\\hline\n",
       "\t 41   & 190  &  7.4 & 67   & 5    & 1   \\\\\n",
       "\t 36   & 118  &  8.0 & 72   & 5    & 2   \\\\\n",
       "\t 12   & 149  & 12.6 & 74   & 5    & 3   \\\\\n",
       "\t 18   & 313  & 11.5 & 62   & 5    & 4   \\\\\n",
       "\t NA   &  NA  & 14.3 & 56   & 5    & 5   \\\\\n",
       "\t 28   &  NA  & 14.9 & 66   & 5    & 6   \\\\\n",
       "\\end{tabular}\n"
      ],
      "text/markdown": [
       "\n",
       "Ozone | Solar.R | Wind | Temp | Month | Day | \n",
       "|---|---|---|---|---|---|\n",
       "| 41   | 190  |  7.4 | 67   | 5    | 1    | \n",
       "| 36   | 118  |  8.0 | 72   | 5    | 2    | \n",
       "| 12   | 149  | 12.6 | 74   | 5    | 3    | \n",
       "| 18   | 313  | 11.5 | 62   | 5    | 4    | \n",
       "| NA   |  NA  | 14.3 | 56   | 5    | 5    | \n",
       "| 28   |  NA  | 14.9 | 66   | 5    | 6    | \n",
       "\n",
       "\n"
      ],
      "text/plain": [
       "  Ozone Solar.R Wind Temp Month Day\n",
       "1 41    190      7.4 67   5     1  \n",
       "2 36    118      8.0 72   5     2  \n",
       "3 12    149     12.6 74   5     3  \n",
       "4 18    313     11.5 62   5     4  \n",
       "5 NA     NA     14.3 56   5     5  \n",
       "6 28     NA     14.9 66   5     6  "
      ]
     },
     "metadata": {},
     "output_type": "display_data"
    },
    {
     "data": {
      "text/html": [
       "44"
      ],
      "text/latex": [
       "44"
      ],
      "text/markdown": [
       "44"
      ],
      "text/plain": [
       "[1] 44"
      ]
     },
     "metadata": {},
     "output_type": "display_data"
    },
    {
     "data": {
      "text/html": [
       "<ol class=list-inline>\n",
       "\t<li>41</li>\n",
       "\t<li>36</li>\n",
       "\t<li>12</li>\n",
       "\t<li>18</li>\n",
       "\t<li>-1</li>\n",
       "\t<li>28</li>\n",
       "</ol>\n"
      ],
      "text/latex": [
       "\\begin{enumerate*}\n",
       "\\item 41\n",
       "\\item 36\n",
       "\\item 12\n",
       "\\item 18\n",
       "\\item -1\n",
       "\\item 28\n",
       "\\end{enumerate*}\n"
      ],
      "text/markdown": [
       "1. 41\n",
       "2. 36\n",
       "3. 12\n",
       "4. 18\n",
       "5. -1\n",
       "6. 28\n",
       "\n",
       "\n"
      ],
      "text/plain": [
       "[1] 41 36 12 18 -1 28"
      ]
     },
     "metadata": {},
     "output_type": "display_data"
    }
   ],
   "source": [
    "head(airquality)\n",
    "sum(is.na(airquality))\n",
    "Ozone_no_nas <- ifelse(is.na(airquality$Ozone), -1, airquality$Ozone)\n",
    "head(Ozone_no_nas)"
   ]
  },
  {
   "cell_type": "markdown",
   "metadata": {},
   "source": [
    "## Bucles For ##"
   ]
  },
  {
   "cell_type": "markdown",
   "metadata": {},
   "source": [
    "    for (i in range of values){\n",
    "        ...\n",
    "        código\n",
    "        ...\n",
    "    }"
   ]
  },
  {
   "cell_type": "code",
   "execution_count": null,
   "metadata": {},
   "outputs": [],
   "source": [
    "x <- c(\"a\", \"b\", \"c\", \"d\")\n",
    "\n",
    "for (i in 1:4) {\n",
    "    print(x[i])\n",
    "}\n",
    "\n",
    "for (in in seq_along(x)){\n",
    "    print (x[i])\n",
    "}\n",
    "\n",
    "for (letter in x){\n",
    "    print (letter)\n",
    "}\n",
    "\n",
    "for (in in 1:4) print (x[i])"
   ]
  },
  {
   "cell_type": "code",
   "execution_count": 5,
   "metadata": {},
   "outputs": [
    {
     "data": {
      "text/html": [
       "<ol class=list-inline>\n",
       "\t<li>1</li>\n",
       "\t<li>5</li>\n",
       "\t<li>14</li>\n",
       "\t<li>30</li>\n",
       "\t<li>55</li>\n",
       "\t<li>91</li>\n",
       "\t<li>140</li>\n",
       "\t<li>204</li>\n",
       "\t<li>285</li>\n",
       "\t<li>385</li>\n",
       "\t<li>506</li>\n",
       "\t<li>650</li>\n",
       "\t<li>819</li>\n",
       "\t<li>1015</li>\n",
       "\t<li>1240</li>\n",
       "\t<li>1496</li>\n",
       "\t<li>1785</li>\n",
       "\t<li>2109</li>\n",
       "\t<li>2470</li>\n",
       "\t<li>2870</li>\n",
       "\t<li>3311</li>\n",
       "\t<li>3795</li>\n",
       "\t<li>4324</li>\n",
       "\t<li>4900</li>\n",
       "\t<li>5525</li>\n",
       "</ol>\n"
      ],
      "text/latex": [
       "\\begin{enumerate*}\n",
       "\\item 1\n",
       "\\item 5\n",
       "\\item 14\n",
       "\\item 30\n",
       "\\item 55\n",
       "\\item 91\n",
       "\\item 140\n",
       "\\item 204\n",
       "\\item 285\n",
       "\\item 385\n",
       "\\item 506\n",
       "\\item 650\n",
       "\\item 819\n",
       "\\item 1015\n",
       "\\item 1240\n",
       "\\item 1496\n",
       "\\item 1785\n",
       "\\item 2109\n",
       "\\item 2470\n",
       "\\item 2870\n",
       "\\item 3311\n",
       "\\item 3795\n",
       "\\item 4324\n",
       "\\item 4900\n",
       "\\item 5525\n",
       "\\end{enumerate*}\n"
      ],
      "text/markdown": [
       "1. 1\n",
       "2. 5\n",
       "3. 14\n",
       "4. 30\n",
       "5. 55\n",
       "6. 91\n",
       "7. 140\n",
       "8. 204\n",
       "9. 285\n",
       "10. 385\n",
       "11. 506\n",
       "12. 650\n",
       "13. 819\n",
       "14. 1015\n",
       "15. 1240\n",
       "16. 1496\n",
       "17. 1785\n",
       "18. 2109\n",
       "19. 2470\n",
       "20. 2870\n",
       "21. 3311\n",
       "22. 3795\n",
       "23. 4324\n",
       "24. 4900\n",
       "25. 5525\n",
       "\n",
       "\n"
      ],
      "text/plain": [
       " [1]    1    5   14   30   55   91  140  204  285  385  506  650  819 1015 1240\n",
       "[16] 1496 1785 2109 2470 2870 3311 3795 4324 4900 5525"
      ]
     },
     "metadata": {},
     "output_type": "display_data"
    }
   ],
   "source": [
    "# crea un vector con la suma de los cuadrados de los primeros 25 numeros\n",
    "\n",
    "s_n <- vector(\"numeric\", 25) # vector vacío de longitud 25\n",
    "\n",
    "for (i in 1:25){\n",
    "    s_n[i] <- compute_s_n(i)\n",
    "}\n",
    "s_n"
   ]
  },
  {
   "cell_type": "markdown",
   "metadata": {},
   "source": [
    "## bucles While ##"
   ]
  },
  {
   "cell_type": "code",
   "execution_count": 8,
   "metadata": {},
   "outputs": [
    {
     "name": "stdout",
     "output_type": "stream",
     "text": [
      "[1] 5 4 3\n"
     ]
    }
   ],
   "source": [
    "## sobre append\n",
    "## https://stackoverflow.com/questions/22235809/append-value-to-empty-vector-in-r\n",
    "\n",
    "z <- 5\n",
    "\n",
    "walk <- integer() # crea un vector de integrales vacío\n",
    "\n",
    "while (z>=3 && z<=10){\n",
    "    walk <- append(walk, z) # añade un nuevo objeto al vector walk\n",
    "    coin <- rbinom(1,1,0.5)\n",
    "    \n",
    "    if (coin ==1){ ## random walk\n",
    "        z <- z+1\n",
    "    } else {\n",
    "        z <- z-1\n",
    "    }\n",
    "    \n",
    "}\n",
    "\n",
    "print (walk)"
   ]
  },
  {
   "cell_type": "markdown",
   "metadata": {},
   "source": [
    "# Repeat, next, break #"
   ]
  },
  {
   "cell_type": "code",
   "execution_count": null,
   "metadata": {},
   "outputs": [],
   "source": []
  },
  {
   "cell_type": "markdown",
   "metadata": {},
   "source": [
    "https://www.datacamp.com/community/tutorials/tutorial-on-loops-in-r"
   ]
  }
 ],
 "metadata": {
  "kernelspec": {
   "display_name": "R",
   "language": "R",
   "name": "ir"
  },
  "language_info": {
   "codemirror_mode": "r",
   "file_extension": ".r",
   "mimetype": "text/x-r-source",
   "name": "R",
   "pygments_lexer": "r",
   "version": "3.4.2"
  }
 },
 "nbformat": 4,
 "nbformat_minor": 2
}
