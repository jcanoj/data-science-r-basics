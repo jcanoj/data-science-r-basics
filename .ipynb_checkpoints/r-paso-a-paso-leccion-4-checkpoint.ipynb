{
 "cells": [
  {
   "cell_type": "markdown",
   "metadata": {
    "collapsed": true
   },
   "source": [
    "## Indexado de vectores ##"
   ]
  },
  {
   "cell_type": "markdown",
   "metadata": {},
   "source": [
    "Por indexado entendemos el filtrado de un vector o dataframe según unos criterios específicos"
   ]
  },
  {
   "cell_type": "markdown",
   "metadata": {},
   "source": [
    "### Operadores lógicos ###"
   ]
  },
  {
   "cell_type": "markdown",
   "metadata": {},
   "source": [
    "Podemos filtrar un vector basandonos en las propiedades de otro vector. Para ellos podemos usar operadores lógicos\n",
    "\n",
    "| operador | significado |\n",
    "| --- | --- |\n",
    "| **<** | menor que |\n",
    "| **<=** | menor o igual que |\n",
    "| **<** | mayor que |\n",
    "| **>=** | mayor o igual que |\n",
    "| **==** | igual a |\n",
    "| **!=** | distinto a |\n",
    "| **!** | NOT |\n",
    "| **|** | OR|\n",
    "| **&** | AND |"
   ]
  },
  {
   "cell_type": "code",
   "execution_count": 28,
   "metadata": {},
   "outputs": [
    {
     "data": {
      "text/html": [
       "<table>\n",
       "<thead><tr><th scope=col>planetas</th><th scope=col>diametro</th><th scope=col>radio_ecuatorial</th><th scope=col>masa</th><th scope=col>densidad</th><th scope=col>distancia_sol</th><th scope=col>semieje_mayor</th><th scope=col>per_revolucion</th><th scope=col>lunas</th></tr></thead>\n",
       "<tbody>\n",
       "\t<tr><td>Mercurio  </td><td>  4880    </td><td> 2440     </td><td>3.3020e+23</td><td>5.430     </td><td>  57910000</td><td> 0.387    </td><td>  0.24    </td><td> 0        </td></tr>\n",
       "\t<tr><td>Venus     </td><td> 12104    </td><td> 6052     </td><td>4.8690e+24</td><td>5.240     </td><td> 108200000</td><td> 0.723    </td><td>  0.62    </td><td> 0        </td></tr>\n",
       "\t<tr><td>Tierra    </td><td> 12756    </td><td> 6378     </td><td>5.9742e+24</td><td>5.515     </td><td> 149600000</td><td> 1.000    </td><td>  1.00    </td><td> 1        </td></tr>\n",
       "\t<tr><td>Marte     </td><td>  6794    </td><td> 3397     </td><td>6.4191e+23</td><td>3.940     </td><td> 227940000</td><td> 1.524    </td><td>  1.88    </td><td> 2        </td></tr>\n",
       "\t<tr><td>Jupiter   </td><td>142984    </td><td>71492     </td><td>1.8987e+27</td><td>1.330     </td><td> 778330000</td><td> 5.203    </td><td> 11.86    </td><td>16        </td></tr>\n",
       "\t<tr><td>Saturno   </td><td>108728    </td><td>60268     </td><td>5.6851e+26</td><td>0.697     </td><td>1429400000</td><td> 9.539    </td><td> 29.46    </td><td>18        </td></tr>\n",
       "\t<tr><td>Urano     </td><td> 51118    </td><td>25559     </td><td>8.6849e+25</td><td>1.290     </td><td>2870990000</td><td>19.182    </td><td> 84.01    </td><td>15        </td></tr>\n",
       "\t<tr><td>Neptuno   </td><td> 49532    </td><td>24746     </td><td>1.0244e+26</td><td>1.760     </td><td>4504300000</td><td>30.058    </td><td>164.80    </td><td> 8        </td></tr>\n",
       "</tbody>\n",
       "</table>\n"
      ],
      "text/latex": [
       "\\begin{tabular}{r|lllllllll}\n",
       " planetas & diametro & radio\\_ecuatorial & masa & densidad & distancia\\_sol & semieje\\_mayor & per\\_revolucion & lunas\\\\\n",
       "\\hline\n",
       "\t Mercurio   &   4880     &  2440      & 3.3020e+23 & 5.430      &   57910000 &  0.387     &   0.24     &  0        \\\\\n",
       "\t Venus      &  12104     &  6052      & 4.8690e+24 & 5.240      &  108200000 &  0.723     &   0.62     &  0        \\\\\n",
       "\t Tierra     &  12756     &  6378      & 5.9742e+24 & 5.515      &  149600000 &  1.000     &   1.00     &  1        \\\\\n",
       "\t Marte      &   6794     &  3397      & 6.4191e+23 & 3.940      &  227940000 &  1.524     &   1.88     &  2        \\\\\n",
       "\t Jupiter    & 142984     & 71492      & 1.8987e+27 & 1.330      &  778330000 &  5.203     &  11.86     & 16        \\\\\n",
       "\t Saturno    & 108728     & 60268      & 5.6851e+26 & 0.697      & 1429400000 &  9.539     &  29.46     & 18        \\\\\n",
       "\t Urano      &  51118     & 25559      & 8.6849e+25 & 1.290      & 2870990000 & 19.182     &  84.01     & 15        \\\\\n",
       "\t Neptuno    &  49532     & 24746      & 1.0244e+26 & 1.760      & 4504300000 & 30.058     & 164.80     &  8        \\\\\n",
       "\\end{tabular}\n"
      ],
      "text/markdown": [
       "\n",
       "planetas | diametro | radio_ecuatorial | masa | densidad | distancia_sol | semieje_mayor | per_revolucion | lunas | \n",
       "|---|---|---|---|---|---|---|---|\n",
       "| Mercurio   |   4880     |  2440      | 3.3020e+23 | 5.430      |   57910000 |  0.387     |   0.24     |  0         | \n",
       "| Venus      |  12104     |  6052      | 4.8690e+24 | 5.240      |  108200000 |  0.723     |   0.62     |  0         | \n",
       "| Tierra     |  12756     |  6378      | 5.9742e+24 | 5.515      |  149600000 |  1.000     |   1.00     |  1         | \n",
       "| Marte      |   6794     |  3397      | 6.4191e+23 | 3.940      |  227940000 |  1.524     |   1.88     |  2         | \n",
       "| Jupiter    | 142984     | 71492      | 1.8987e+27 | 1.330      |  778330000 |  5.203     |  11.86     | 16         | \n",
       "| Saturno    | 108728     | 60268      | 5.6851e+26 | 0.697      | 1429400000 |  9.539     |  29.46     | 18         | \n",
       "| Urano      |  51118     | 25559      | 8.6849e+25 | 1.290      | 2870990000 | 19.182     |  84.01     | 15         | \n",
       "| Neptuno    |  49532     | 24746      | 1.0244e+26 | 1.760      | 4504300000 | 30.058     | 164.80     |  8         | \n",
       "\n",
       "\n"
      ],
      "text/plain": [
       "  planetas diametro radio_ecuatorial masa       densidad distancia_sol\n",
       "1 Mercurio   4880    2440            3.3020e+23 5.430      57910000   \n",
       "2 Venus     12104    6052            4.8690e+24 5.240     108200000   \n",
       "3 Tierra    12756    6378            5.9742e+24 5.515     149600000   \n",
       "4 Marte      6794    3397            6.4191e+23 3.940     227940000   \n",
       "5 Jupiter  142984   71492            1.8987e+27 1.330     778330000   \n",
       "6 Saturno  108728   60268            5.6851e+26 0.697    1429400000   \n",
       "7 Urano     51118   25559            8.6849e+25 1.290    2870990000   \n",
       "8 Neptuno   49532   24746            1.0244e+26 1.760    4504300000   \n",
       "  semieje_mayor per_revolucion lunas\n",
       "1  0.387          0.24          0   \n",
       "2  0.723          0.62          0   \n",
       "3  1.000          1.00          1   \n",
       "4  1.524          1.88          2   \n",
       "5  5.203         11.86         16   \n",
       "6  9.539         29.46         18   \n",
       "7 19.182         84.01         15   \n",
       "8 30.058        164.80          8   "
      ]
     },
     "metadata": {},
     "output_type": "display_data"
    }
   ],
   "source": [
    "planetas <- c('Mercurio','Venus','Tierra','Marte','Jupiter','Saturno','Urano','Neptuno')\n",
    "diametro <- c(4880, 12104, 12756, 6794, 142984, 108728, 51118, 49532) # en km\n",
    "radio_ecuatorial <- c(2440, 6052, 6378, 3397, 71492, 60268, 25559, 24746) # en km\n",
    "masa <- c(3.302E23, 4.8690E24, 5.9742E24, 6.4191E23, 1.8987E27, 5.6851E26, 8.6849E25, 1.0244E26) # en kg\n",
    "densidad <- c(5.43, 5.24, 5.515, 3.940, 1.33, 0.697, 1.29, 1.76) # en gr/cm3\n",
    "distancia_sol <- c(57910000, 108200000, 149600000, 227940000, 778330000, 1429400000, 2870990000, 4504300000) # en km\n",
    "semieje_mayor <-c (0.387, 0.723, 1, 1.524, 5.203, 9.539, 19.182, 30.058) # en UA\n",
    "per_revolucion <- c(0.24, 0.62, 1, 1.88, 11.86, 29.46, 84.01, 164.8) # periodo de revolución en años\n",
    "lunas <- c(0,0,1,2,16,18,15,8)\n",
    "sistema_solar <- data.frame(planetas, diametro, radio_ecuatorial, masa, densidad, distancia_sol, semieje_mayor, per_revolucion, lunas)\n",
    "sistema_solar"
   ]
  },
  {
   "cell_type": "markdown",
   "metadata": {},
   "source": [
    "El siguiente código filtra los planetas cuya densidad es superior a 5"
   ]
  },
  {
   "cell_type": "code",
   "execution_count": 19,
   "metadata": {},
   "outputs": [
    {
     "data": {
      "text/html": [
       "<ol class=list-inline>\n",
       "\t<li>TRUE</li>\n",
       "\t<li>TRUE</li>\n",
       "\t<li>TRUE</li>\n",
       "\t<li>FALSE</li>\n",
       "\t<li>FALSE</li>\n",
       "\t<li>FALSE</li>\n",
       "\t<li>FALSE</li>\n",
       "\t<li>FALSE</li>\n",
       "</ol>\n"
      ],
      "text/latex": [
       "\\begin{enumerate*}\n",
       "\\item TRUE\n",
       "\\item TRUE\n",
       "\\item TRUE\n",
       "\\item FALSE\n",
       "\\item FALSE\n",
       "\\item FALSE\n",
       "\\item FALSE\n",
       "\\item FALSE\n",
       "\\end{enumerate*}\n"
      ],
      "text/markdown": [
       "1. TRUE\n",
       "2. TRUE\n",
       "3. TRUE\n",
       "4. FALSE\n",
       "5. FALSE\n",
       "6. FALSE\n",
       "7. FALSE\n",
       "8. FALSE\n",
       "\n",
       "\n"
      ],
      "text/plain": [
       "[1]  TRUE  TRUE  TRUE FALSE FALSE FALSE FALSE FALSE"
      ]
     },
     "metadata": {},
     "output_type": "display_data"
    },
    {
     "data": {
      "text/html": [
       "<ol class=list-inline>\n",
       "\t<li>Mercurio</li>\n",
       "\t<li>Venus</li>\n",
       "\t<li>Tierra</li>\n",
       "</ol>\n"
      ],
      "text/latex": [
       "\\begin{enumerate*}\n",
       "\\item Mercurio\n",
       "\\item Venus\n",
       "\\item Tierra\n",
       "\\end{enumerate*}\n"
      ],
      "text/markdown": [
       "1. Mercurio\n",
       "2. Venus\n",
       "3. Tierra\n",
       "\n",
       "\n"
      ],
      "text/plain": [
       "[1] Mercurio Venus    Tierra  \n",
       "Levels: Jupiter Marte Mercurio Neptuno Saturno Tierra Urano Venus"
      ]
     },
     "metadata": {},
     "output_type": "display_data"
    },
    {
     "data": {
      "text/html": [
       "3"
      ],
      "text/latex": [
       "3"
      ],
      "text/markdown": [
       "3"
      ],
      "text/plain": [
       "[1] 3"
      ]
     },
     "metadata": {},
     "output_type": "display_data"
    }
   ],
   "source": [
    "d5 <- sistema_solar$densidad > 5 # planetas con densidad superior a 5\n",
    "d5 # este vector se compone de los valores TRUE y FALSE\n",
    "sistema_solar$planetas[d5]\n",
    "sum (d5) # suma solos los valores TRUE"
   ]
  },
  {
   "cell_type": "code",
   "execution_count": 32,
   "metadata": {},
   "outputs": [
    {
     "data": {
      "text/html": [
       "Tierra"
      ],
      "text/latex": [
       "Tierra"
      ],
      "text/markdown": [
       "Tierra"
      ],
      "text/plain": [
       "[1] Tierra\n",
       "Levels: Jupiter Marte Mercurio Neptuno Saturno Tierra Urano Venus"
      ]
     },
     "metadata": {},
     "output_type": "display_data"
    }
   ],
   "source": [
    "d5 <- sistema_solar$densidad > 5\n",
    "lun <- sistema_solar$lunas >= 1\n",
    "sistema_solar$planetas[d5&lun] # filtra por los planetas con densidad > 5 y una o más lunas"
   ]
  },
  {
   "cell_type": "markdown",
   "metadata": {},
   "source": [
    "### which, mach, %in% ##"
   ]
  },
  {
   "cell_type": "code",
   "execution_count": 34,
   "metadata": {},
   "outputs": [
    {
     "data": {
      "text/html": [
       "<ol class=list-inline>\n",
       "\t<li>2</li>\n",
       "\t<li>4</li>\n",
       "</ol>\n"
      ],
      "text/latex": [
       "\\begin{enumerate*}\n",
       "\\item 2\n",
       "\\item 4\n",
       "\\end{enumerate*}\n"
      ],
      "text/markdown": [
       "1. 2\n",
       "2. 4\n",
       "\n",
       "\n"
      ],
      "text/plain": [
       "[1] 2 4"
      ]
     },
     "metadata": {},
     "output_type": "display_data"
    }
   ],
   "source": [
    "x <- c(FALSE, TRUE, FALSE, TRUE, FALSE)\n",
    "which(x) # nos devuelve los indices de los elementos que son TRUE"
   ]
  },
  {
   "cell_type": "code",
   "execution_count": 36,
   "metadata": {
    "scrolled": true
   },
   "outputs": [
    {
     "data": {
      "text/html": [
       "5"
      ],
      "text/latex": [
       "5"
      ],
      "text/markdown": [
       "5"
      ],
      "text/plain": [
       "[1] 5"
      ]
     },
     "metadata": {},
     "output_type": "display_data"
    }
   ],
   "source": [
    "which(sistema_solar$planetas == \"Jupiter\") # nos devuelve el indice correspondiente con el planeta \"Jupiter\""
   ]
  },
  {
   "cell_type": "code",
   "execution_count": 40,
   "metadata": {},
   "outputs": [
    {
     "data": {
      "text/html": [
       "1.33"
      ],
      "text/latex": [
       "1.33"
      ],
      "text/markdown": [
       "1.33"
      ],
      "text/plain": [
       "[1] 1.33"
      ]
     },
     "metadata": {},
     "output_type": "display_data"
    }
   ],
   "source": [
    "index = which(sistema_solar$planetas == \"Jupiter\")\n",
    "sistema_solar$densidad[index]"
   ]
  },
  {
   "cell_type": "markdown",
   "metadata": {},
   "source": [
    "match nos devuelve los indices de un vector (en otro vector) o bien NA si el elemento no se encuentra"
   ]
  },
  {
   "cell_type": "code",
   "execution_count": 44,
   "metadata": {},
   "outputs": [
    {
     "data": {
      "text/html": [
       "<ol class=list-inline>\n",
       "\t<li>3</li>\n",
       "\t<li>5</li>\n",
       "\t<li>2</li>\n",
       "</ol>\n"
      ],
      "text/latex": [
       "\\begin{enumerate*}\n",
       "\\item 3\n",
       "\\item 5\n",
       "\\item 2\n",
       "\\end{enumerate*}\n"
      ],
      "text/markdown": [
       "1. 3\n",
       "2. 5\n",
       "3. 2\n",
       "\n",
       "\n"
      ],
      "text/plain": [
       "[1] 3 5 2"
      ]
     },
     "metadata": {},
     "output_type": "display_data"
    },
    {
     "data": {
      "text/html": [
       "<ol class=list-inline>\n",
       "\t<li>3</li>\n",
       "\t<li>5</li>\n",
       "\t<li>NA</li>\n",
       "</ol>\n"
      ],
      "text/latex": [
       "\\begin{enumerate*}\n",
       "\\item 3\n",
       "\\item 5\n",
       "\\item NA\n",
       "\\end{enumerate*}\n"
      ],
      "text/markdown": [
       "1. 3\n",
       "2. 5\n",
       "3. NA\n",
       "\n",
       "\n"
      ],
      "text/plain": [
       "[1]  3  5 NA"
      ]
     },
     "metadata": {},
     "output_type": "display_data"
    }
   ],
   "source": [
    "index <- match(c(\"Tierra\", \"Jupiter\", \"Pluton\"), sistema_solar$planetas)\n",
    "index"
   ]
  },
  {
   "cell_type": "markdown",
   "metadata": {},
   "source": [
    "**%in%** nos devuelve un vector lógico indicando si un elemento está (TRUE) o no (FALSE) en otro vector"
   ]
  },
  {
   "cell_type": "code",
   "execution_count": 43,
   "metadata": {},
   "outputs": [
    {
     "data": {
      "text/html": [
       "<ol class=list-inline>\n",
       "\t<li>TRUE</li>\n",
       "\t<li>TRUE</li>\n",
       "\t<li>FALSE</li>\n",
       "</ol>\n"
      ],
      "text/latex": [
       "\\begin{enumerate*}\n",
       "\\item TRUE\n",
       "\\item TRUE\n",
       "\\item FALSE\n",
       "\\end{enumerate*}\n"
      ],
      "text/markdown": [
       "1. TRUE\n",
       "2. TRUE\n",
       "3. FALSE\n",
       "\n",
       "\n"
      ],
      "text/plain": [
       "[1]  TRUE  TRUE FALSE"
      ]
     },
     "metadata": {},
     "output_type": "display_data"
    }
   ],
   "source": [
    "x <- c(\"a\", \"b\", \"c\", \"d\", \"e\")\n",
    "y <- c(\"a\", \"d\", \"f\")\n",
    "y %in% x"
   ]
  },
  {
   "cell_type": "markdown",
   "metadata": {},
   "source": [
    "### Algunos ejemplos combinando operadores ###"
   ]
  },
  {
   "cell_type": "code",
   "execution_count": 4,
   "metadata": {},
   "outputs": [],
   "source": [
    "ciudad <- c('Madrid', 'Barcelona', 'Malaga', 'Mallorca','Sevilla')\n",
    "cod <- c('MAD', 'BCN', 'AGP','PMI','SVQ')# codigo IATA aeropuerto\n",
    "aeropuertos <- data.frame (ciudad, cod)"
   ]
  },
  {
   "cell_type": "markdown",
   "metadata": {},
   "source": [
    "encontrar el código de abbs que no está en la lista proporcionada usando los operadores which, ! y %in%"
   ]
  },
  {
   "cell_type": "code",
   "execution_count": 9,
   "metadata": {},
   "outputs": [
    {
     "data": {
      "text/html": [
       "'ZAZ'"
      ],
      "text/latex": [
       "'ZAZ'"
      ],
      "text/markdown": [
       "'ZAZ'"
      ],
      "text/plain": [
       "[1] \"ZAZ\""
      ]
     },
     "metadata": {},
     "output_type": "display_data"
    }
   ],
   "source": [
    "abbs <- c('MAD', 'BCN', 'ZAZ')\n",
    "ind_si <- abbs %in% cod # el indice de los que sí están en la lista\n",
    "ind_no <- which (!cod_si) # el indice de los que no están en la lista\n",
    "abbs[cod_no]"
   ]
  },
  {
   "cell_type": "code",
   "execution_count": 11,
   "metadata": {},
   "outputs": [
    {
     "data": {
      "text/html": [
       "'ZAZ'"
      ],
      "text/latex": [
       "'ZAZ'"
      ],
      "text/markdown": [
       "'ZAZ'"
      ],
      "text/plain": [
       "[1] \"ZAZ\""
      ]
     },
     "metadata": {},
     "output_type": "display_data"
    }
   ],
   "source": [
    "# otra solución más abreviada\n",
    "abbs <- c('MAD', 'BCN', 'ZAZ')\n",
    "ind <- which ( ! (abbs %in% cod))\n",
    "abbs[ind]"
   ]
  }
 ],
 "metadata": {
  "kernelspec": {
   "display_name": "R",
   "language": "R",
   "name": "ir"
  },
  "language_info": {
   "codemirror_mode": "r",
   "file_extension": ".r",
   "mimetype": "text/x-r-source",
   "name": "R",
   "pygments_lexer": "r",
   "version": "3.4.1"
  }
 },
 "nbformat": 4,
 "nbformat_minor": 2
}
