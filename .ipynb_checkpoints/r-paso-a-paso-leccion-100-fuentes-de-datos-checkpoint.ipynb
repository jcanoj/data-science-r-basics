{
 "cells": [
  {
   "cell_type": "markdown",
   "metadata": {},
   "source": [
    "# FUENTES DE DATOS #"
   ]
  },
  {
   "cell_type": "markdown",
   "metadata": {},
   "source": [
    "- [Common Crawl](http://commoncrawl.org/)\n",
    "- [Qué es Common Crawl](http://www.sorayapaniagua.com/2013/01/28/common-crawl-datos-gratuitos-de-cinco-mil-millones-de-paginas-web/)\n",
    "- [Machine Learning Repository](http://archive.ics.uci.edu/ml/index.php)\n",
    "- [KDnudgets Datasets for Data Mining and Data Science](https://www.kdnuggets.com/datasets/index.html)\n",
    "- [30 places to find open data on the web](https://visual.ly/blog/data-sources/)\n",
    "- [Big Data: 50 Fascinating and Free Data Sources for Data Visualization](https://www.bigdatanews.datasciencecentral.com/profiles/blogs/big-data-50-fascinating-and-free-data-sources-for-data?)"
   ]
  },
  {
   "cell_type": "code",
   "execution_count": null,
   "metadata": {},
   "outputs": [],
   "source": []
  }
 ],
 "metadata": {
  "kernelspec": {
   "display_name": "R",
   "language": "R",
   "name": "ir"
  },
  "language_info": {
   "codemirror_mode": "r",
   "file_extension": ".r",
   "mimetype": "text/x-r-source",
   "name": "R",
   "pygments_lexer": "r",
   "version": "3.4.2"
  }
 },
 "nbformat": 4,
 "nbformat_minor": 2
}
