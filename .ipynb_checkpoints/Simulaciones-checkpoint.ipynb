{
 "cells": [
  {
   "cell_type": "markdown",
   "metadata": {},
   "source": [
    "# SIMULACIONES #"
   ]
  },
  {
   "cell_type": "markdown",
   "metadata": {},
   "source": [
    "## sample ##"
   ]
  },
  {
   "cell_type": "markdown",
   "metadata": {},
   "source": [
    "**sample()** devuelve una muestra aleatoria de un conjunto. Permite indicar si esta muestra se hace con repetición (replace = TRUE por defecto) o sin ella y también indicar la probabilidad de cada elemento del conjunto"
   ]
  },
  {
   "cell_type": "code",
   "execution_count": 6,
   "metadata": {},
   "outputs": [
    {
     "name": "stdout",
     "output_type": "stream",
     "text": [
      "function (x, size, replace = FALSE, prob = NULL)  \n"
     ]
    }
   ],
   "source": [
    "str(sample)"
   ]
  },
  {
   "cell_type": "code",
   "execution_count": 1,
   "metadata": {},
   "outputs": [
    {
     "data": {
      "text/html": [
       "<ol class=list-inline>\n",
       "\t<li>4</li>\n",
       "\t<li>6</li>\n",
       "\t<li>2</li>\n",
       "\t<li>3</li>\n",
       "</ol>\n"
      ],
      "text/latex": [
       "\\begin{enumerate*}\n",
       "\\item 4\n",
       "\\item 6\n",
       "\\item 2\n",
       "\\item 3\n",
       "\\end{enumerate*}\n"
      ],
      "text/markdown": [
       "1. 4\n",
       "2. 6\n",
       "3. 2\n",
       "4. 3\n",
       "\n",
       "\n"
      ],
      "text/plain": [
       "[1] 4 6 2 3"
      ]
     },
     "metadata": {},
     "output_type": "display_data"
    }
   ],
   "source": [
    "sample(1:6, 4, replac = TRUE) # simula 4 tiradas de dados de 6 caras"
   ]
  },
  {
   "cell_type": "code",
   "execution_count": 3,
   "metadata": {},
   "outputs": [
    {
     "data": {
      "text/html": [
       "<ol class=list-inline>\n",
       "\t<li>'A'</li>\n",
       "\t<li>'B'</li>\n",
       "\t<li>'C'</li>\n",
       "\t<li>'D'</li>\n",
       "\t<li>'E'</li>\n",
       "\t<li>'F'</li>\n",
       "\t<li>'G'</li>\n",
       "\t<li>'H'</li>\n",
       "\t<li>'I'</li>\n",
       "\t<li>'J'</li>\n",
       "\t<li>'K'</li>\n",
       "\t<li>'L'</li>\n",
       "\t<li>'M'</li>\n",
       "\t<li>'N'</li>\n",
       "\t<li>'O'</li>\n",
       "\t<li>'P'</li>\n",
       "\t<li>'Q'</li>\n",
       "\t<li>'R'</li>\n",
       "\t<li>'S'</li>\n",
       "\t<li>'T'</li>\n",
       "\t<li>'U'</li>\n",
       "\t<li>'V'</li>\n",
       "\t<li>'W'</li>\n",
       "\t<li>'X'</li>\n",
       "\t<li>'Y'</li>\n",
       "\t<li>'Z'</li>\n",
       "</ol>\n"
      ],
      "text/latex": [
       "\\begin{enumerate*}\n",
       "\\item 'A'\n",
       "\\item 'B'\n",
       "\\item 'C'\n",
       "\\item 'D'\n",
       "\\item 'E'\n",
       "\\item 'F'\n",
       "\\item 'G'\n",
       "\\item 'H'\n",
       "\\item 'I'\n",
       "\\item 'J'\n",
       "\\item 'K'\n",
       "\\item 'L'\n",
       "\\item 'M'\n",
       "\\item 'N'\n",
       "\\item 'O'\n",
       "\\item 'P'\n",
       "\\item 'Q'\n",
       "\\item 'R'\n",
       "\\item 'S'\n",
       "\\item 'T'\n",
       "\\item 'U'\n",
       "\\item 'V'\n",
       "\\item 'W'\n",
       "\\item 'X'\n",
       "\\item 'Y'\n",
       "\\item 'Z'\n",
       "\\end{enumerate*}\n"
      ],
      "text/markdown": [
       "1. 'A'\n",
       "2. 'B'\n",
       "3. 'C'\n",
       "4. 'D'\n",
       "5. 'E'\n",
       "6. 'F'\n",
       "7. 'G'\n",
       "8. 'H'\n",
       "9. 'I'\n",
       "10. 'J'\n",
       "11. 'K'\n",
       "12. 'L'\n",
       "13. 'M'\n",
       "14. 'N'\n",
       "15. 'O'\n",
       "16. 'P'\n",
       "17. 'Q'\n",
       "18. 'R'\n",
       "19. 'S'\n",
       "20. 'T'\n",
       "21. 'U'\n",
       "22. 'V'\n",
       "23. 'W'\n",
       "24. 'X'\n",
       "25. 'Y'\n",
       "26. 'Z'\n",
       "\n",
       "\n"
      ],
      "text/plain": [
       " [1] \"A\" \"B\" \"C\" \"D\" \"E\" \"F\" \"G\" \"H\" \"I\" \"J\" \"K\" \"L\" \"M\" \"N\" \"O\" \"P\" \"Q\" \"R\" \"S\"\n",
       "[20] \"T\" \"U\" \"V\" \"W\" \"X\" \"Y\" \"Z\""
      ]
     },
     "metadata": {},
     "output_type": "display_data"
    }
   ],
   "source": [
    "LETTERS # variable predefinida en R que contiene las letras del alfabeto"
   ]
  },
  {
   "cell_type": "code",
   "execution_count": 4,
   "metadata": {},
   "outputs": [
    {
     "data": {
      "text/html": [
       "<ol class=list-inline>\n",
       "\t<li>'J'</li>\n",
       "\t<li>'S'</li>\n",
       "\t<li>'W'</li>\n",
       "\t<li>'G'</li>\n",
       "\t<li>'E'</li>\n",
       "\t<li>'I'</li>\n",
       "\t<li>'D'</li>\n",
       "\t<li>'N'</li>\n",
       "\t<li>'U'</li>\n",
       "\t<li>'O'</li>\n",
       "\t<li>'K'</li>\n",
       "\t<li>'C'</li>\n",
       "\t<li>'Z'</li>\n",
       "\t<li>'Y'</li>\n",
       "\t<li>'F'</li>\n",
       "\t<li>'P'</li>\n",
       "\t<li>'L'</li>\n",
       "\t<li>'R'</li>\n",
       "\t<li>'V'</li>\n",
       "\t<li>'X'</li>\n",
       "\t<li>'B'</li>\n",
       "\t<li>'A'</li>\n",
       "\t<li>'M'</li>\n",
       "\t<li>'Q'</li>\n",
       "\t<li>'T'</li>\n",
       "\t<li>'H'</li>\n",
       "</ol>\n"
      ],
      "text/latex": [
       "\\begin{enumerate*}\n",
       "\\item 'J'\n",
       "\\item 'S'\n",
       "\\item 'W'\n",
       "\\item 'G'\n",
       "\\item 'E'\n",
       "\\item 'I'\n",
       "\\item 'D'\n",
       "\\item 'N'\n",
       "\\item 'U'\n",
       "\\item 'O'\n",
       "\\item 'K'\n",
       "\\item 'C'\n",
       "\\item 'Z'\n",
       "\\item 'Y'\n",
       "\\item 'F'\n",
       "\\item 'P'\n",
       "\\item 'L'\n",
       "\\item 'R'\n",
       "\\item 'V'\n",
       "\\item 'X'\n",
       "\\item 'B'\n",
       "\\item 'A'\n",
       "\\item 'M'\n",
       "\\item 'Q'\n",
       "\\item 'T'\n",
       "\\item 'H'\n",
       "\\end{enumerate*}\n"
      ],
      "text/markdown": [
       "1. 'J'\n",
       "2. 'S'\n",
       "3. 'W'\n",
       "4. 'G'\n",
       "5. 'E'\n",
       "6. 'I'\n",
       "7. 'D'\n",
       "8. 'N'\n",
       "9. 'U'\n",
       "10. 'O'\n",
       "11. 'K'\n",
       "12. 'C'\n",
       "13. 'Z'\n",
       "14. 'Y'\n",
       "15. 'F'\n",
       "16. 'P'\n",
       "17. 'L'\n",
       "18. 'R'\n",
       "19. 'V'\n",
       "20. 'X'\n",
       "21. 'B'\n",
       "22. 'A'\n",
       "23. 'M'\n",
       "24. 'Q'\n",
       "25. 'T'\n",
       "26. 'H'\n",
       "\n",
       "\n"
      ],
      "text/plain": [
       " [1] \"J\" \"S\" \"W\" \"G\" \"E\" \"I\" \"D\" \"N\" \"U\" \"O\" \"K\" \"C\" \"Z\" \"Y\" \"F\" \"P\" \"L\" \"R\" \"V\"\n",
       "[20] \"X\" \"B\" \"A\" \"M\" \"Q\" \"T\" \"H\""
      ]
     },
     "metadata": {},
     "output_type": "display_data"
    }
   ],
   "source": [
    "sample(LETTERS)"
   ]
  },
  {
   "cell_type": "code",
   "execution_count": 5,
   "metadata": {},
   "outputs": [],
   "source": [
    "flips <- sample(c(0,1), 100, replace = TRUE, prob = c(0.3, 0.7)) # simula 100 tiradas de una moneda \"trucada\""
   ]
  },
  {
   "cell_type": "code",
   "execution_count": 7,
   "metadata": {},
   "outputs": [
    {
     "data": {
      "text/html": [
       "75"
      ],
      "text/latex": [
       "75"
      ],
      "text/markdown": [
       "75"
      ],
      "text/plain": [
       "[1] 75"
      ]
     },
     "metadata": {},
     "output_type": "display_data"
    }
   ],
   "source": [
    "sum(flips) # devuelve la suma de los \"1\" que es su probabilidad también al ser la muestra = 100"
   ]
  },
  {
   "cell_type": "markdown",
   "metadata": {},
   "source": [
    "## Distribuciones de probabilidad en R##"
   ]
  },
  {
   "cell_type": "markdown",
   "metadata": {},
   "source": [
    "R incluye varias distribuciones de probabilidad entre ellas la binomial\n",
    "\n",
    "Para todas ellas, R tiene una función que comienza por **r** (de ramdon) de muestreo aleatorio, **d** de densidad, **p** de probabilidad y **q** de quantile.\n",
    "\n",
    "- **rbinom** es la función de muestreo aleatorio de la **distribución binomial**. La distribución binomial cuenta el número de éxitos en una secuencia de n ensayos independientes entre sí.\n",
    "\n",
    "- **rnorm** es la función de muestreo aleatorio de la **distribución normal**. Tiene por defecto valores de media = 0 y desviación estándar = 1\n",
    "\n",
    "- **rpois** es la funciónd de muestreo aleatorio de la **distribución de poisson**"
   ]
  },
  {
   "cell_type": "code",
   "execution_count": 9,
   "metadata": {},
   "outputs": [
    {
     "name": "stdout",
     "output_type": "stream",
     "text": [
      "function (n, size, prob)  \n"
     ]
    }
   ],
   "source": [
    "str(rbinom)"
   ]
  },
  {
   "cell_type": "code",
   "execution_count": 10,
   "metadata": {},
   "outputs": [
    {
     "data": {
      "text/html": [
       "74"
      ],
      "text/latex": [
       "74"
      ],
      "text/markdown": [
       "74"
      ],
      "text/plain": [
       "[1] 74"
      ]
     },
     "metadata": {},
     "output_type": "display_data"
    }
   ],
   "source": [
    "rbinom(1, size = 100, prob = 0.7) # simula 100 experimentos con probabilidad de exito 0.7"
   ]
  },
  {
   "cell_type": "code",
   "execution_count": 13,
   "metadata": {},
   "outputs": [
    {
     "ename": "ERROR",
     "evalue": "Error in png(tf, width, height, \"in\", pointsize, bg, res, antialias = antialias): unable to start png() device\n",
     "output_type": "error",
     "traceback": [
      "Error in png(tf, width, height, \"in\", pointsize, bg, res, antialias = antialias): unable to start png() device\nTraceback:\n"
     ]
    },
    {
     "data": {
      "text/plain": [
       "plot without title"
      ]
     },
     "metadata": {},
     "output_type": "display_data"
    }
   ],
   "source": [
    "data <- rbinom(1, size = 100, prob = 0.7)\n",
    "plot(data)"
   ]
  },
  {
   "cell_type": "code",
   "execution_count": null,
   "metadata": {},
   "outputs": [],
   "source": [
    "flips2 <- rbinom(100, size = 1, prob = 0.7) # genera "
   ]
  },
  {
   "cell_type": "code",
   "execution_count": 11,
   "metadata": {},
   "outputs": [
    {
     "data": {
      "text/html": [
       "<ol class=list-inline>\n",
       "\t<li>-1.27633816910284</li>\n",
       "\t<li>-0.696929026011387</li>\n",
       "\t<li>-1.220085540748</li>\n",
       "\t<li>-0.591219059351924</li>\n",
       "\t<li>-0.549733501447313</li>\n",
       "\t<li>-0.888015568195616</li>\n",
       "\t<li>-0.0985590492744582</li>\n",
       "\t<li>1.12363822346494</li>\n",
       "\t<li>0.604831169654067</li>\n",
       "\t<li>-0.22861434169253</li>\n",
       "</ol>\n"
      ],
      "text/latex": [
       "\\begin{enumerate*}\n",
       "\\item -1.27633816910284\n",
       "\\item -0.696929026011387\n",
       "\\item -1.220085540748\n",
       "\\item -0.591219059351924\n",
       "\\item -0.549733501447313\n",
       "\\item -0.888015568195616\n",
       "\\item -0.0985590492744582\n",
       "\\item 1.12363822346494\n",
       "\\item 0.604831169654067\n",
       "\\item -0.22861434169253\n",
       "\\end{enumerate*}\n"
      ],
      "text/markdown": [
       "1. -1.27633816910284\n",
       "2. -0.696929026011387\n",
       "3. -1.220085540748\n",
       "4. -0.591219059351924\n",
       "5. -0.549733501447313\n",
       "6. -0.888015568195616\n",
       "7. -0.0985590492744582\n",
       "8. 1.12363822346494\n",
       "9. 0.604831169654067\n",
       "10. -0.22861434169253\n",
       "\n",
       "\n"
      ],
      "text/plain": [
       " [1] -1.27633817 -0.69692903 -1.22008554 -0.59121906 -0.54973350 -0.88801557\n",
       " [7] -0.09855905  1.12363822  0.60483117 -0.22861434"
      ]
     },
     "metadata": {},
     "output_type": "display_data"
    }
   ],
   "source": [
    "rnorm(10)"
   ]
  },
  {
   "cell_type": "code",
   "execution_count": 12,
   "metadata": {},
   "outputs": [
    {
     "data": {
      "text/html": [
       "<ol class=list-inline>\n",
       "\t<li>82.7752753368615</li>\n",
       "\t<li>86.6622574044969</li>\n",
       "\t<li>76.0938194468019</li>\n",
       "\t<li>117.391101152206</li>\n",
       "\t<li>82.494646862794</li>\n",
       "\t<li>41.2294697386568</li>\n",
       "\t<li>75.6222093795992</li>\n",
       "\t<li>80.0372108617528</li>\n",
       "\t<li>110.922446036759</li>\n",
       "\t<li>112.437624049425</li>\n",
       "</ol>\n"
      ],
      "text/latex": [
       "\\begin{enumerate*}\n",
       "\\item 82.7752753368615\n",
       "\\item 86.6622574044969\n",
       "\\item 76.0938194468019\n",
       "\\item 117.391101152206\n",
       "\\item 82.494646862794\n",
       "\\item 41.2294697386568\n",
       "\\item 75.6222093795992\n",
       "\\item 80.0372108617528\n",
       "\\item 110.922446036759\n",
       "\\item 112.437624049425\n",
       "\\end{enumerate*}\n"
      ],
      "text/markdown": [
       "1. 82.7752753368615\n",
       "2. 86.6622574044969\n",
       "3. 76.0938194468019\n",
       "4. 117.391101152206\n",
       "5. 82.494646862794\n",
       "6. 41.2294697386568\n",
       "7. 75.6222093795992\n",
       "8. 80.0372108617528\n",
       "9. 110.922446036759\n",
       "10. 112.437624049425\n",
       "\n",
       "\n"
      ],
      "text/plain": [
       " [1]  82.77528  86.66226  76.09382 117.39110  82.49465  41.22947  75.62221\n",
       " [8]  80.03721 110.92245 112.43762"
      ]
     },
     "metadata": {},
     "output_type": "display_data"
    }
   ],
   "source": [
    "rnorm(10, mean = 100, sd = 25)"
   ]
  },
  {
   "cell_type": "code",
   "execution_count": 1,
   "metadata": {},
   "outputs": [
    {
     "data": {
      "text/html": [
       "<ol class=list-inline>\n",
       "\t<li>10</li>\n",
       "\t<li>8</li>\n",
       "\t<li>10</li>\n",
       "\t<li>9</li>\n",
       "\t<li>9</li>\n",
       "</ol>\n"
      ],
      "text/latex": [
       "\\begin{enumerate*}\n",
       "\\item 10\n",
       "\\item 8\n",
       "\\item 10\n",
       "\\item 9\n",
       "\\item 9\n",
       "\\end{enumerate*}\n"
      ],
      "text/markdown": [
       "1. 10\n",
       "2. 8\n",
       "3. 10\n",
       "4. 9\n",
       "5. 9\n",
       "\n",
       "\n"
      ],
      "text/plain": [
       "[1] 10  8 10  9  9"
      ]
     },
     "metadata": {},
     "output_type": "display_data"
    }
   ],
   "source": [
    "rpois(5, lambda = 10) # genera 5 números de una distribución de poisson de media(lambda) = 5"
   ]
  },
  {
   "cell_type": "code",
   "execution_count": 2,
   "metadata": {},
   "outputs": [],
   "source": [
    "my_pois <- replicate(100, rpois(5,10)) # matriz de 100 muestras de 5 valores cada uno"
   ]
  },
  {
   "cell_type": "code",
   "execution_count": 3,
   "metadata": {},
   "outputs": [
    {
     "data": {
      "text/html": [
       "'matrix'"
      ],
      "text/latex": [
       "'matrix'"
      ],
      "text/markdown": [
       "'matrix'"
      ],
      "text/plain": [
       "[1] \"matrix\""
      ]
     },
     "metadata": {},
     "output_type": "display_data"
    }
   ],
   "source": [
    "class(my_pois)"
   ]
  },
  {
   "cell_type": "code",
   "execution_count": 4,
   "metadata": {},
   "outputs": [
    {
     "data": {
      "image/png": "[encoded data removed]",
      "text/plain": [
       "Plot with title \"Histogram of cm\""
      ]
     },
     "metadata": {},
     "output_type": "display_data"
    }
   ],
   "source": [
    "cm <- colMeans(my_pois) # vector con la media de cada columna\n",
    "hist(cm)"
   ]
  },
  {
   "cell_type": "markdown",
   "metadata": {},
   "source": [
    "El histograma de cm es una distribución normal (**Teorema del Límite Central**)"
   ]
  },
  {
   "cell_type": "code",
   "execution_count": null,
   "metadata": {},
   "outputs": [],
   "source": []
  }
 ],
 "metadata": {
  "kernelspec": {
   "display_name": "R",
   "language": "R",
   "name": "ir"
  },
  "language_info": {
   "codemirror_mode": "r",
   "file_extension": ".r",
   "mimetype": "text/x-r-source",
   "name": "R",
   "pygments_lexer": "r",
   "version": "3.4.2"
  }
 },
 "nbformat": 4,
 "nbformat_minor": 2
}
