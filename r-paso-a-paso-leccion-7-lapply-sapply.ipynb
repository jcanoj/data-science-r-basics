{
 "cells": [
  {
   "cell_type": "markdown",
   "metadata": {},
   "source": [
    "# lapply, sapply, vapply, apply, tapply, mapply #"
   ]
  },
  {
   "cell_type": "markdown",
   "metadata": {},
   "source": [
    "Writing for-while loops are not particulary easy when working with the command line. There are some functons which implement looping to make life easier\n",
    "\n",
    "- lapply: loop over a list and evaluate a function on each element\n",
    "- sapply: same as lapply but try to simplify the result\n",
    "- vapply: similar to sapply but has a pre-specified type of return value, so it can be safer (and sometimes faster) to use.\n",
    "- apply: apply a function over the margins of an array\n",
    "- tapply: apply a function over subsets of a vector\n",
    "- mapply: multivariate version of lapply.\n",
    "\n",
    "An auxiliary function split is also useful, particulary in conjunction with lapply"
   ]
  },
  {
   "cell_type": "markdown",
   "metadata": {},
   "source": [
    "## lapply ##"
   ]
  },
  {
   "cell_type": "code",
   "execution_count": 13,
   "metadata": {},
   "outputs": [
    {
     "name": "stdout",
     "output_type": "stream",
     "text": [
      "function (X, FUN, ...)  \n"
     ]
    }
   ],
   "source": [
    "str(lapply)"
   ]
  },
  {
   "cell_type": "markdown",
   "metadata": {},
   "source": [
    "lapply takes three arguments:\n",
    "- a list (if not a list, it will be coerced with as.list)\n",
    "- a function\n",
    "- other arguments via \"...\" argument (arguments that goes with the function)\n",
    "\n",
    "lapply always return a list! ('l' stand for list)"
   ]
  },
  {
   "cell_type": "code",
   "execution_count": 3,
   "metadata": {},
   "outputs": [
    {
     "data": {
      "text/html": [
       "<dl>\n",
       "\t<dt>$a</dt>\n",
       "\t\t<dd>3</dd>\n",
       "\t<dt>$b</dt>\n",
       "\t\t<dd>0.213983581388985</dd>\n",
       "</dl>\n"
      ],
      "text/latex": [
       "\\begin{description}\n",
       "\\item[\\$a] 3\n",
       "\\item[\\$b] 0.213983581388985\n",
       "\\end{description}\n"
      ],
      "text/markdown": [
       "$a\n",
       ":   3\n",
       "$b\n",
       ":   0.213983581388985\n",
       "\n",
       "\n"
      ],
      "text/plain": [
       "$a\n",
       "[1] 3\n",
       "\n",
       "$b\n",
       "[1] 0.2139836\n"
      ]
     },
     "metadata": {},
     "output_type": "display_data"
    }
   ],
   "source": [
    "x <- list(a = 1:5, b = rnorm(10))\n",
    "lapply(x,mean)"
   ]
  },
  {
   "cell_type": "markdown",
   "metadata": {},
   "source": [
    "lapply can make use of anonymous functions"
   ]
  },
  {
   "cell_type": "code",
   "execution_count": 1,
   "metadata": {
    "scrolled": true
   },
   "outputs": [
    {
     "data": {
      "text/html": [
       "<dl>\n",
       "\t<dt>$a</dt>\n",
       "\t\t<dd><ol class=list-inline>\n",
       "\t<li>1</li>\n",
       "\t<li>2</li>\n",
       "</ol>\n",
       "</dd>\n",
       "\t<dt>$b</dt>\n",
       "\t\t<dd><ol class=list-inline>\n",
       "\t<li>1</li>\n",
       "\t<li>2</li>\n",
       "\t<li>3</li>\n",
       "</ol>\n",
       "</dd>\n",
       "</dl>\n"
      ],
      "text/latex": [
       "\\begin{description}\n",
       "\\item[\\$a] \\begin{enumerate*}\n",
       "\\item 1\n",
       "\\item 2\n",
       "\\end{enumerate*}\n",
       "\n",
       "\\item[\\$b] \\begin{enumerate*}\n",
       "\\item 1\n",
       "\\item 2\n",
       "\\item 3\n",
       "\\end{enumerate*}\n",
       "\n",
       "\\end{description}\n"
      ],
      "text/markdown": [
       "$a\n",
       ":   1. 1\n",
       "2. 2\n",
       "\n",
       "\n",
       "\n",
       "$b\n",
       ":   1. 1\n",
       "2. 2\n",
       "3. 3\n",
       "\n",
       "\n",
       "\n",
       "\n",
       "\n"
      ],
      "text/plain": [
       "$a\n",
       "[1] 1 2\n",
       "\n",
       "$b\n",
       "[1] 1 2 3\n"
      ]
     },
     "metadata": {},
     "output_type": "display_data"
    }
   ],
   "source": [
    "# extract the first column of each matrix\n",
    "x <- list(a = matrix(1:4, 2,2), b = matrix(1:6, 3,2))\n",
    "lapply(x, function(elt) elt[,1]) # function(elt) only exists insdie lapply"
   ]
  },
  {
   "cell_type": "markdown",
   "metadata": {},
   "source": [
    "## sapply ##"
   ]
  },
  {
   "cell_type": "markdown",
   "metadata": {},
   "source": [
    "sapply will try to simplify the result of lapply if possilbe\n",
    "- if the result is a list where every elementh is length 1, then a vector is returned\n",
    "- if the result is a lit where every element is a vector of the same length (>1), a matrix is returned\n",
    "- otherwise a list is returned"
   ]
  },
  {
   "cell_type": "code",
   "execution_count": 11,
   "metadata": {
    "scrolled": true
   },
   "outputs": [
    {
     "data": {
      "text/html": [
       "<dl class=dl-horizontal>\n",
       "\t<dt>a</dt>\n",
       "\t\t<dd>3</dd>\n",
       "\t<dt>b</dt>\n",
       "\t\t<dd>0.532964074234839</dd>\n",
       "</dl>\n"
      ],
      "text/latex": [
       "\\begin{description*}\n",
       "\\item[a] 3\n",
       "\\item[b] 0.532964074234839\n",
       "\\end{description*}\n"
      ],
      "text/markdown": [
       "a\n",
       ":   3b\n",
       ":   0.532964074234839\n",
       "\n"
      ],
      "text/plain": [
       "        a         b \n",
       "3.0000000 0.5329641 "
      ]
     },
     "metadata": {},
     "output_type": "display_data"
    }
   ],
   "source": [
    "x <- list(a = 1:5, b = rnorm(10))\n",
    "sapply(x, mean)"
   ]
  },
  {
   "cell_type": "code",
   "execution_count": 11,
   "metadata": {},
   "outputs": [
    {
     "data": {
      "text/html": [
       "<dl class=dl-horizontal>\n",
       "\t<dt>Sepal.Length</dt>\n",
       "\t\t<dd>'numeric'</dd>\n",
       "\t<dt>Sepal.Width</dt>\n",
       "\t\t<dd>'numeric'</dd>\n",
       "\t<dt>Petal.Length</dt>\n",
       "\t\t<dd>'numeric'</dd>\n",
       "\t<dt>Petal.Width</dt>\n",
       "\t\t<dd>'numeric'</dd>\n",
       "\t<dt>Species</dt>\n",
       "\t\t<dd>'factor'</dd>\n",
       "</dl>\n"
      ],
      "text/latex": [
       "\\begin{description*}\n",
       "\\item[Sepal.Length] 'numeric'\n",
       "\\item[Sepal.Width] 'numeric'\n",
       "\\item[Petal.Length] 'numeric'\n",
       "\\item[Petal.Width] 'numeric'\n",
       "\\item[Species] 'factor'\n",
       "\\end{description*}\n"
      ],
      "text/markdown": [
       "Sepal.Length\n",
       ":   'numeric'Sepal.Width\n",
       ":   'numeric'Petal.Length\n",
       ":   'numeric'Petal.Width\n",
       ":   'numeric'Species\n",
       ":   'factor'\n",
       "\n"
      ],
      "text/plain": [
       "Sepal.Length  Sepal.Width Petal.Length  Petal.Width      Species \n",
       "   \"numeric\"    \"numeric\"    \"numeric\"    \"numeric\"     \"factor\" "
      ]
     },
     "metadata": {},
     "output_type": "display_data"
    }
   ],
   "source": [
    "sapply(iris, class)"
   ]
  },
  {
   "cell_type": "markdown",
   "metadata": {},
   "source": [
    "## vapply ##"
   ]
  },
  {
   "cell_type": "markdown",
   "metadata": {},
   "source": [
    "Aunque sapply trata de mostrar los resultados de la forma más adecuada, esto puede ser causa de problemas si en un script esperamos un determinado tipo. **vapply** permite especificar el tipo devuelto. En el caso de que el tipo devuelto no sea igual al especificado, vapply generará un error, parando la ejecución del script"
   ]
  },
  {
   "cell_type": "code",
   "execution_count": 9,
   "metadata": {
    "scrolled": true
   },
   "outputs": [
    {
     "data": {
      "text/html": [
       "<table>\n",
       "<thead><tr><th scope=col>Sepal.Length</th><th scope=col>Sepal.Width</th><th scope=col>Petal.Length</th><th scope=col>Petal.Width</th></tr></thead>\n",
       "<tbody>\n",
       "\t<tr><td>4.3</td><td>2.0</td><td>1.0</td><td>0.1</td></tr>\n",
       "\t<tr><td>7.9</td><td>4.4</td><td>6.9</td><td>2.5</td></tr>\n",
       "</tbody>\n",
       "</table>\n"
      ],
      "text/latex": [
       "\\begin{tabular}{llll}\n",
       " Sepal.Length & Sepal.Width & Petal.Length & Petal.Width\\\\\n",
       "\\hline\n",
       "\t 4.3 & 2.0 & 1.0 & 0.1\\\\\n",
       "\t 7.9 & 4.4 & 6.9 & 2.5\\\\\n",
       "\\end{tabular}\n"
      ],
      "text/markdown": [
       "\n",
       "Sepal.Length | Sepal.Width | Petal.Length | Petal.Width | \n",
       "|---|---|\n",
       "| 4.3 | 2.0 | 1.0 | 0.1 | \n",
       "| 7.9 | 4.4 | 6.9 | 2.5 | \n",
       "\n",
       "\n"
      ],
      "text/plain": [
       "     Sepal.Length Sepal.Width Petal.Length Petal.Width\n",
       "[1,] 4.3          2.0         1.0          0.1        \n",
       "[2,] 7.9          4.4         6.9          2.5        "
      ]
     },
     "metadata": {},
     "output_type": "display_data"
    },
    {
     "data": {
      "text/html": [
       "'matrix'"
      ],
      "text/latex": [
       "'matrix'"
      ],
      "text/markdown": [
       "'matrix'"
      ],
      "text/plain": [
       "[1] \"matrix\""
      ]
     },
     "metadata": {},
     "output_type": "display_data"
    },
    {
     "ename": "ERROR",
     "evalue": "Error in vapply(iris[, 1:4], range, integer(2)): valores deben ser del tipo 'integer',\npero el resultado FUN(X[[1]])  es del tipo  'double'\n",
     "output_type": "error",
     "traceback": [
      "Error in vapply(iris[, 1:4], range, integer(2)): valores deben ser del tipo 'integer',\npero el resultado FUN(X[[1]])  es del tipo  'double'\nTraceback:\n",
      "1. vapply(iris[, 1:4], range, integer(2))"
     ]
    }
   ],
   "source": [
    "iris_min_max <- sapply(iris[,1:4], range)\n",
    "iris_min_max\n",
    "class(iris_min_max)\n",
    "vapply(iris[,1:4], range, integer(2)) # incorrecto; los valores devueltos son numericos"
   ]
  },
  {
   "cell_type": "code",
   "execution_count": 10,
   "metadata": {},
   "outputs": [
    {
     "data": {
      "text/html": [
       "<table>\n",
       "<thead><tr><th scope=col>Sepal.Length</th><th scope=col>Sepal.Width</th><th scope=col>Petal.Length</th><th scope=col>Petal.Width</th></tr></thead>\n",
       "<tbody>\n",
       "\t<tr><td>4.3</td><td>2.0</td><td>1.0</td><td>0.1</td></tr>\n",
       "\t<tr><td>7.9</td><td>4.4</td><td>6.9</td><td>2.5</td></tr>\n",
       "</tbody>\n",
       "</table>\n"
      ],
      "text/latex": [
       "\\begin{tabular}{llll}\n",
       " Sepal.Length & Sepal.Width & Petal.Length & Petal.Width\\\\\n",
       "\\hline\n",
       "\t 4.3 & 2.0 & 1.0 & 0.1\\\\\n",
       "\t 7.9 & 4.4 & 6.9 & 2.5\\\\\n",
       "\\end{tabular}\n"
      ],
      "text/markdown": [
       "\n",
       "Sepal.Length | Sepal.Width | Petal.Length | Petal.Width | \n",
       "|---|---|\n",
       "| 4.3 | 2.0 | 1.0 | 0.1 | \n",
       "| 7.9 | 4.4 | 6.9 | 2.5 | \n",
       "\n",
       "\n"
      ],
      "text/plain": [
       "     Sepal.Length Sepal.Width Petal.Length Petal.Width\n",
       "[1,] 4.3          2.0         1.0          0.1        \n",
       "[2,] 7.9          4.4         6.9          2.5        "
      ]
     },
     "metadata": {},
     "output_type": "display_data"
    }
   ],
   "source": [
    "vapply(iris[,1:4], range, numeric(2))"
   ]
  },
  {
   "cell_type": "markdown",
   "metadata": {},
   "source": [
    "## apply ##"
   ]
  },
  {
   "cell_type": "markdown",
   "metadata": {},
   "source": [
    "apply is used to evaluate a function (often an anonymous one) over the margins of an array\n",
    "- it is most often used to apply a functoin to the rows or columns of a matrix\n",
    "- it can be used with general arrays, taking the average of an array of matrices\n",
    "- it is not really faster than writing a loop, but it works in one line!"
   ]
  },
  {
   "cell_type": "code",
   "execution_count": 12,
   "metadata": {},
   "outputs": [
    {
     "name": "stdout",
     "output_type": "stream",
     "text": [
      "function (X, MARGIN, FUN, ...)  \n"
     ]
    }
   ],
   "source": [
    "str(apply)"
   ]
  },
  {
   "cell_type": "markdown",
   "metadata": {},
   "source": [
    "apply takes thre arguments:\n",
    "- an array (X)\n",
    "- MARGIN is an integer vector indicating which margin should be \"retained\"\n",
    "- FUN is a function to be applied\n",
    "- \"...\" is for other arguments to be passed to FUN"
   ]
  },
  {
   "cell_type": "code",
   "execution_count": 21,
   "metadata": {},
   "outputs": [
    {
     "data": {
      "text/html": [
       "<ol class=list-inline>\n",
       "\t<li>-0.168461082574752</li>\n",
       "\t<li>-0.00138717051476523</li>\n",
       "\t<li>-0.339598767337312</li>\n",
       "\t<li>-0.176263148602332</li>\n",
       "\t<li>-0.0139002719930247</li>\n",
       "\t<li>-0.142645435013942</li>\n",
       "\t<li>0.27424007915868</li>\n",
       "\t<li>-0.442676798551337</li>\n",
       "\t<li>-0.0429835396087666</li>\n",
       "\t<li>0.270769761934476</li>\n",
       "</ol>\n"
      ],
      "text/latex": [
       "\\begin{enumerate*}\n",
       "\\item -0.168461082574752\n",
       "\\item -0.00138717051476523\n",
       "\\item -0.339598767337312\n",
       "\\item -0.176263148602332\n",
       "\\item -0.0139002719930247\n",
       "\\item -0.142645435013942\n",
       "\\item 0.27424007915868\n",
       "\\item -0.442676798551337\n",
       "\\item -0.0429835396087666\n",
       "\\item 0.270769761934476\n",
       "\\end{enumerate*}\n"
      ],
      "text/markdown": [
       "1. -0.168461082574752\n",
       "2. -0.00138717051476523\n",
       "3. -0.339598767337312\n",
       "4. -0.176263148602332\n",
       "5. -0.0139002719930247\n",
       "6. -0.142645435013942\n",
       "7. 0.27424007915868\n",
       "8. -0.442676798551337\n",
       "9. -0.0429835396087666\n",
       "10. 0.270769761934476\n",
       "\n",
       "\n"
      ],
      "text/plain": [
       " [1] -0.168461083 -0.001387171 -0.339598767 -0.176263149 -0.013900272\n",
       " [6] -0.142645435  0.274240079 -0.442676799 -0.042983540  0.270769762"
      ]
     },
     "metadata": {},
     "output_type": "display_data"
    },
    {
     "data": {
      "text/html": [
       "<ol class=list-inline>\n",
       "\t<li>-1.53416424230399</li>\n",
       "\t<li>-4.00781875672157</li>\n",
       "\t<li>-8.8831900307809</li>\n",
       "\t<li>-0.177920570486089</li>\n",
       "\t<li>-3.07626664997552</li>\n",
       "\t<li>2.14506492717555</li>\n",
       "\t<li>-6.66483934495556</li>\n",
       "\t<li>1.67374434272216</li>\n",
       "\t<li>4.30452586462862</li>\n",
       "\t<li>-0.541834423163471</li>\n",
       "\t<li>-0.999720076953853</li>\n",
       "\t<li>4.24020582842474</li>\n",
       "\t<li>1.3450252900239</li>\n",
       "\t<li>-3.40955429357209</li>\n",
       "\t<li>-0.283917811089936</li>\n",
       "\t<li>5.37659741942578</li>\n",
       "\t<li>-1.40220752148741</li>\n",
       "\t<li>-0.156237525498366</li>\n",
       "\t<li>-6.53575657115363</li>\n",
       "\t<li>2.93013668368015</li>\n",
       "</ol>\n"
      ],
      "text/latex": [
       "\\begin{enumerate*}\n",
       "\\item -1.53416424230399\n",
       "\\item -4.00781875672157\n",
       "\\item -8.8831900307809\n",
       "\\item -0.177920570486089\n",
       "\\item -3.07626664997552\n",
       "\\item 2.14506492717555\n",
       "\\item -6.66483934495556\n",
       "\\item 1.67374434272216\n",
       "\\item 4.30452586462862\n",
       "\\item -0.541834423163471\n",
       "\\item -0.999720076953853\n",
       "\\item 4.24020582842474\n",
       "\\item 1.3450252900239\n",
       "\\item -3.40955429357209\n",
       "\\item -0.283917811089936\n",
       "\\item 5.37659741942578\n",
       "\\item -1.40220752148741\n",
       "\\item -0.156237525498366\n",
       "\\item -6.53575657115363\n",
       "\\item 2.93013668368015\n",
       "\\end{enumerate*}\n"
      ],
      "text/markdown": [
       "1. -1.53416424230399\n",
       "2. -4.00781875672157\n",
       "3. -8.8831900307809\n",
       "4. -0.177920570486089\n",
       "5. -3.07626664997552\n",
       "6. 2.14506492717555\n",
       "7. -6.66483934495556\n",
       "8. 1.67374434272216\n",
       "9. 4.30452586462862\n",
       "10. -0.541834423163471\n",
       "11. -0.999720076953853\n",
       "12. 4.24020582842474\n",
       "13. 1.3450252900239\n",
       "14. -3.40955429357209\n",
       "15. -0.283917811089936\n",
       "16. 5.37659741942578\n",
       "17. -1.40220752148741\n",
       "18. -0.156237525498366\n",
       "19. -6.53575657115363\n",
       "20. 2.93013668368015\n",
       "\n",
       "\n"
      ],
      "text/plain": [
       " [1] -1.5341642 -4.0078188 -8.8831900 -0.1779206 -3.0762666  2.1450649\n",
       " [7] -6.6648393  1.6737443  4.3045259 -0.5418344 -0.9997201  4.2402058\n",
       "[13]  1.3450253 -3.4095543 -0.2839178  5.3765974 -1.4022075 -0.1562375\n",
       "[19] -6.5357566  2.9301367"
      ]
     },
     "metadata": {},
     "output_type": "display_data"
    }
   ],
   "source": [
    "x <- matrix(rnorm(200), 20, 10) # matrix 20 rows by 10 columns of random \n",
    "apply(x,2,mean) # margin = 2 means calculate the mean of the columns\n",
    "apply(x,1,sum) # margins = 1, sumar las filas"
   ]
  },
  {
   "cell_type": "markdown",
   "metadata": {},
   "source": [
    "for sums and means of matrix dimensions, there are functions much faster:\n",
    "- rowSums = apply (x,1,sum)\n",
    "- rowMeans = apply(x,1,mean)\n",
    "- colSums = apply(x,2,sum)\n",
    "- colMeans = apply(x,2, mean)"
   ]
  },
  {
   "cell_type": "markdown",
   "metadata": {},
   "source": [
    "Los argumentos adicionales de las funciones que usemos con apply, llevan sus argumentos a continuación de la función. En este ejemplo usamos la función **quantile** que requiere de un vector con las cantidades que queremos calcular. **Quantile** devuelve dos valores. **Apply** creará una matriz con estos valores"
   ]
  },
  {
   "cell_type": "code",
   "execution_count": 24,
   "metadata": {},
   "outputs": [
    {
     "data": {
      "text/html": [
       "<table>\n",
       "<tbody>\n",
       "\t<tr><th scope=row>25%</th><td>-1.1281165  </td><td>-0.6551563  </td><td>-1.2461853  </td><td>-0.2946508  </td><td>-0.6462725  </td><td>-0.1821137  </td><td>-0.3555318  </td><td>-0.1891911  </td><td>-0.5374931  </td><td>-0.7787305  </td><td>-0.75984242 </td><td>-0.3472447  </td><td>0.003965777 </td><td>-0.40480287 </td><td>-0.09510317 </td><td>-0.616001926</td><td>-1.033804   </td><td>-0.5833867  </td><td>-0.8369061  </td><td>-0.7461815  </td></tr>\n",
       "\t<tr><th scope=row>75%</th><td> 0.2968702  </td><td> 0.6246136  </td><td> 0.9678086  </td><td> 0.5995795  </td><td> 0.5054866  </td><td> 0.7880320  </td><td> 1.0509892  </td><td> 0.8040874  </td><td> 0.2328972  </td><td> 0.7482307  </td><td> 0.08840117 </td><td> 0.3565331  </td><td>0.941734674 </td><td> 0.08119203 </td><td> 0.87157136 </td><td>-0.005301727</td><td> 0.355121   </td><td> 0.5950902  </td><td> 1.7205051  </td><td> 0.4763815  </td></tr>\n",
       "</tbody>\n",
       "</table>\n"
      ],
      "text/latex": [
       "\\begin{tabular}{r|llllllllllllllllllll}\n",
       "\t25\\% & -1.1281165   & -0.6551563   & -1.2461853   & -0.2946508   & -0.6462725   & -0.1821137   & -0.3555318   & -0.1891911   & -0.5374931   & -0.7787305   & -0.75984242  & -0.3472447   & 0.003965777  & -0.40480287  & -0.09510317  & -0.616001926 & -1.033804    & -0.5833867   & -0.8369061   & -0.7461815  \\\\\n",
       "\t75\\% &  0.2968702   &  0.6246136   &  0.9678086   &  0.5995795   &  0.5054866   &  0.7880320   &  1.0509892   &  0.8040874   &  0.2328972   &  0.7482307   &  0.08840117  &  0.3565331   & 0.941734674  &  0.08119203  &  0.87157136  & -0.005301727 &  0.355121    &  0.5950902   &  1.7205051   &  0.4763815  \\\\\n",
       "\\end{tabular}\n"
      ],
      "text/markdown": [
       "\n",
       "| 25% | -1.1281165   | -0.6551563   | -1.2461853   | -0.2946508   | -0.6462725   | -0.1821137   | -0.3555318   | -0.1891911   | -0.5374931   | -0.7787305   | -0.75984242  | -0.3472447   | 0.003965777  | -0.40480287  | -0.09510317  | -0.616001926 | -1.033804    | -0.5833867   | -0.8369061   | -0.7461815   | \n",
       "| 75% |  0.2968702   |  0.6246136   |  0.9678086   |  0.5995795   |  0.5054866   |  0.7880320   |  1.0509892   |  0.8040874   |  0.2328972   |  0.7482307   |  0.08840117  |  0.3565331   | 0.941734674  |  0.08119203  |  0.87157136  | -0.005301727 |  0.355121    |  0.5950902   |  1.7205051   |  0.4763815   | \n",
       "\n",
       "\n"
      ],
      "text/plain": [
       "    [,1]       [,2]       [,3]       [,4]       [,5]       [,6]      \n",
       "25% -1.1281165 -0.6551563 -1.2461853 -0.2946508 -0.6462725 -0.1821137\n",
       "75%  0.2968702  0.6246136  0.9678086  0.5995795  0.5054866  0.7880320\n",
       "    [,7]       [,8]       [,9]       [,10]      [,11]       [,12]     \n",
       "25% -0.3555318 -0.1891911 -0.5374931 -0.7787305 -0.75984242 -0.3472447\n",
       "75%  1.0509892  0.8040874  0.2328972  0.7482307  0.08840117  0.3565331\n",
       "    [,13]       [,14]       [,15]       [,16]        [,17]     [,18]     \n",
       "25% 0.003965777 -0.40480287 -0.09510317 -0.616001926 -1.033804 -0.5833867\n",
       "75% 0.941734674  0.08119203  0.87157136 -0.005301727  0.355121  0.5950902\n",
       "    [,19]      [,20]     \n",
       "25% -0.8369061 -0.7461815\n",
       "75%  1.7205051  0.4763815"
      ]
     },
     "metadata": {},
     "output_type": "display_data"
    }
   ],
   "source": [
    "x <- matrix(rnorm(200), 20, 10)\n",
    "apply(x,1, quantile, probs = c(0.25,0.75)) # calculate the 25th  75th percentile"
   ]
  },
  {
   "cell_type": "code",
   "execution_count": 33,
   "metadata": {},
   "outputs": [
    {
     "data": {
      "text/html": [
       "<table>\n",
       "<tbody>\n",
       "\t<tr><td>0.2512754 </td><td>-0.5248534</td></tr>\n",
       "\t<tr><td>0.2748219 </td><td> 0.5271803</td></tr>\n",
       "</tbody>\n",
       "</table>\n"
      ],
      "text/latex": [
       "\\begin{tabular}{ll}\n",
       "\t 0.2512754  & -0.5248534\\\\\n",
       "\t 0.2748219  &  0.5271803\\\\\n",
       "\\end{tabular}\n"
      ],
      "text/markdown": [
       "\n",
       "| 0.2512754  | -0.5248534 | \n",
       "| 0.2748219  |  0.5271803 | \n",
       "\n",
       "\n"
      ],
      "text/plain": [
       "     [,1]      [,2]      \n",
       "[1,] 0.2512754 -0.5248534\n",
       "[2,] 0.2748219  0.5271803"
      ]
     },
     "metadata": {},
     "output_type": "display_data"
    }
   ],
   "source": [
    "x <- array(rnorm(2 * 2 *10), c(2,2,10)) # matriz 2x2x10\n",
    "apply(x,c(1,2),mean) # conservamos las dos primeras dimensiones."
   ]
  },
  {
   "cell_type": "code",
   "execution_count": 34,
   "metadata": {},
   "outputs": [
    {
     "data": {
      "text/html": [
       "<table>\n",
       "<tbody>\n",
       "\t<tr><td>0.2512754 </td><td>-0.5248534</td></tr>\n",
       "\t<tr><td>0.2748219 </td><td> 0.5271803</td></tr>\n",
       "</tbody>\n",
       "</table>\n"
      ],
      "text/latex": [
       "\\begin{tabular}{ll}\n",
       "\t 0.2512754  & -0.5248534\\\\\n",
       "\t 0.2748219  &  0.5271803\\\\\n",
       "\\end{tabular}\n"
      ],
      "text/markdown": [
       "\n",
       "| 0.2512754  | -0.5248534 | \n",
       "| 0.2748219  |  0.5271803 | \n",
       "\n",
       "\n"
      ],
      "text/plain": [
       "     [,1]      [,2]      \n",
       "[1,] 0.2512754 -0.5248534\n",
       "[2,] 0.2748219  0.5271803"
      ]
     },
     "metadata": {},
     "output_type": "display_data"
    }
   ],
   "source": [
    "rowMeans(x, dims = 2) # equivalente a la instrucción anterior"
   ]
  },
  {
   "cell_type": "markdown",
   "metadata": {},
   "source": [
    "## mapply ##"
   ]
  },
  {
   "cell_type": "code",
   "execution_count": 35,
   "metadata": {},
   "outputs": [
    {
     "name": "stdout",
     "output_type": "stream",
     "text": [
      "function (FUN, ..., MoreArgs = NULL, SIMPLIFY = TRUE, USE.NAMES = TRUE)  \n"
     ]
    }
   ],
   "source": [
    "str(mapply)"
   ]
  },
  {
   "cell_type": "markdown",
   "metadata": {},
   "source": [
    "**mappy** is a loop function that applies a function in parallel over a set of arguments (lapply, sapply, apply works over one element only)\n",
    "\n",
    "- FUN is a function to apply\n",
    "- \"...\" los argumentos sobre los que se aplicará la función\n",
    "- MoreArgs is a list of other arguments to FUN\n",
    "- SIMPLIFY indicates whether the result should be simplified"
   ]
  },
  {
   "cell_type": "code",
   "execution_count": null,
   "metadata": {},
   "outputs": [],
   "source": [
    "x <- list(rep(1,4), rep(2,3), rep(3,2), rep(4,1))\n",
    "y <- mapply(rep, 1:4, 4:1) # igual resultado"
   ]
  },
  {
   "cell_type": "code",
   "execution_count": 42,
   "metadata": {},
   "outputs": [
    {
     "data": {
      "text/html": [
       "<ol class=list-inline>\n",
       "\t<li>3.17506328716329</li>\n",
       "\t<li>-1.78843000492797</li>\n",
       "\t<li>0.0492548004009791</li>\n",
       "\t<li>1.39241177376055</li>\n",
       "\t<li>2.02215057428402</li>\n",
       "</ol>\n"
      ],
      "text/latex": [
       "\\begin{enumerate*}\n",
       "\\item 3.17506328716329\n",
       "\\item -1.78843000492797\n",
       "\\item 0.0492548004009791\n",
       "\\item 1.39241177376055\n",
       "\\item 2.02215057428402\n",
       "\\end{enumerate*}\n"
      ],
      "text/markdown": [
       "1. 3.17506328716329\n",
       "2. -1.78843000492797\n",
       "3. 0.0492548004009791\n",
       "4. 1.39241177376055\n",
       "5. 2.02215057428402\n",
       "\n",
       "\n"
      ],
      "text/plain": [
       "[1]  3.1750633 -1.7884300  0.0492548  1.3924118  2.0221506"
      ]
     },
     "metadata": {},
     "output_type": "display_data"
    },
    {
     "data": {
      "text/html": [
       "<ol class=list-inline>\n",
       "\t<li>-1.30973071376818</li>\n",
       "\t<li>2.78506452774075</li>\n",
       "\t<li>2.93297508614767</li>\n",
       "\t<li>1.24787885087488</li>\n",
       "\t<li>3.03065684664179</li>\n",
       "</ol>\n"
      ],
      "text/latex": [
       "\\begin{enumerate*}\n",
       "\\item -1.30973071376818\n",
       "\\item 2.78506452774075\n",
       "\\item 2.93297508614767\n",
       "\\item 1.24787885087488\n",
       "\\item 3.03065684664179\n",
       "\\end{enumerate*}\n"
      ],
      "text/markdown": [
       "1. -1.30973071376818\n",
       "2. 2.78506452774075\n",
       "3. 2.93297508614767\n",
       "4. 1.24787885087488\n",
       "5. 3.03065684664179\n",
       "\n",
       "\n"
      ],
      "text/plain": [
       "[1] -1.309731  2.785065  2.932975  1.247879  3.030657"
      ]
     },
     "metadata": {},
     "output_type": "display_data"
    },
    {
     "data": {
      "text/html": [
       "<ol>\n",
       "\t<li>1.91192479268466</li>\n",
       "\t<li><ol class=list-inline>\n",
       "\t<li>4.12451781730589</li>\n",
       "\t<li>-0.612730023676516</li>\n",
       "</ol>\n",
       "</li>\n",
       "\t<li><ol class=list-inline>\n",
       "\t<li>5.42489466590426</li>\n",
       "\t<li>6.05475459098113</li>\n",
       "\t<li>2.99775448410396</li>\n",
       "</ol>\n",
       "</li>\n",
       "\t<li><ol class=list-inline>\n",
       "\t<li>5.72643493861414</li>\n",
       "\t<li>4.45174695655106</li>\n",
       "\t<li>6.25941065180327</li>\n",
       "\t<li>9.41562173587422</li>\n",
       "</ol>\n",
       "</li>\n",
       "\t<li><ol class=list-inline>\n",
       "\t<li>2.43828282784317</li>\n",
       "\t<li>5.07318654465151</li>\n",
       "\t<li>3.91351713735895</li>\n",
       "\t<li>4.6948165679637</li>\n",
       "\t<li>7.42604860006623</li>\n",
       "</ol>\n",
       "</li>\n",
       "</ol>\n"
      ],
      "text/latex": [
       "\\begin{enumerate}\n",
       "\\item 1.91192479268466\n",
       "\\item \\begin{enumerate*}\n",
       "\\item 4.12451781730589\n",
       "\\item -0.612730023676516\n",
       "\\end{enumerate*}\n",
       "\n",
       "\\item \\begin{enumerate*}\n",
       "\\item 5.42489466590426\n",
       "\\item 6.05475459098113\n",
       "\\item 2.99775448410396\n",
       "\\end{enumerate*}\n",
       "\n",
       "\\item \\begin{enumerate*}\n",
       "\\item 5.72643493861414\n",
       "\\item 4.45174695655106\n",
       "\\item 6.25941065180327\n",
       "\\item 9.41562173587422\n",
       "\\end{enumerate*}\n",
       "\n",
       "\\item \\begin{enumerate*}\n",
       "\\item 2.43828282784317\n",
       "\\item 5.07318654465151\n",
       "\\item 3.91351713735895\n",
       "\\item 4.6948165679637\n",
       "\\item 7.42604860006623\n",
       "\\end{enumerate*}\n",
       "\n",
       "\\end{enumerate}\n"
      ],
      "text/markdown": [
       "1. 1.91192479268466\n",
       "2. 1. 4.12451781730589\n",
       "2. -0.612730023676516\n",
       "\n",
       "\n",
       "\n",
       "3. 1. 5.42489466590426\n",
       "2. 6.05475459098113\n",
       "3. 2.99775448410396\n",
       "\n",
       "\n",
       "\n",
       "4. 1. 5.72643493861414\n",
       "2. 4.45174695655106\n",
       "3. 6.25941065180327\n",
       "4. 9.41562173587422\n",
       "\n",
       "\n",
       "\n",
       "5. 1. 2.43828282784317\n",
       "2. 5.07318654465151\n",
       "3. 3.91351713735895\n",
       "4. 4.6948165679637\n",
       "5. 7.42604860006623\n",
       "\n",
       "\n",
       "\n",
       "\n",
       "\n"
      ],
      "text/plain": [
       "[[1]]\n",
       "[1] 1.911925\n",
       "\n",
       "[[2]]\n",
       "[1]  4.124518 -0.612730\n",
       "\n",
       "[[3]]\n",
       "[1] 5.424895 6.054755 2.997754\n",
       "\n",
       "[[4]]\n",
       "[1] 5.726435 4.451747 6.259411 9.415622\n",
       "\n",
       "[[5]]\n",
       "[1] 2.438283 5.073187 3.913517 4.694817 7.426049\n"
      ]
     },
     "metadata": {},
     "output_type": "display_data"
    },
    {
     "data": {
      "text/html": [
       "<ol>\n",
       "\t<li>-0.644523631471609</li>\n",
       "\t<li><ol class=list-inline>\n",
       "\t<li>1.6735819602339</li>\n",
       "\t<li>2.30572173822258</li>\n",
       "</ol>\n",
       "</li>\n",
       "\t<li><ol class=list-inline>\n",
       "\t<li>3.28597015488721</li>\n",
       "\t<li>1.77482641960995</li>\n",
       "\t<li>-0.0937466475255264</li>\n",
       "</ol>\n",
       "</li>\n",
       "\t<li><ol class=list-inline>\n",
       "\t<li>6.74692515528959</li>\n",
       "\t<li>1.94802132409968</li>\n",
       "\t<li>7.0166021948371</li>\n",
       "\t<li>7.52511480095331</li>\n",
       "</ol>\n",
       "</li>\n",
       "\t<li><ol class=list-inline>\n",
       "\t<li>5.40016836123278</li>\n",
       "\t<li>2.96946546587668</li>\n",
       "\t<li>4.26544718595581</li>\n",
       "\t<li>4.78849176253552</li>\n",
       "\t<li>4.1799003266976</li>\n",
       "</ol>\n",
       "</li>\n",
       "</ol>\n"
      ],
      "text/latex": [
       "\\begin{enumerate}\n",
       "\\item -0.644523631471609\n",
       "\\item \\begin{enumerate*}\n",
       "\\item 1.6735819602339\n",
       "\\item 2.30572173822258\n",
       "\\end{enumerate*}\n",
       "\n",
       "\\item \\begin{enumerate*}\n",
       "\\item 3.28597015488721\n",
       "\\item 1.77482641960995\n",
       "\\item -0.0937466475255264\n",
       "\\end{enumerate*}\n",
       "\n",
       "\\item \\begin{enumerate*}\n",
       "\\item 6.74692515528959\n",
       "\\item 1.94802132409968\n",
       "\\item 7.0166021948371\n",
       "\\item 7.52511480095331\n",
       "\\end{enumerate*}\n",
       "\n",
       "\\item \\begin{enumerate*}\n",
       "\\item 5.40016836123278\n",
       "\\item 2.96946546587668\n",
       "\\item 4.26544718595581\n",
       "\\item 4.78849176253552\n",
       "\\item 4.1799003266976\n",
       "\\end{enumerate*}\n",
       "\n",
       "\\end{enumerate}\n"
      ],
      "text/markdown": [
       "1. -0.644523631471609\n",
       "2. 1. 1.6735819602339\n",
       "2. 2.30572173822258\n",
       "\n",
       "\n",
       "\n",
       "3. 1. 3.28597015488721\n",
       "2. 1.77482641960995\n",
       "3. -0.0937466475255264\n",
       "\n",
       "\n",
       "\n",
       "4. 1. 6.74692515528959\n",
       "2. 1.94802132409968\n",
       "3. 7.0166021948371\n",
       "4. 7.52511480095331\n",
       "\n",
       "\n",
       "\n",
       "5. 1. 5.40016836123278\n",
       "2. 2.96946546587668\n",
       "3. 4.26544718595581\n",
       "4. 4.78849176253552\n",
       "5. 4.1799003266976\n",
       "\n",
       "\n",
       "\n",
       "\n",
       "\n"
      ],
      "text/plain": [
       "[[1]]\n",
       "[1] -0.6445236\n",
       "\n",
       "[[2]]\n",
       "[1] 1.673582 2.305722\n",
       "\n",
       "[[3]]\n",
       "[1]  3.28597015  1.77482642 -0.09374665\n",
       "\n",
       "[[4]]\n",
       "[1] 6.746925 1.948021 7.016602 7.525115\n",
       "\n",
       "[[5]]\n",
       "[1] 5.400168 2.969465 4.265447 4.788492 4.179900\n"
      ]
     },
     "metadata": {},
     "output_type": "display_data"
    }
   ],
   "source": [
    "# generate random normal noise\n",
    "# number of observations, value of the mean, and standard deviation\n",
    "noise <- function(n,mean,sd){\n",
    "    rnorm(n, mean, sd)\n",
    "}\n",
    "noise(5,1,2) # 5 random variables with mean=1 and std=2\n",
    "noise(1:5, 1:5, 2) # no funciona si quiero 5 vectores de longitud 1:5 y media:1:5\n",
    "mapply(noise, 1:5, 1:5, 2) # es una manera de vectorizar una función que no permite ser vectorizada\n",
    "list(noise(1,1,2), noise(2,2,2), noise(3,3,2), noise(4,4,2), noise(5,5,2)) # codigo equivalente"
   ]
  },
  {
   "cell_type": "markdown",
   "metadata": {},
   "source": [
    "## tapply ##"
   ]
  },
  {
   "cell_type": "code",
   "execution_count": 43,
   "metadata": {},
   "outputs": [
    {
     "name": "stdout",
     "output_type": "stream",
     "text": [
      "function (X, INDEX, FUN = NULL, ..., default = NA, simplify = TRUE)  \n"
     ]
    }
   ],
   "source": [
    "str(tapply)"
   ]
  },
  {
   "cell_type": "markdown",
   "metadata": {},
   "source": [
    "tapply is used to apply a function over subsets of a vector.\n",
    "- X is a vector\n",
    "- INDEX is a factor or a list of factors (or else they are coarced to factors)\n",
    "- FUN is a function to be applied\n",
    "- \"...\" contains other arguments to be passed FUN\n",
    "- simplify, should we simplify the result?\n",
    "\n",
    "the first argument is a vector, the second argument is a vector of the same length which identifies which element of the numeric vector is in."
   ]
  },
  {
   "cell_type": "code",
   "execution_count": 46,
   "metadata": {
    "scrolled": true
   },
   "outputs": [
    {
     "data": {
      "text/html": [
       "<dl class=dl-horizontal>\n",
       "\t<dt>1</dt>\n",
       "\t\t<dd>0.166479949258482</dd>\n",
       "\t<dt>2</dt>\n",
       "\t\t<dd>0.451618791162036</dd>\n",
       "\t<dt>3</dt>\n",
       "\t\t<dd>0.586202814546134</dd>\n",
       "</dl>\n"
      ],
      "text/plain": [
       "        1         2         3 \n",
       "0.1664799 0.4516188 0.5862028 "
      ]
     },
     "metadata": {},
     "output_type": "display_data"
    }
   ],
   "source": [
    "x <- c(rnorm(10), runif(10), rnorm(10,1)) #crea un vector con tres grupos de 10 valores\n",
    "f <- gl(3,10) # creamos un vector con factores de valor 1,2,3 repetidos 10 veces cada uno\n",
    "tapply(x,f,mean) # calcula la media de cadauno de los grupos"
   ]
  },
  {
   "cell_type": "code",
   "execution_count": 1,
   "metadata": {},
   "outputs": [
    {
     "data": {
      "text/html": [
       "<table>\n",
       "<thead><tr><th scope=col>Sepal.Length</th><th scope=col>Sepal.Width</th><th scope=col>Petal.Length</th><th scope=col>Petal.Width</th><th scope=col>Species</th></tr></thead>\n",
       "<tbody>\n",
       "\t<tr><td>5.1   </td><td>3.5   </td><td>1.4   </td><td>0.2   </td><td>setosa</td></tr>\n",
       "\t<tr><td>4.9   </td><td>3.0   </td><td>1.4   </td><td>0.2   </td><td>setosa</td></tr>\n",
       "\t<tr><td>4.7   </td><td>3.2   </td><td>1.3   </td><td>0.2   </td><td>setosa</td></tr>\n",
       "\t<tr><td>4.6   </td><td>3.1   </td><td>1.5   </td><td>0.2   </td><td>setosa</td></tr>\n",
       "\t<tr><td>5.0   </td><td>3.6   </td><td>1.4   </td><td>0.2   </td><td>setosa</td></tr>\n",
       "\t<tr><td>5.4   </td><td>3.9   </td><td>1.7   </td><td>0.4   </td><td>setosa</td></tr>\n",
       "</tbody>\n",
       "</table>\n"
      ],
      "text/latex": [
       "\\begin{tabular}{r|lllll}\n",
       " Sepal.Length & Sepal.Width & Petal.Length & Petal.Width & Species\\\\\n",
       "\\hline\n",
       "\t 5.1    & 3.5    & 1.4    & 0.2    & setosa\\\\\n",
       "\t 4.9    & 3.0    & 1.4    & 0.2    & setosa\\\\\n",
       "\t 4.7    & 3.2    & 1.3    & 0.2    & setosa\\\\\n",
       "\t 4.6    & 3.1    & 1.5    & 0.2    & setosa\\\\\n",
       "\t 5.0    & 3.6    & 1.4    & 0.2    & setosa\\\\\n",
       "\t 5.4    & 3.9    & 1.7    & 0.4    & setosa\\\\\n",
       "\\end{tabular}\n"
      ],
      "text/markdown": [
       "\n",
       "Sepal.Length | Sepal.Width | Petal.Length | Petal.Width | Species | \n",
       "|---|---|---|---|---|---|\n",
       "| 5.1    | 3.5    | 1.4    | 0.2    | setosa | \n",
       "| 4.9    | 3.0    | 1.4    | 0.2    | setosa | \n",
       "| 4.7    | 3.2    | 1.3    | 0.2    | setosa | \n",
       "| 4.6    | 3.1    | 1.5    | 0.2    | setosa | \n",
       "| 5.0    | 3.6    | 1.4    | 0.2    | setosa | \n",
       "| 5.4    | 3.9    | 1.7    | 0.4    | setosa | \n",
       "\n",
       "\n"
      ],
      "text/plain": [
       "  Sepal.Length Sepal.Width Petal.Length Petal.Width Species\n",
       "1 5.1          3.5         1.4          0.2         setosa \n",
       "2 4.9          3.0         1.4          0.2         setosa \n",
       "3 4.7          3.2         1.3          0.2         setosa \n",
       "4 4.6          3.1         1.5          0.2         setosa \n",
       "5 5.0          3.6         1.4          0.2         setosa \n",
       "6 5.4          3.9         1.7          0.4         setosa "
      ]
     },
     "metadata": {},
     "output_type": "display_data"
    },
    {
     "data": {
      "text/html": [
       "<dl class=dl-horizontal>\n",
       "\t<dt>setosa</dt>\n",
       "\t\t<dd>5.006</dd>\n",
       "\t<dt>versicolor</dt>\n",
       "\t\t<dd>5.936</dd>\n",
       "\t<dt>virginica</dt>\n",
       "\t\t<dd>6.588</dd>\n",
       "</dl>\n"
      ],
      "text/plain": [
       "    setosa versicolor  virginica \n",
       "     5.006      5.936      6.588 "
      ]
     },
     "metadata": {},
     "output_type": "display_data"
    }
   ],
   "source": [
    "head(iris)\n",
    "tapply(iris$Sepal.Length, iris$Species,mean) # media de Petal.Length en especie"
   ]
  },
  {
   "cell_type": "markdown",
   "metadata": {},
   "source": [
    "## split ##"
   ]
  },
  {
   "cell_type": "code",
   "execution_count": 47,
   "metadata": {},
   "outputs": [
    {
     "name": "stdout",
     "output_type": "stream",
     "text": [
      "function (x, f, drop = FALSE, ...)  \n"
     ]
    }
   ],
   "source": [
    "str(split)"
   ]
  },
  {
   "cell_type": "markdown",
   "metadata": {},
   "source": [
    "split takes a vector or other objects and splits it into groups determined by a factor or list of factors\n",
    "- x is a vector (or list) or data frame\n",
    "- f is a factor (or coerced to one) or a list of factors\n",
    "- drop indicates whether empty factors levels should be dropped\n",
    "\n",
    "no es una función tipo loop, sino una función que se puede usar junto a apply o sapply.\n",
    "\n",
    "Devuelve una  lista! Lo cual permite usarlo con apply o sapply"
   ]
  },
  {
   "cell_type": "code",
   "execution_count": 49,
   "metadata": {},
   "outputs": [
    {
     "data": {
      "text/html": [
       "<dl>\n",
       "\t<dt>$`1`</dt>\n",
       "\t\t<dd><ol class=list-inline>\n",
       "\t<li>1.8126215757887</li>\n",
       "\t<li>-1.97105098991138</li>\n",
       "\t<li>-0.2417018081895</li>\n",
       "\t<li>-0.218348558108812</li>\n",
       "\t<li>0.0545938930014822</li>\n",
       "\t<li>-0.00154032790482095</li>\n",
       "\t<li>1.12967214793706</li>\n",
       "\t<li>0.880786305327074</li>\n",
       "\t<li>-0.802033323833548</li>\n",
       "\t<li>0.565312629017982</li>\n",
       "</ol>\n",
       "</dd>\n",
       "\t<dt>$`2`</dt>\n",
       "\t\t<dd><ol class=list-inline>\n",
       "\t<li>0.631476005306467</li>\n",
       "\t<li>0.534519240492955</li>\n",
       "\t<li>0.2103973319754</li>\n",
       "\t<li>0.456276800483465</li>\n",
       "\t<li>0.252900931285694</li>\n",
       "\t<li>0.447288650553674</li>\n",
       "\t<li>0.419136456679553</li>\n",
       "\t<li>0.446187009569257</li>\n",
       "\t<li>0.278049292974174</li>\n",
       "\t<li>0.944404512410983</li>\n",
       "</ol>\n",
       "</dd>\n",
       "\t<dt>$`3`</dt>\n",
       "\t\t<dd><ol class=list-inline>\n",
       "\t<li>2.18315899047631</li>\n",
       "\t<li>0.132457466349784</li>\n",
       "\t<li>2.22123669041019</li>\n",
       "\t<li>0.887217320501209</li>\n",
       "\t<li>0.32234353091651</li>\n",
       "\t<li>2.97853263450222</li>\n",
       "\t<li>2.73902629063839</li>\n",
       "\t<li>0.743930216592213</li>\n",
       "\t<li>2.46765827504473</li>\n",
       "\t<li>1.06183784125317</li>\n",
       "</ol>\n",
       "</dd>\n",
       "</dl>\n"
      ],
      "text/latex": [
       "\\begin{description}\n",
       "\\item[\\$`1`] \\begin{enumerate*}\n",
       "\\item 1.8126215757887\n",
       "\\item -1.97105098991138\n",
       "\\item -0.2417018081895\n",
       "\\item -0.218348558108812\n",
       "\\item 0.0545938930014822\n",
       "\\item -0.00154032790482095\n",
       "\\item 1.12967214793706\n",
       "\\item 0.880786305327074\n",
       "\\item -0.802033323833548\n",
       "\\item 0.565312629017982\n",
       "\\end{enumerate*}\n",
       "\n",
       "\\item[\\$`2`] \\begin{enumerate*}\n",
       "\\item 0.631476005306467\n",
       "\\item 0.534519240492955\n",
       "\\item 0.2103973319754\n",
       "\\item 0.456276800483465\n",
       "\\item 0.252900931285694\n",
       "\\item 0.447288650553674\n",
       "\\item 0.419136456679553\n",
       "\\item 0.446187009569257\n",
       "\\item 0.278049292974174\n",
       "\\item 0.944404512410983\n",
       "\\end{enumerate*}\n",
       "\n",
       "\\item[\\$`3`] \\begin{enumerate*}\n",
       "\\item 2.18315899047631\n",
       "\\item 0.132457466349784\n",
       "\\item 2.22123669041019\n",
       "\\item 0.887217320501209\n",
       "\\item 0.32234353091651\n",
       "\\item 2.97853263450222\n",
       "\\item 2.73902629063839\n",
       "\\item 0.743930216592213\n",
       "\\item 2.46765827504473\n",
       "\\item 1.06183784125317\n",
       "\\end{enumerate*}\n",
       "\n",
       "\\end{description}\n"
      ],
      "text/markdown": [
       "$`1`\n",
       ":   1. 1.8126215757887\n",
       "2. -1.97105098991138\n",
       "3. -0.2417018081895\n",
       "4. -0.218348558108812\n",
       "5. 0.0545938930014822\n",
       "6. -0.00154032790482095\n",
       "7. 1.12967214793706\n",
       "8. 0.880786305327074\n",
       "9. -0.802033323833548\n",
       "10. 0.565312629017982\n",
       "\n",
       "\n",
       "\n",
       "$`2`\n",
       ":   1. 0.631476005306467\n",
       "2. 0.534519240492955\n",
       "3. 0.2103973319754\n",
       "4. 0.456276800483465\n",
       "5. 0.252900931285694\n",
       "6. 0.447288650553674\n",
       "7. 0.419136456679553\n",
       "8. 0.446187009569257\n",
       "9. 0.278049292974174\n",
       "10. 0.944404512410983\n",
       "\n",
       "\n",
       "\n",
       "$`3`\n",
       ":   1. 2.18315899047631\n",
       "2. 0.132457466349784\n",
       "3. 2.22123669041019\n",
       "4. 0.887217320501209\n",
       "5. 0.32234353091651\n",
       "6. 2.97853263450222\n",
       "7. 2.73902629063839\n",
       "8. 0.743930216592213\n",
       "9. 2.46765827504473\n",
       "10. 1.06183784125317\n",
       "\n",
       "\n",
       "\n",
       "\n",
       "\n"
      ],
      "text/plain": [
       "$`1`\n",
       " [1]  1.812621576 -1.971050990 -0.241701808 -0.218348558  0.054593893\n",
       " [6] -0.001540328  1.129672148  0.880786305 -0.802033324  0.565312629\n",
       "\n",
       "$`2`\n",
       " [1] 0.6314760 0.5345192 0.2103973 0.4562768 0.2529009 0.4472887 0.4191365\n",
       " [8] 0.4461870 0.2780493 0.9444045\n",
       "\n",
       "$`3`\n",
       " [1] 2.1831590 0.1324575 2.2212367 0.8872173 0.3223435 2.9785326 2.7390263\n",
       " [8] 0.7439302 2.4676583 1.0618378\n"
      ]
     },
     "metadata": {},
     "output_type": "display_data"
    }
   ],
   "source": [
    "x <- c(rnorm(10), runif(10), rnorm(10,1))\n",
    "f <- gl(3,10)\n",
    "split(x,f) # separa el vector x en 3 grupos definidos por el vector f"
   ]
  },
  {
   "cell_type": "code",
   "execution_count": 51,
   "metadata": {},
   "outputs": [
    {
     "data": {
      "text/html": [
       "<table>\n",
       "<thead><tr><th scope=col>Ozone</th><th scope=col>Solar.R</th><th scope=col>Wind</th><th scope=col>Temp</th><th scope=col>Month</th><th scope=col>Day</th></tr></thead>\n",
       "<tbody>\n",
       "\t<tr><td>41  </td><td>190 </td><td> 7.4</td><td>67  </td><td>5   </td><td>1   </td></tr>\n",
       "\t<tr><td>36  </td><td>118 </td><td> 8.0</td><td>72  </td><td>5   </td><td>2   </td></tr>\n",
       "\t<tr><td>12  </td><td>149 </td><td>12.6</td><td>74  </td><td>5   </td><td>3   </td></tr>\n",
       "\t<tr><td>18  </td><td>313 </td><td>11.5</td><td>62  </td><td>5   </td><td>4   </td></tr>\n",
       "\t<tr><td>NA  </td><td> NA </td><td>14.3</td><td>56  </td><td>5   </td><td>5   </td></tr>\n",
       "\t<tr><td>28  </td><td> NA </td><td>14.9</td><td>66  </td><td>5   </td><td>6   </td></tr>\n",
       "</tbody>\n",
       "</table>\n"
      ],
      "text/latex": [
       "\\begin{tabular}{r|llllll}\n",
       " Ozone & Solar.R & Wind & Temp & Month & Day\\\\\n",
       "\\hline\n",
       "\t 41   & 190  &  7.4 & 67   & 5    & 1   \\\\\n",
       "\t 36   & 118  &  8.0 & 72   & 5    & 2   \\\\\n",
       "\t 12   & 149  & 12.6 & 74   & 5    & 3   \\\\\n",
       "\t 18   & 313  & 11.5 & 62   & 5    & 4   \\\\\n",
       "\t NA   &  NA  & 14.3 & 56   & 5    & 5   \\\\\n",
       "\t 28   &  NA  & 14.9 & 66   & 5    & 6   \\\\\n",
       "\\end{tabular}\n"
      ],
      "text/markdown": [
       "\n",
       "Ozone | Solar.R | Wind | Temp | Month | Day | \n",
       "|---|---|---|---|---|---|\n",
       "| 41   | 190  |  7.4 | 67   | 5    | 1    | \n",
       "| 36   | 118  |  8.0 | 72   | 5    | 2    | \n",
       "| 12   | 149  | 12.6 | 74   | 5    | 3    | \n",
       "| 18   | 313  | 11.5 | 62   | 5    | 4    | \n",
       "| NA   |  NA  | 14.3 | 56   | 5    | 5    | \n",
       "| 28   |  NA  | 14.9 | 66   | 5    | 6    | \n",
       "\n",
       "\n"
      ],
      "text/plain": [
       "  Ozone Solar.R Wind Temp Month Day\n",
       "1 41    190      7.4 67   5     1  \n",
       "2 36    118      8.0 72   5     2  \n",
       "3 12    149     12.6 74   5     3  \n",
       "4 18    313     11.5 62   5     4  \n",
       "5 NA     NA     14.3 56   5     5  \n",
       "6 28     NA     14.9 66   5     6  "
      ]
     },
     "metadata": {},
     "output_type": "display_data"
    }
   ],
   "source": [
    "library(datasets)\n",
    "head(airquality)"
   ]
  },
  {
   "cell_type": "code",
   "execution_count": 53,
   "metadata": {},
   "outputs": [
    {
     "data": {
      "text/html": [
       "<dl>\n",
       "\t<dt>$`5`</dt>\n",
       "\t\t<dd><dl class=dl-horizontal>\n",
       "\t<dt>Ozone</dt>\n",
       "\t\t<dd>&lt;NA&gt;</dd>\n",
       "\t<dt>Solar.R</dt>\n",
       "\t\t<dd>&lt;NA&gt;</dd>\n",
       "\t<dt>Wind</dt>\n",
       "\t\t<dd>11.6225806451613</dd>\n",
       "</dl>\n",
       "</dd>\n",
       "\t<dt>$`6`</dt>\n",
       "\t\t<dd><dl class=dl-horizontal>\n",
       "\t<dt>Ozone</dt>\n",
       "\t\t<dd>&lt;NA&gt;</dd>\n",
       "\t<dt>Solar.R</dt>\n",
       "\t\t<dd>190.166666666667</dd>\n",
       "\t<dt>Wind</dt>\n",
       "\t\t<dd>10.2666666666667</dd>\n",
       "</dl>\n",
       "</dd>\n",
       "\t<dt>$`7`</dt>\n",
       "\t\t<dd><dl class=dl-horizontal>\n",
       "\t<dt>Ozone</dt>\n",
       "\t\t<dd>&lt;NA&gt;</dd>\n",
       "\t<dt>Solar.R</dt>\n",
       "\t\t<dd>216.483870967742</dd>\n",
       "\t<dt>Wind</dt>\n",
       "\t\t<dd>8.94193548387097</dd>\n",
       "</dl>\n",
       "</dd>\n",
       "\t<dt>$`8`</dt>\n",
       "\t\t<dd><dl class=dl-horizontal>\n",
       "\t<dt>Ozone</dt>\n",
       "\t\t<dd>&lt;NA&gt;</dd>\n",
       "\t<dt>Solar.R</dt>\n",
       "\t\t<dd>&lt;NA&gt;</dd>\n",
       "\t<dt>Wind</dt>\n",
       "\t\t<dd>8.79354838709677</dd>\n",
       "</dl>\n",
       "</dd>\n",
       "\t<dt>$`9`</dt>\n",
       "\t\t<dd><dl class=dl-horizontal>\n",
       "\t<dt>Ozone</dt>\n",
       "\t\t<dd>&lt;NA&gt;</dd>\n",
       "\t<dt>Solar.R</dt>\n",
       "\t\t<dd>167.433333333333</dd>\n",
       "\t<dt>Wind</dt>\n",
       "\t\t<dd>10.18</dd>\n",
       "</dl>\n",
       "</dd>\n",
       "</dl>\n"
      ],
      "text/latex": [
       "\\begin{description}\n",
       "\\item[\\$`5`] \\begin{description*}\n",
       "\\item[Ozone] <NA>\n",
       "\\item[Solar.R] <NA>\n",
       "\\item[Wind] 11.6225806451613\n",
       "\\end{description*}\n",
       "\n",
       "\\item[\\$`6`] \\begin{description*}\n",
       "\\item[Ozone] <NA>\n",
       "\\item[Solar.R] 190.166666666667\n",
       "\\item[Wind] 10.2666666666667\n",
       "\\end{description*}\n",
       "\n",
       "\\item[\\$`7`] \\begin{description*}\n",
       "\\item[Ozone] <NA>\n",
       "\\item[Solar.R] 216.483870967742\n",
       "\\item[Wind] 8.94193548387097\n",
       "\\end{description*}\n",
       "\n",
       "\\item[\\$`8`] \\begin{description*}\n",
       "\\item[Ozone] <NA>\n",
       "\\item[Solar.R] <NA>\n",
       "\\item[Wind] 8.79354838709677\n",
       "\\end{description*}\n",
       "\n",
       "\\item[\\$`9`] \\begin{description*}\n",
       "\\item[Ozone] <NA>\n",
       "\\item[Solar.R] 167.433333333333\n",
       "\\item[Wind] 10.18\n",
       "\\end{description*}\n",
       "\n",
       "\\end{description}\n"
      ],
      "text/markdown": [
       "$`5`\n",
       ":   Ozone\n",
       ":   &lt;NA&gt;Solar.R\n",
       ":   &lt;NA&gt;Wind\n",
       ":   11.6225806451613\n",
       "\n",
       "\n",
       "$`6`\n",
       ":   Ozone\n",
       ":   &lt;NA&gt;Solar.R\n",
       ":   190.166666666667Wind\n",
       ":   10.2666666666667\n",
       "\n",
       "\n",
       "$`7`\n",
       ":   Ozone\n",
       ":   &lt;NA&gt;Solar.R\n",
       ":   216.483870967742Wind\n",
       ":   8.94193548387097\n",
       "\n",
       "\n",
       "$`8`\n",
       ":   Ozone\n",
       ":   &lt;NA&gt;Solar.R\n",
       ":   &lt;NA&gt;Wind\n",
       ":   8.79354838709677\n",
       "\n",
       "\n",
       "$`9`\n",
       ":   Ozone\n",
       ":   &lt;NA&gt;Solar.R\n",
       ":   167.433333333333Wind\n",
       ":   10.18\n",
       "\n",
       "\n",
       "\n",
       "\n"
      ],
      "text/plain": [
       "$`5`\n",
       "   Ozone  Solar.R     Wind \n",
       "      NA       NA 11.62258 \n",
       "\n",
       "$`6`\n",
       "    Ozone   Solar.R      Wind \n",
       "       NA 190.16667  10.26667 \n",
       "\n",
       "$`7`\n",
       "     Ozone    Solar.R       Wind \n",
       "        NA 216.483871   8.941935 \n",
       "\n",
       "$`8`\n",
       "   Ozone  Solar.R     Wind \n",
       "      NA       NA 8.793548 \n",
       "\n",
       "$`9`\n",
       "   Ozone  Solar.R     Wind \n",
       "      NA 167.4333  10.1800 \n"
      ]
     },
     "metadata": {},
     "output_type": "display_data"
    }
   ],
   "source": [
    "s <- split(airquality, airquality$Month) # divide el dataset según los meses\n",
    "lapply(s, function(x) colMeans(x[,c(\"Ozone\", \"Solar.R\", \"Wind\")]))"
   ]
  },
  {
   "cell_type": "markdown",
   "metadata": {},
   "source": [
    "Hay valores NA"
   ]
  },
  {
   "cell_type": "code",
   "execution_count": 55,
   "metadata": {},
   "outputs": [
    {
     "data": {
      "text/html": [
       "<dl>\n",
       "\t<dt>$`5`</dt>\n",
       "\t\t<dd><dl class=dl-horizontal>\n",
       "\t<dt>Ozone</dt>\n",
       "\t\t<dd>23.6153846153846</dd>\n",
       "\t<dt>Solar.R</dt>\n",
       "\t\t<dd>181.296296296296</dd>\n",
       "\t<dt>Wind</dt>\n",
       "\t\t<dd>11.6225806451613</dd>\n",
       "</dl>\n",
       "</dd>\n",
       "\t<dt>$`6`</dt>\n",
       "\t\t<dd><dl class=dl-horizontal>\n",
       "\t<dt>Ozone</dt>\n",
       "\t\t<dd>29.4444444444444</dd>\n",
       "\t<dt>Solar.R</dt>\n",
       "\t\t<dd>190.166666666667</dd>\n",
       "\t<dt>Wind</dt>\n",
       "\t\t<dd>10.2666666666667</dd>\n",
       "</dl>\n",
       "</dd>\n",
       "\t<dt>$`7`</dt>\n",
       "\t\t<dd><dl class=dl-horizontal>\n",
       "\t<dt>Ozone</dt>\n",
       "\t\t<dd>59.1153846153846</dd>\n",
       "\t<dt>Solar.R</dt>\n",
       "\t\t<dd>216.483870967742</dd>\n",
       "\t<dt>Wind</dt>\n",
       "\t\t<dd>8.94193548387097</dd>\n",
       "</dl>\n",
       "</dd>\n",
       "\t<dt>$`8`</dt>\n",
       "\t\t<dd><dl class=dl-horizontal>\n",
       "\t<dt>Ozone</dt>\n",
       "\t\t<dd>59.9615384615385</dd>\n",
       "\t<dt>Solar.R</dt>\n",
       "\t\t<dd>171.857142857143</dd>\n",
       "\t<dt>Wind</dt>\n",
       "\t\t<dd>8.79354838709677</dd>\n",
       "</dl>\n",
       "</dd>\n",
       "\t<dt>$`9`</dt>\n",
       "\t\t<dd><dl class=dl-horizontal>\n",
       "\t<dt>Ozone</dt>\n",
       "\t\t<dd>31.448275862069</dd>\n",
       "\t<dt>Solar.R</dt>\n",
       "\t\t<dd>167.433333333333</dd>\n",
       "\t<dt>Wind</dt>\n",
       "\t\t<dd>10.18</dd>\n",
       "</dl>\n",
       "</dd>\n",
       "</dl>\n"
      ],
      "text/latex": [
       "\\begin{description}\n",
       "\\item[\\$`5`] \\begin{description*}\n",
       "\\item[Ozone] 23.6153846153846\n",
       "\\item[Solar.R] 181.296296296296\n",
       "\\item[Wind] 11.6225806451613\n",
       "\\end{description*}\n",
       "\n",
       "\\item[\\$`6`] \\begin{description*}\n",
       "\\item[Ozone] 29.4444444444444\n",
       "\\item[Solar.R] 190.166666666667\n",
       "\\item[Wind] 10.2666666666667\n",
       "\\end{description*}\n",
       "\n",
       "\\item[\\$`7`] \\begin{description*}\n",
       "\\item[Ozone] 59.1153846153846\n",
       "\\item[Solar.R] 216.483870967742\n",
       "\\item[Wind] 8.94193548387097\n",
       "\\end{description*}\n",
       "\n",
       "\\item[\\$`8`] \\begin{description*}\n",
       "\\item[Ozone] 59.9615384615385\n",
       "\\item[Solar.R] 171.857142857143\n",
       "\\item[Wind] 8.79354838709677\n",
       "\\end{description*}\n",
       "\n",
       "\\item[\\$`9`] \\begin{description*}\n",
       "\\item[Ozone] 31.448275862069\n",
       "\\item[Solar.R] 167.433333333333\n",
       "\\item[Wind] 10.18\n",
       "\\end{description*}\n",
       "\n",
       "\\end{description}\n"
      ],
      "text/markdown": [
       "$`5`\n",
       ":   Ozone\n",
       ":   23.6153846153846Solar.R\n",
       ":   181.296296296296Wind\n",
       ":   11.6225806451613\n",
       "\n",
       "\n",
       "$`6`\n",
       ":   Ozone\n",
       ":   29.4444444444444Solar.R\n",
       ":   190.166666666667Wind\n",
       ":   10.2666666666667\n",
       "\n",
       "\n",
       "$`7`\n",
       ":   Ozone\n",
       ":   59.1153846153846Solar.R\n",
       ":   216.483870967742Wind\n",
       ":   8.94193548387097\n",
       "\n",
       "\n",
       "$`8`\n",
       ":   Ozone\n",
       ":   59.9615384615385Solar.R\n",
       ":   171.857142857143Wind\n",
       ":   8.79354838709677\n",
       "\n",
       "\n",
       "$`9`\n",
       ":   Ozone\n",
       ":   31.448275862069Solar.R\n",
       ":   167.433333333333Wind\n",
       ":   10.18\n",
       "\n",
       "\n",
       "\n",
       "\n"
      ],
      "text/plain": [
       "$`5`\n",
       "    Ozone   Solar.R      Wind \n",
       " 23.61538 181.29630  11.62258 \n",
       "\n",
       "$`6`\n",
       "    Ozone   Solar.R      Wind \n",
       " 29.44444 190.16667  10.26667 \n",
       "\n",
       "$`7`\n",
       "     Ozone    Solar.R       Wind \n",
       " 59.115385 216.483871   8.941935 \n",
       "\n",
       "$`8`\n",
       "     Ozone    Solar.R       Wind \n",
       " 59.961538 171.857143   8.793548 \n",
       "\n",
       "$`9`\n",
       "    Ozone   Solar.R      Wind \n",
       " 31.44828 167.43333  10.18000 \n"
      ]
     },
     "metadata": {},
     "output_type": "display_data"
    }
   ],
   "source": [
    "lapply(s, function(x) colMeans(x[,c(\"Ozone\", \"Solar.R\", \"Wind\")], na.rm = TRUE))"
   ]
  },
  {
   "cell_type": "markdown",
   "metadata": {},
   "source": [
    "Splitting on more than one level"
   ]
  },
  {
   "cell_type": "code",
   "execution_count": 5,
   "metadata": {},
   "outputs": [
    {
     "data": {
      "text/html": [
       "<ol class=list-inline>\n",
       "\t<li>1</li>\n",
       "\t<li>1</li>\n",
       "\t<li>1</li>\n",
       "\t<li>1</li>\n",
       "\t<li>1</li>\n",
       "\t<li>2</li>\n",
       "\t<li>2</li>\n",
       "\t<li>2</li>\n",
       "\t<li>2</li>\n",
       "\t<li>2</li>\n",
       "</ol>\n"
      ],
      "text/latex": [
       "\\begin{enumerate*}\n",
       "\\item 1\n",
       "\\item 1\n",
       "\\item 1\n",
       "\\item 1\n",
       "\\item 1\n",
       "\\item 2\n",
       "\\item 2\n",
       "\\item 2\n",
       "\\item 2\n",
       "\\item 2\n",
       "\\end{enumerate*}\n"
      ],
      "text/markdown": [
       "1. 1\n",
       "2. 1\n",
       "3. 1\n",
       "4. 1\n",
       "5. 1\n",
       "6. 2\n",
       "7. 2\n",
       "8. 2\n",
       "9. 2\n",
       "10. 2\n",
       "\n",
       "\n"
      ],
      "text/plain": [
       " [1] 1 1 1 1 1 2 2 2 2 2\n",
       "Levels: 1 2"
      ]
     },
     "metadata": {},
     "output_type": "display_data"
    },
    {
     "data": {
      "text/html": [
       "<ol class=list-inline>\n",
       "\t<li>1</li>\n",
       "\t<li>1</li>\n",
       "\t<li>2</li>\n",
       "\t<li>2</li>\n",
       "\t<li>3</li>\n",
       "\t<li>3</li>\n",
       "\t<li>4</li>\n",
       "\t<li>4</li>\n",
       "\t<li>5</li>\n",
       "\t<li>5</li>\n",
       "</ol>\n"
      ],
      "text/latex": [
       "\\begin{enumerate*}\n",
       "\\item 1\n",
       "\\item 1\n",
       "\\item 2\n",
       "\\item 2\n",
       "\\item 3\n",
       "\\item 3\n",
       "\\item 4\n",
       "\\item 4\n",
       "\\item 5\n",
       "\\item 5\n",
       "\\end{enumerate*}\n"
      ],
      "text/markdown": [
       "1. 1\n",
       "2. 1\n",
       "3. 2\n",
       "4. 2\n",
       "5. 3\n",
       "6. 3\n",
       "7. 4\n",
       "8. 4\n",
       "9. 5\n",
       "10. 5\n",
       "\n",
       "\n"
      ],
      "text/plain": [
       " [1] 1 1 2 2 3 3 4 4 5 5\n",
       "Levels: 1 2 3 4 5"
      ]
     },
     "metadata": {},
     "output_type": "display_data"
    },
    {
     "data": {
      "text/html": [
       "<ol class=list-inline>\n",
       "\t<li>1.1</li>\n",
       "\t<li>1.1</li>\n",
       "\t<li>1.2</li>\n",
       "\t<li>1.2</li>\n",
       "\t<li>1.3</li>\n",
       "\t<li>2.3</li>\n",
       "\t<li>2.4</li>\n",
       "\t<li>2.4</li>\n",
       "\t<li>2.5</li>\n",
       "\t<li>2.5</li>\n",
       "</ol>\n"
      ],
      "text/latex": [
       "\\begin{enumerate*}\n",
       "\\item 1.1\n",
       "\\item 1.1\n",
       "\\item 1.2\n",
       "\\item 1.2\n",
       "\\item 1.3\n",
       "\\item 2.3\n",
       "\\item 2.4\n",
       "\\item 2.4\n",
       "\\item 2.5\n",
       "\\item 2.5\n",
       "\\end{enumerate*}\n"
      ],
      "text/markdown": [
       "1. 1.1\n",
       "2. 1.1\n",
       "3. 1.2\n",
       "4. 1.2\n",
       "5. 1.3\n",
       "6. 2.3\n",
       "7. 2.4\n",
       "8. 2.4\n",
       "9. 2.5\n",
       "10. 2.5\n",
       "\n",
       "\n"
      ],
      "text/plain": [
       " [1] 1.1 1.1 1.2 1.2 1.3 2.3 2.4 2.4 2.5 2.5\n",
       "Levels: 1.1 2.1 1.2 2.2 1.3 2.3 1.4 2.4 1.5 2.5"
      ]
     },
     "metadata": {},
     "output_type": "display_data"
    }
   ],
   "source": [
    "x <- rnorm(10)\n",
    "f1 <- gl(2,5) # factor f1 with two levels repeated 5 times\n",
    "f2 <- gl(5,2) # factor f2 with 5 levels repeated 2 times\n",
    "f1\n",
    "f2\n",
    "interaction(f1,f2) #combine all the levels"
   ]
  },
  {
   "cell_type": "code",
   "execution_count": 6,
   "metadata": {},
   "outputs": [
    {
     "name": "stdout",
     "output_type": "stream",
     "text": [
      "List of 10\n",
      " $ 1.1: num [1:2] -0.022 0.771\n",
      " $ 2.1: num(0) \n",
      " $ 1.2: num [1:2] -0.156 -1.632\n",
      " $ 2.2: num(0) \n",
      " $ 1.3: num 0.601\n",
      " $ 2.3: num -0.0258\n",
      " $ 1.4: num(0) \n",
      " $ 2.4: num [1:2] 0.696 0.729\n",
      " $ 1.5: num(0) \n",
      " $ 2.5: num [1:2] 0.48 0.699\n"
     ]
    }
   ],
   "source": [
    "str(split(x,list(f1,f2))) # list calls interaction"
   ]
  },
  {
   "cell_type": "code",
   "execution_count": null,
   "metadata": {},
   "outputs": [],
   "source": []
  }
 ],
 "metadata": {
  "kernelspec": {
   "display_name": "R",
   "language": "R",
   "name": "ir"
  },
  "language_info": {
   "codemirror_mode": "r",
   "file_extension": ".r",
   "mimetype": "text/x-r-source",
   "name": "R",
   "pygments_lexer": "r",
   "version": "3.4.2"
  }
 },
 "nbformat": 4,
 "nbformat_minor": 2
}
