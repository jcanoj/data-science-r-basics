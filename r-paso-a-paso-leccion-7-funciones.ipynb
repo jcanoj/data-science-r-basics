{
 "cells": [
  {
   "cell_type": "markdown",
   "metadata": {},
   "source": [
    "# FUNCIONES #"
   ]
  },
  {
   "cell_type": "markdown",
   "metadata": {},
   "source": [
    "su estructura es\n",
    "\n",
    "    una_funcion <- function(x,y,z){\n",
    "        ...\n",
    "        código\n",
    "        ...\n",
    "        valor o vector devuelto\n",
    "    }"
   ]
  },
  {
   "cell_type": "code",
   "execution_count": 1,
   "metadata": {},
   "outputs": [
    {
     "data": {
      "text/html": [
       "338350"
      ],
      "text/latex": [
       "338350"
      ],
      "text/markdown": [
       "338350"
      ],
      "text/plain": [
       "[1] 338350"
      ]
     },
     "metadata": {},
     "output_type": "display_data"
    }
   ],
   "source": [
    "# crea una funcion que devuelve la suma\n",
    "# de los cuadrados de una serie\n",
    "suma2 <- function(n){\n",
    "    x <- 1:n\n",
    "    sum(x^2) # el valor devuelto es la última expresión analizada\n",
    "}\n",
    "suma2(100)"
   ]
  },
  {
   "cell_type": "code",
   "execution_count": 2,
   "metadata": {},
   "outputs": [
    {
     "data": {
      "text/plain": [
       "$n\n",
       "\n"
      ]
     },
     "metadata": {},
     "output_type": "display_data"
    }
   ],
   "source": [
    "formals(suma2) # devuelve los argumentos de una función"
   ]
  },
  {
   "cell_type": "code",
   "execution_count": 5,
   "metadata": {},
   "outputs": [
    {
     "data": {
      "text/html": [
       "<pre class=language-r><code>function (formula, data, subset, weights, na.action, method = \"qr\", \n",
       "<span style=white-space:pre-wrap>    model = TRUE, x = FALSE, y = FALSE, qr = TRUE, singular.ok = TRUE, </span>\n",
       "<span style=white-space:pre-wrap>    contrasts = NULL, offset, ...) </span>\n",
       "NULL</code></pre>"
      ],
      "text/latex": [
       "\\begin{minted}{r}\n",
       "function (formula, data, subset, weights, na.action, method = \"qr\", \n",
       "    model = TRUE, x = FALSE, y = FALSE, qr = TRUE, singular.ok = TRUE, \n",
       "    contrasts = NULL, offset, ...) \n",
       "NULL\n",
       "\\end{minted}"
      ],
      "text/markdown": [
       "```r\n",
       "function (formula, data, subset, weights, na.action, method = \"qr\", \n",
       "    model = TRUE, x = FALSE, y = FALSE, qr = TRUE, singular.ok = TRUE, \n",
       "    contrasts = NULL, offset, ...) \n",
       "NULL\n",
       "```"
      ],
      "text/plain": [
       "function (formula, data, subset, weights, na.action, method = \"qr\", \n",
       "    model = TRUE, x = FALSE, y = FALSE, qr = TRUE, singular.ok = TRUE, \n",
       "    contrasts = NULL, offset, ...) \n",
       "NULL"
      ]
     },
     "metadata": {},
     "output_type": "display_data"
    }
   ],
   "source": [
    "args(lm) # argumentos de la regresion lineal"
   ]
  },
  {
   "cell_type": "markdown",
   "metadata": {},
   "source": [
    "Podemos especificar un valor por defecto para cualquier número de argumentos"
   ]
  },
  {
   "cell_type": "code",
   "execution_count": 6,
   "metadata": {},
   "outputs": [
    {
     "data": {
      "text/html": [
       "<ol class=list-inline>\n",
       "\t<li>8</li>\n",
       "\t<li>6</li>\n",
       "\t<li>10</li>\n",
       "\t<li>9</li>\n",
       "\t<li>7</li>\n",
       "</ol>\n"
      ],
      "text/latex": [
       "\\begin{enumerate*}\n",
       "\\item 8\n",
       "\\item 6\n",
       "\\item 10\n",
       "\\item 9\n",
       "\\item 7\n",
       "\\end{enumerate*}\n"
      ],
      "text/markdown": [
       "1. 8\n",
       "2. 6\n",
       "3. 10\n",
       "4. 9\n",
       "5. 7\n",
       "\n",
       "\n"
      ],
      "text/plain": [
       "[1]  8  6 10  9  7"
      ]
     },
     "metadata": {},
     "output_type": "display_data"
    }
   ],
   "source": [
    "x <- sample(10) # crea un vector de longitud 10 y valores aleatorios entre 1 y 10\n",
    "\n",
    "mayorque <- function(x,n = 5){ # mayorque devuelve los valores que por defecto son mayores que 5 \n",
    "    valores <- x > n\n",
    "    x[valores]\n",
    "}\n",
    "\n",
    "mayorque(x)"
   ]
  },
  {
   "cell_type": "code",
   "execution_count": 11,
   "metadata": {},
   "outputs": [
    {
     "data": {
      "text/html": [
       "<dl class=dl-horizontal>\n",
       "\t<dt>Ozone</dt>\n",
       "\t\t<dd>42.1293103448276</dd>\n",
       "\t<dt>Solar.R</dt>\n",
       "\t\t<dd>185.931506849315</dd>\n",
       "\t<dt>Wind</dt>\n",
       "\t\t<dd>9.95751633986928</dd>\n",
       "\t<dt>Temp</dt>\n",
       "\t\t<dd>77.8823529411765</dd>\n",
       "</dl>\n"
      ],
      "text/latex": [
       "\\begin{description*}\n",
       "\\item[Ozone] 42.1293103448276\n",
       "\\item[Solar.R] 185.931506849315\n",
       "\\item[Wind] 9.95751633986928\n",
       "\\item[Temp] 77.8823529411765\n",
       "\\end{description*}\n"
      ],
      "text/markdown": [
       "Ozone\n",
       ":   42.1293103448276Solar.R\n",
       ":   185.931506849315Wind\n",
       ":   9.95751633986928Temp\n",
       ":   77.8823529411765\n",
       "\n"
      ],
      "text/plain": [
       "     Ozone    Solar.R       Wind       Temp \n",
       " 42.129310 185.931507   9.957516  77.882353 "
      ]
     },
     "metadata": {},
     "output_type": "display_data"
    }
   ],
   "source": [
    "# calcula la media de las columnas de una matriz\n",
    "columnmean <- function(m){  # m es una matriz\n",
    "    nc <- ncol(m)           # numero de columnas en la matriz\n",
    "    means <- numeric(nc)    # vector de valores 0 y longitud nc\n",
    "    for (i in 1:nc){\n",
    "        means[i] <- mean(m[,i],na.rm = TRUE)\n",
    "    }\n",
    "    means\n",
    "}\n",
    "\n",
    "mean_airquality <- columnmean(airquality) # airquality es uno de los datasets de ejemplo incluido en R\n",
    "names(mean_airquality) <- colnames(airquality) # da los mismos nombres que airquality\n",
    "mean_airquality [1:4] # no mostramos los valores de mes y día"
   ]
  },
  {
   "cell_type": "markdown",
   "metadata": {},
   "source": [
    "Podemos dar los argumentos en un orden distinto si los nombramos"
   ]
  },
  {
   "cell_type": "code",
   "execution_count": 11,
   "metadata": {},
   "outputs": [
    {
     "data": {
      "text/html": [
       "9"
      ],
      "text/latex": [
       "9"
      ],
      "text/markdown": [
       "9"
      ],
      "text/plain": [
       "[1] 9"
      ]
     },
     "metadata": {},
     "output_type": "display_data"
    },
    {
     "data": {
      "text/html": [
       "9"
      ],
      "text/latex": [
       "9"
      ],
      "text/markdown": [
       "9"
      ],
      "text/plain": [
       "[1] 9"
      ]
     },
     "metadata": {},
     "output_type": "display_data"
    },
    {
     "data": {
      "text/html": [
       "9"
      ],
      "text/latex": [
       "9"
      ],
      "text/markdown": [
       "9"
      ],
      "text/plain": [
       "[1] 9"
      ]
     },
     "metadata": {},
     "output_type": "display_data"
    }
   ],
   "source": [
    "suma3 <- function (a, b, c){\n",
    "    c*(a+b)\n",
    "}\n",
    "suma3(a=1,b=2,c=3)\n",
    "suma3(b=2,a=1,c=3) # mismo resultado\n",
    "suma3(b=2,1,3) # mismo resultado; el orden de los argumentos sin nombre se mantiene"
   ]
  },
  {
   "cell_type": "markdown",
   "metadata": {},
   "source": [
    "El argumento \"...\" (puntos suspensivos) indica un número variable de argumentos. Se utiliza cuando extendemos el uso de otra función y queremos evitar copiar todos los argumentos otra vez."
   ]
  },
  {
   "cell_type": "code",
   "execution_count": null,
   "metadata": {},
   "outputs": [],
   "source": [
    "miplot <- function(x,y, type =1\", ...\"){\n",
    "    plot (x,y,type = type, ...)\n",
    "}"
   ]
  },
  {
   "cell_type": "markdown",
   "metadata": {},
   "source": [
    "## Scoping Rules ##"
   ]
  },
  {
   "cell_type": "markdown",
   "metadata": {},
   "source": [
    "Las reglas de ambito define como se socia un valor con una variable en una función. R usa un \"lexical scopint\" o \"static scoping\""
   ]
  },
  {
   "cell_type": "markdown",
   "metadata": {},
   "source": [
    "Cuando llamamos a una función o usamos una variable, R busca su definición o valor en el entorno de usuario (llamado GlobalEnv). Si no lo encuentra aquí pasará a buscarlo en otros entornos. Esto lo podemos ver con la función search()"
   ]
  },
  {
   "cell_type": "code",
   "execution_count": 12,
   "metadata": {},
   "outputs": [
    {
     "data": {
      "text/html": [
       "<ol class=list-inline>\n",
       "\t<li>'.GlobalEnv'</li>\n",
       "\t<li>'jupyter:irkernel'</li>\n",
       "\t<li>'package:stats'</li>\n",
       "\t<li>'package:graphics'</li>\n",
       "\t<li>'package:grDevices'</li>\n",
       "\t<li>'package:utils'</li>\n",
       "\t<li>'package:datasets'</li>\n",
       "\t<li>'package:methods'</li>\n",
       "\t<li>'Autoloads'</li>\n",
       "\t<li>'package:base'</li>\n",
       "</ol>\n"
      ],
      "text/latex": [
       "\\begin{enumerate*}\n",
       "\\item '.GlobalEnv'\n",
       "\\item 'jupyter:irkernel'\n",
       "\\item 'package:stats'\n",
       "\\item 'package:graphics'\n",
       "\\item 'package:grDevices'\n",
       "\\item 'package:utils'\n",
       "\\item 'package:datasets'\n",
       "\\item 'package:methods'\n",
       "\\item 'Autoloads'\n",
       "\\item 'package:base'\n",
       "\\end{enumerate*}\n"
      ],
      "text/markdown": [
       "1. '.GlobalEnv'\n",
       "2. 'jupyter:irkernel'\n",
       "3. 'package:stats'\n",
       "4. 'package:graphics'\n",
       "5. 'package:grDevices'\n",
       "6. 'package:utils'\n",
       "7. 'package:datasets'\n",
       "8. 'package:methods'\n",
       "9. 'Autoloads'\n",
       "10. 'package:base'\n",
       "\n",
       "\n"
      ],
      "text/plain": [
       " [1] \".GlobalEnv\"        \"jupyter:irkernel\"  \"package:stats\"    \n",
       " [4] \"package:graphics\"  \"package:grDevices\" \"package:utils\"    \n",
       " [7] \"package:datasets\"  \"package:methods\"   \"Autoloads\"        \n",
       "[10] \"package:base\"     "
      ]
     },
     "metadata": {},
     "output_type": "display_data"
    }
   ],
   "source": [
    "search()"
   ]
  },
  {
   "cell_type": "markdown",
   "metadata": {},
   "source": [
    "R tiene espacios separados para las funciones y las variables, de forma que podemos tener una variable y una función coexistindo bajo el mismo nombre."
   ]
  },
  {
   "cell_type": "markdown",
   "metadata": {},
   "source": [
    "So, this function has two formal arguments they're\n",
    " called x and y.\n",
    " And the body of the function, basically it squares x\n",
    " and it adds the ratio of y divided by z, okay?\n",
    " So, x is clear, and y is clear, but where did z come from, right?\n",
    " And so, in this case, x and y are formal arguments, but this, the symbol z\n",
    " is what's called a free variable, because it\n",
    " wasn't defined in the function, in the function header."
   ]
  },
  {
   "cell_type": "code",
   "execution_count": null,
   "metadata": {},
   "outputs": [],
   "source": [
    "f <- function (x,y) {\n",
    "    x^2 + y/z\n",
    "}"
   ]
  },
  {
   "cell_type": "markdown",
   "metadata": {},
   "source": [
    "Lexical scopin in R means that the values of free variables are searched for in the environment in which the function was defined. What is an environment?\n",
    "- an environment is a collection of symbol and value pairs, i.e. x is a symbol and 2.14 might be its value\n",
    "- every environment has a parent environment. It is possible for a parent to have multiple \"children\"\n",
    "- the only environment without a parent is the empty environment\n",
    "- a function + an environment is a \"closure\" or \"function closure\". This closure are key to a lot of interesting things in R.\n",
    "\n",
    "If a value of a symbol is not found in the environment in which a function was defined, then the search is continued in the parent environment. The search continues down the sequence of parent environments until we hit the top-levelenvironment; this is usually the global environment or the namespace of a package. After the top-level environment, the search continues down the search list until we hit the empty environment. If a value for a given symbol cannot be found once the empty environment is arrived at, then an error is thrown."
   ]
  },
  {
   "cell_type": "code",
   "execution_count": 1,
   "metadata": {},
   "outputs": [
    {
     "data": {
      "text/html": [
       "27"
      ],
      "text/latex": [
       "27"
      ],
      "text/markdown": [
       "27"
      ],
      "text/plain": [
       "[1] 27"
      ]
     },
     "metadata": {},
     "output_type": "display_data"
    },
    {
     "data": {
      "text/html": [
       "4"
      ],
      "text/latex": [
       "4"
      ],
      "text/markdown": [
       "4"
      ],
      "text/plain": [
       "[1] 4"
      ]
     },
     "metadata": {},
     "output_type": "display_data"
    }
   ],
   "source": [
    "make.power <- function(n) {\n",
    "    pwe <- function(x){\n",
    "        x^n\n",
    "    }\n",
    "}\n",
    "\n",
    "cube <- make.power(3)\n",
    "square <- make.power(2)\n",
    "\n",
    "cube(3)\n",
    "square(2)"
   ]
  },
  {
   "cell_type": "code",
   "execution_count": 3,
   "metadata": {},
   "outputs": [
    {
     "data": {
      "text/html": [
       "<ol class=list-inline>\n",
       "\t<li>'n'</li>\n",
       "\t<li>'pwe'</li>\n",
       "</ol>\n"
      ],
      "text/latex": [
       "\\begin{enumerate*}\n",
       "\\item 'n'\n",
       "\\item 'pwe'\n",
       "\\end{enumerate*}\n"
      ],
      "text/markdown": [
       "1. 'n'\n",
       "2. 'pwe'\n",
       "\n",
       "\n"
      ],
      "text/plain": [
       "[1] \"n\"   \"pwe\""
      ]
     },
     "metadata": {},
     "output_type": "display_data"
    },
    {
     "data": {
      "text/html": [
       "3"
      ],
      "text/latex": [
       "3"
      ],
      "text/markdown": [
       "3"
      ],
      "text/plain": [
       "[1] 3"
      ]
     },
     "metadata": {},
     "output_type": "display_data"
    },
    {
     "data": {
      "text/html": [
       "<ol class=list-inline>\n",
       "\t<li>'n'</li>\n",
       "\t<li>'pwe'</li>\n",
       "</ol>\n"
      ],
      "text/latex": [
       "\\begin{enumerate*}\n",
       "\\item 'n'\n",
       "\\item 'pwe'\n",
       "\\end{enumerate*}\n"
      ],
      "text/markdown": [
       "1. 'n'\n",
       "2. 'pwe'\n",
       "\n",
       "\n"
      ],
      "text/plain": [
       "[1] \"n\"   \"pwe\""
      ]
     },
     "metadata": {},
     "output_type": "display_data"
    },
    {
     "data": {
      "text/html": [
       "2"
      ],
      "text/latex": [
       "2"
      ],
      "text/markdown": [
       "2"
      ],
      "text/plain": [
       "[1] 2"
      ]
     },
     "metadata": {},
     "output_type": "display_data"
    }
   ],
   "source": [
    "ls(environment(cube))\n",
    "get(\"n\",environment(cube))\n",
    "ls(environment(square))\n",
    "get(\"n\",environment(square))"
   ]
  },
  {
   "cell_type": "code",
   "execution_count": null,
   "metadata": {},
   "outputs": [],
   "source": []
  }
 ],
 "metadata": {
  "kernelspec": {
   "display_name": "R",
   "language": "R",
   "name": "ir"
  },
  "language_info": {
   "codemirror_mode": "r",
   "file_extension": ".r",
   "mimetype": "text/x-r-source",
   "name": "R",
   "pygments_lexer": "r",
   "version": "3.4.2"
  }
 },
 "nbformat": 4,
 "nbformat_minor": 2
}
