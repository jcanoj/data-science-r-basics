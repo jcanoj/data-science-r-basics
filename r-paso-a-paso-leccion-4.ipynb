{
 "cells": [
  {
   "cell_type": "markdown",
   "metadata": {
    "collapsed": true
   },
   "source": [
    "### Más operaciones con los vectores ##"
   ]
  },
  {
   "cell_type": "markdown",
   "metadata": {},
   "source": [
    "Podemos filtrar un vector basandonos en las propiedades de otro vector."
   ]
  },
  {
   "cell_type": "code",
   "execution_count": null,
   "metadata": {
    "collapsed": true
   },
   "outputs": [],
   "source": [
    "planetas <- c('Mercurio','Venus','Tierra','Marte','Jupiter','Saturno','Urano','Neptuno')\n",
    "diametro <- c(4880, 12104, 12756, 6794, 142984, 108728, 51118, 49532) # en km\n",
    "radio_ecuatorial <- c(2440, 6052, 6378, 3397, 71492, 60268, 25559, 24746) # en km\n",
    "masa <- c(3.302E23, 4.8690E24, 5.9742E24, 6.4191E23, 1.8987E27, 5.6851E26, 8.6849E25, 1.0244E26) # en kg\n",
    "densidad <- c(5.43, 5.24, 5.515, 3.940, 1.33, 0.697, 1.29, 1.76)\n",
    "distancia_sol <- c(57910000, 108200000, 149600000, 227940000, 778330000, 1429400000, 2870990000, 4504300000) # en km\n",
    "lunas <- c(0,0,1,2,16,18,15,8)\n",
    "sistema_solar <- data.frame(planetas, diametro, radio_ecuatorial, masa, densidad, distancia_sol, lunas)"
   ]
  },
  {
   "cell_type": "code",
   "execution_count": null,
   "metadata": {
    "collapsed": true
   },
   "outputs": [],
   "source": [
    "masa_comparada <- masa / masa$"
   ]
  }
 ],
 "metadata": {
  "kernelspec": {
   "display_name": "R",
   "language": "R",
   "name": "ir"
  },
  "language_info": {
   "codemirror_mode": "r",
   "file_extension": ".r",
   "mimetype": "text/x-r-source",
   "name": "R",
   "pygments_lexer": "r",
   "version": "3.4.1"
  }
 },
 "nbformat": 4,
 "nbformat_minor": 2
}
