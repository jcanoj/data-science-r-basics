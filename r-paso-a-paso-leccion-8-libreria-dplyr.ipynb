{
 "cells": [
  {
   "cell_type": "markdown",
   "metadata": {},
   "source": [
    "#  La libreria dplyr #"
   ]
  },
  {
   "cell_type": "markdown",
   "metadata": {},
   "source": [
    "**dplyr** es un paquete para la manipulacion de datos.\n",
    "https://www.r-bloggers.com/data-manipulation-with-dplyr/\n",
    "R nos avisará con un mensaje que algunas funciones existentes en librerias precargadas (stats, base) van a ser enmascaradas ya que el paquete dplyr contiene otras similares"
   ]
  },
  {
   "cell_type": "code",
   "execution_count": 1,
   "metadata": {
    "scrolled": true
   },
   "outputs": [
    {
     "name": "stderr",
     "output_type": "stream",
     "text": [
      "\n",
      "Attaching package: 'dplyr'\n",
      "\n",
      "The following objects are masked from 'package:stats':\n",
      "\n",
      "    filter, lag\n",
      "\n",
      "The following objects are masked from 'package:base':\n",
      "\n",
      "    intersect, setdiff, setequal, union\n",
      "\n"
     ]
    }
   ],
   "source": [
    "library(dplyr)"
   ]
  },
  {
   "cell_type": "markdown",
   "metadata": {},
   "source": [
    "## mutate, select, filter y el operador '%>%' ##"
   ]
  },
  {
   "cell_type": "markdown",
   "metadata": {},
   "source": [
    "- **mutate** nos permite añadir una nueva columna a un dataset o modificar una existente\n",
    "- **filter** permite filtrar los datos por filas y crear un subconjunto\n",
    "- **select** selecciona un conjunto de columnas y crea un subconjunto con ellas\n",
    "- **%>** es un operador que nos permite enviar el resultado de una operación a otra función."
   ]
  },
  {
   "cell_type": "markdown",
   "metadata": {},
   "source": [
    "En la siguiente tabla la columna Temp muestra la temperatura en K. "
   ]
  },
  {
   "cell_type": "code",
   "execution_count": 1,
   "metadata": {
    "scrolled": false
   },
   "outputs": [
    {
     "data": {
      "text/html": [
       "<table>\n",
       "<thead><tr><th scope=col>Ozone</th><th scope=col>Solar.R</th><th scope=col>Wind</th><th scope=col>Temp</th><th scope=col>Month</th><th scope=col>Day</th></tr></thead>\n",
       "<tbody>\n",
       "\t<tr><td>41  </td><td>190 </td><td> 7.4</td><td>67  </td><td>5   </td><td>1   </td></tr>\n",
       "\t<tr><td>36  </td><td>118 </td><td> 8.0</td><td>72  </td><td>5   </td><td>2   </td></tr>\n",
       "\t<tr><td>12  </td><td>149 </td><td>12.6</td><td>74  </td><td>5   </td><td>3   </td></tr>\n",
       "\t<tr><td>18  </td><td>313 </td><td>11.5</td><td>62  </td><td>5   </td><td>4   </td></tr>\n",
       "\t<tr><td>NA  </td><td> NA </td><td>14.3</td><td>56  </td><td>5   </td><td>5   </td></tr>\n",
       "\t<tr><td>28  </td><td> NA </td><td>14.9</td><td>66  </td><td>5   </td><td>6   </td></tr>\n",
       "</tbody>\n",
       "</table>\n"
      ],
      "text/latex": [
       "\\begin{tabular}{r|llllll}\n",
       " Ozone & Solar.R & Wind & Temp & Month & Day\\\\\n",
       "\\hline\n",
       "\t 41   & 190  &  7.4 & 67   & 5    & 1   \\\\\n",
       "\t 36   & 118  &  8.0 & 72   & 5    & 2   \\\\\n",
       "\t 12   & 149  & 12.6 & 74   & 5    & 3   \\\\\n",
       "\t 18   & 313  & 11.5 & 62   & 5    & 4   \\\\\n",
       "\t NA   &  NA  & 14.3 & 56   & 5    & 5   \\\\\n",
       "\t 28   &  NA  & 14.9 & 66   & 5    & 6   \\\\\n",
       "\\end{tabular}\n"
      ],
      "text/markdown": [
       "\n",
       "Ozone | Solar.R | Wind | Temp | Month | Day | \n",
       "|---|---|---|---|---|---|\n",
       "| 41   | 190  |  7.4 | 67   | 5    | 1    | \n",
       "| 36   | 118  |  8.0 | 72   | 5    | 2    | \n",
       "| 12   | 149  | 12.6 | 74   | 5    | 3    | \n",
       "| 18   | 313  | 11.5 | 62   | 5    | 4    | \n",
       "| NA   |  NA  | 14.3 | 56   | 5    | 5    | \n",
       "| 28   |  NA  | 14.9 | 66   | 5    | 6    | \n",
       "\n",
       "\n"
      ],
      "text/plain": [
       "  Ozone Solar.R Wind Temp Month Day\n",
       "1 41    190      7.4 67   5     1  \n",
       "2 36    118      8.0 72   5     2  \n",
       "3 12    149     12.6 74   5     3  \n",
       "4 18    313     11.5 62   5     4  \n",
       "5 NA     NA     14.3 56   5     5  \n",
       "6 28     NA     14.9 66   5     6  "
      ]
     },
     "metadata": {},
     "output_type": "display_data"
    }
   ],
   "source": [
    "library (datasets)\n",
    "head(airquality) # datos sobre calidad del aire en New York de mayo a sept de 1973"
   ]
  },
  {
   "cell_type": "markdown",
   "metadata": {},
   "source": [
    "Cuando usamos estas funciones no es necesario el operador ** $ ** para hacer referencia a una variable del dataframe"
   ]
  },
  {
   "cell_type": "code",
   "execution_count": 2,
   "metadata": {},
   "outputs": [
    {
     "data": {
      "text/html": [
       "<table>\n",
       "<thead><tr><th scope=col>Ozone</th><th scope=col>Solar.R</th><th scope=col>Wind</th><th scope=col>Temp</th><th scope=col>Month</th><th scope=col>Day</th><th scope=col>TempInC</th></tr></thead>\n",
       "<tbody>\n",
       "\t<tr><td>41      </td><td>190     </td><td> 7.4    </td><td>67      </td><td>5       </td><td>1       </td><td>19.44444</td></tr>\n",
       "\t<tr><td>36      </td><td>118     </td><td> 8.0    </td><td>72      </td><td>5       </td><td>2       </td><td>22.22222</td></tr>\n",
       "\t<tr><td>12      </td><td>149     </td><td>12.6    </td><td>74      </td><td>5       </td><td>3       </td><td>23.33333</td></tr>\n",
       "\t<tr><td>18      </td><td>313     </td><td>11.5    </td><td>62      </td><td>5       </td><td>4       </td><td>16.66667</td></tr>\n",
       "\t<tr><td>NA      </td><td> NA     </td><td>14.3    </td><td>56      </td><td>5       </td><td>5       </td><td>13.33333</td></tr>\n",
       "\t<tr><td>28      </td><td> NA     </td><td>14.9    </td><td>66      </td><td>5       </td><td>6       </td><td>18.88889</td></tr>\n",
       "</tbody>\n",
       "</table>\n"
      ],
      "text/latex": [
       "\\begin{tabular}{r|lllllll}\n",
       " Ozone & Solar.R & Wind & Temp & Month & Day & TempInC\\\\\n",
       "\\hline\n",
       "\t 41       & 190      &  7.4     & 67       & 5        & 1        & 19.44444\\\\\n",
       "\t 36       & 118      &  8.0     & 72       & 5        & 2        & 22.22222\\\\\n",
       "\t 12       & 149      & 12.6     & 74       & 5        & 3        & 23.33333\\\\\n",
       "\t 18       & 313      & 11.5     & 62       & 5        & 4        & 16.66667\\\\\n",
       "\t NA       &  NA      & 14.3     & 56       & 5        & 5        & 13.33333\\\\\n",
       "\t 28       &  NA      & 14.9     & 66       & 5        & 6        & 18.88889\\\\\n",
       "\\end{tabular}\n"
      ],
      "text/markdown": [
       "\n",
       "Ozone | Solar.R | Wind | Temp | Month | Day | TempInC | \n",
       "|---|---|---|---|---|---|\n",
       "| 41       | 190      |  7.4     | 67       | 5        | 1        | 19.44444 | \n",
       "| 36       | 118      |  8.0     | 72       | 5        | 2        | 22.22222 | \n",
       "| 12       | 149      | 12.6     | 74       | 5        | 3        | 23.33333 | \n",
       "| 18       | 313      | 11.5     | 62       | 5        | 4        | 16.66667 | \n",
       "| NA       |  NA      | 14.3     | 56       | 5        | 5        | 13.33333 | \n",
       "| 28       |  NA      | 14.9     | 66       | 5        | 6        | 18.88889 | \n",
       "\n",
       "\n"
      ],
      "text/plain": [
       "  Ozone Solar.R Wind Temp Month Day TempInC \n",
       "1 41    190      7.4 67   5     1   19.44444\n",
       "2 36    118      8.0 72   5     2   22.22222\n",
       "3 12    149     12.6 74   5     3   23.33333\n",
       "4 18    313     11.5 62   5     4   16.66667\n",
       "5 NA     NA     14.3 56   5     5   13.33333\n",
       "6 28     NA     14.9 66   5     6   18.88889"
      ]
     },
     "metadata": {},
     "output_type": "display_data"
    }
   ],
   "source": [
    "airquality_mutated <- mutate(airquality, TempInC = (Temp - 32) * 5 / 9) # agrea la columna TempInc al dataframe airquality\n",
    "head (airquality_mutated)"
   ]
  },
  {
   "cell_type": "code",
   "execution_count": 8,
   "metadata": {},
   "outputs": [
    {
     "data": {
      "text/html": [
       "<table>\n",
       "<thead><tr><th scope=col>Ozone</th><th scope=col>Solar.R</th><th scope=col>Wind</th><th scope=col>Temp</th><th scope=col>Month</th><th scope=col>Day</th></tr></thead>\n",
       "<tbody>\n",
       "\t<tr><td> 36 </td><td>118 </td><td> 8.0</td><td>72  </td><td>5   </td><td> 2  </td></tr>\n",
       "\t<tr><td> 12 </td><td>149 </td><td>12.6</td><td>74  </td><td>5   </td><td> 3  </td></tr>\n",
       "\t<tr><td>  7 </td><td> NA </td><td> 6.9</td><td>74  </td><td>5   </td><td>11  </td></tr>\n",
       "\t<tr><td> 11 </td><td>320 </td><td>16.6</td><td>73  </td><td>5   </td><td>22  </td></tr>\n",
       "\t<tr><td> 45 </td><td>252 </td><td>14.9</td><td>81  </td><td>5   </td><td>29  </td></tr>\n",
       "\t<tr><td>115 </td><td>223 </td><td> 5.7</td><td>79  </td><td>5   </td><td>30  </td></tr>\n",
       "</tbody>\n",
       "</table>\n"
      ],
      "text/latex": [
       "\\begin{tabular}{r|llllll}\n",
       " Ozone & Solar.R & Wind & Temp & Month & Day\\\\\n",
       "\\hline\n",
       "\t  36  & 118  &  8.0 & 72   & 5    &  2  \\\\\n",
       "\t  12  & 149  & 12.6 & 74   & 5    &  3  \\\\\n",
       "\t   7  &  NA  &  6.9 & 74   & 5    & 11  \\\\\n",
       "\t  11  & 320  & 16.6 & 73   & 5    & 22  \\\\\n",
       "\t  45  & 252  & 14.9 & 81   & 5    & 29  \\\\\n",
       "\t 115  & 223  &  5.7 & 79   & 5    & 30  \\\\\n",
       "\\end{tabular}\n"
      ],
      "text/markdown": [
       "\n",
       "Ozone | Solar.R | Wind | Temp | Month | Day | \n",
       "|---|---|---|---|---|---|\n",
       "|  36  | 118  |  8.0 | 72   | 5    |  2   | \n",
       "|  12  | 149  | 12.6 | 74   | 5    |  3   | \n",
       "|   7  |  NA  |  6.9 | 74   | 5    | 11   | \n",
       "|  11  | 320  | 16.6 | 73   | 5    | 22   | \n",
       "|  45  | 252  | 14.9 | 81   | 5    | 29   | \n",
       "| 115  | 223  |  5.7 | 79   | 5    | 30   | \n",
       "\n",
       "\n"
      ],
      "text/plain": [
       "  Ozone Solar.R Wind Temp Month Day\n",
       "1  36   118      8.0 72   5      2 \n",
       "2  12   149     12.6 74   5      3 \n",
       "3   7    NA      6.9 74   5     11 \n",
       "4  11   320     16.6 73   5     22 \n",
       "5  45   252     14.9 81   5     29 \n",
       "6 115   223      5.7 79   5     30 "
      ]
     },
     "metadata": {},
     "output_type": "display_data"
    }
   ],
   "source": [
    "airquality_70 <- filter(airquality, Temp > 70) # filtra y crea un subgrupo con los registros cuya Temp sea mayor de 70F\n",
    "head(airquality_70)"
   ]
  },
  {
   "cell_type": "code",
   "execution_count": 10,
   "metadata": {},
   "outputs": [
    {
     "data": {
      "text/html": [
       "<table>\n",
       "<thead><tr><th scope=col>Ozone</th><th scope=col>Solar.R</th><th scope=col>Wind</th><th scope=col>Temp</th><th scope=col>Month</th><th scope=col>Day</th></tr></thead>\n",
       "<tbody>\n",
       "\t<tr><td>NA  </td><td>186 </td><td> 9.2</td><td>84  </td><td>6   </td><td> 4  </td></tr>\n",
       "\t<tr><td>NA  </td><td>220 </td><td> 8.6</td><td>85  </td><td>6   </td><td> 5  </td></tr>\n",
       "\t<tr><td>29  </td><td>127 </td><td> 9.7</td><td>82  </td><td>6   </td><td> 7  </td></tr>\n",
       "\t<tr><td>NA  </td><td>273 </td><td> 6.9</td><td>87  </td><td>6   </td><td> 8  </td></tr>\n",
       "\t<tr><td>71  </td><td>291 </td><td>13.8</td><td>90  </td><td>6   </td><td> 9  </td></tr>\n",
       "\t<tr><td>39  </td><td>323 </td><td>11.5</td><td>87  </td><td>6   </td><td>10  </td></tr>\n",
       "</tbody>\n",
       "</table>\n"
      ],
      "text/latex": [
       "\\begin{tabular}{r|llllll}\n",
       " Ozone & Solar.R & Wind & Temp & Month & Day\\\\\n",
       "\\hline\n",
       "\t NA   & 186  &  9.2 & 84   & 6    &  4  \\\\\n",
       "\t NA   & 220  &  8.6 & 85   & 6    &  5  \\\\\n",
       "\t 29   & 127  &  9.7 & 82   & 6    &  7  \\\\\n",
       "\t NA   & 273  &  6.9 & 87   & 6    &  8  \\\\\n",
       "\t 71   & 291  & 13.8 & 90   & 6    &  9  \\\\\n",
       "\t 39   & 323  & 11.5 & 87   & 6    & 10  \\\\\n",
       "\\end{tabular}\n"
      ],
      "text/markdown": [
       "\n",
       "Ozone | Solar.R | Wind | Temp | Month | Day | \n",
       "|---|---|---|---|---|---|\n",
       "| NA   | 186  |  9.2 | 84   | 6    |  4   | \n",
       "| NA   | 220  |  8.6 | 85   | 6    |  5   | \n",
       "| 29   | 127  |  9.7 | 82   | 6    |  7   | \n",
       "| NA   | 273  |  6.9 | 87   | 6    |  8   | \n",
       "| 71   | 291  | 13.8 | 90   | 6    |  9   | \n",
       "| 39   | 323  | 11.5 | 87   | 6    | 10   | \n",
       "\n",
       "\n"
      ],
      "text/plain": [
       "  Ozone Solar.R Wind Temp Month Day\n",
       "1 NA    186      9.2 84   6      4 \n",
       "2 NA    220      8.6 85   6      5 \n",
       "3 29    127      9.7 82   6      7 \n",
       "4 NA    273      6.9 87   6      8 \n",
       "5 71    291     13.8 90   6      9 \n",
       "6 39    323     11.5 87   6     10 "
      ]
     },
     "metadata": {},
     "output_type": "display_data"
    }
   ],
   "source": [
    "airquality_80 <- filter(airquality, Temp > 80 & Month > 5) # podemos combinar \n",
    "head(airquality_80)"
   ]
  },
  {
   "cell_type": "code",
   "execution_count": 28,
   "metadata": {
    "scrolled": false
   },
   "outputs": [
    {
     "data": {
      "text/html": [
       "<table>\n",
       "<thead><tr><th scope=col>Temp</th><th scope=col>Month</th><th scope=col>Day</th></tr></thead>\n",
       "<tbody>\n",
       "\t<tr><td>67</td><td>5 </td><td>1 </td></tr>\n",
       "\t<tr><td>72</td><td>5 </td><td>2 </td></tr>\n",
       "\t<tr><td>74</td><td>5 </td><td>3 </td></tr>\n",
       "\t<tr><td>62</td><td>5 </td><td>4 </td></tr>\n",
       "\t<tr><td>56</td><td>5 </td><td>5 </td></tr>\n",
       "\t<tr><td>66</td><td>5 </td><td>6 </td></tr>\n",
       "</tbody>\n",
       "</table>\n"
      ],
      "text/latex": [
       "\\begin{tabular}{r|lll}\n",
       " Temp & Month & Day\\\\\n",
       "\\hline\n",
       "\t 67 & 5  & 1 \\\\\n",
       "\t 72 & 5  & 2 \\\\\n",
       "\t 74 & 5  & 3 \\\\\n",
       "\t 62 & 5  & 4 \\\\\n",
       "\t 56 & 5  & 5 \\\\\n",
       "\t 66 & 5  & 6 \\\\\n",
       "\\end{tabular}\n"
      ],
      "text/markdown": [
       "\n",
       "Temp | Month | Day | \n",
       "|---|---|---|---|---|---|\n",
       "| 67 | 5  | 1  | \n",
       "| 72 | 5  | 2  | \n",
       "| 74 | 5  | 3  | \n",
       "| 62 | 5  | 4  | \n",
       "| 56 | 5  | 5  | \n",
       "| 66 | 5  | 6  | \n",
       "\n",
       "\n"
      ],
      "text/plain": [
       "  Temp Month Day\n",
       "1 67   5     1  \n",
       "2 72   5     2  \n",
       "3 74   5     3  \n",
       "4 62   5     4  \n",
       "5 56   5     5  \n",
       "6 66   5     6  "
      ]
     },
     "metadata": {},
     "output_type": "display_data"
    }
   ],
   "source": [
    "temperatures_table <- select(airquality, Temp, Month, Day) # crea un subconjunto de datos con las variables Temp, Month y Day\n",
    "head(temp)"
   ]
  },
  {
   "cell_type": "code",
   "execution_count": 33,
   "metadata": {},
   "outputs": [
    {
     "data": {
      "text/html": [
       "<table>\n",
       "<thead><tr><th scope=col>media</th></tr></thead>\n",
       "<tbody>\n",
       "\t<tr><td>77.88235</td></tr>\n",
       "</tbody>\n",
       "</table>\n"
      ],
      "text/latex": [
       "\\begin{tabular}{r|l}\n",
       " media\\\\\n",
       "\\hline\n",
       "\t 77.88235\\\\\n",
       "\\end{tabular}\n"
      ],
      "text/markdown": [
       "\n",
       "media | \n",
       "|---|\n",
       "| 77.88235 | \n",
       "\n",
       "\n"
      ],
      "text/plain": [
       "  media   \n",
       "1 77.88235"
      ]
     },
     "metadata": {},
     "output_type": "display_data"
    }
   ],
   "source": [
    "summarize(temperatures_table, media = mean(Temp, na.rm = TRUE)) # agrupa la variable "
   ]
  },
  {
   "cell_type": "code",
   "execution_count": 35,
   "metadata": {},
   "outputs": [
    {
     "data": {
      "text/html": [
       "<table>\n",
       "<thead><tr><th scope=col>Month</th><th scope=col>media</th></tr></thead>\n",
       "<tbody>\n",
       "\t<tr><td>5       </td><td>65.54839</td></tr>\n",
       "\t<tr><td>6       </td><td>79.10000</td></tr>\n",
       "\t<tr><td>7       </td><td>83.90323</td></tr>\n",
       "\t<tr><td>8       </td><td>83.96774</td></tr>\n",
       "\t<tr><td>9       </td><td>76.90000</td></tr>\n",
       "</tbody>\n",
       "</table>\n"
      ],
      "text/latex": [
       "\\begin{tabular}{r|ll}\n",
       " Month & media\\\\\n",
       "\\hline\n",
       "\t 5        & 65.54839\\\\\n",
       "\t 6        & 79.10000\\\\\n",
       "\t 7        & 83.90323\\\\\n",
       "\t 8        & 83.96774\\\\\n",
       "\t 9        & 76.90000\\\\\n",
       "\\end{tabular}\n"
      ],
      "text/markdown": [
       "\n",
       "Month | media | \n",
       "|---|---|---|---|---|\n",
       "| 5        | 65.54839 | \n",
       "| 6        | 79.10000 | \n",
       "| 7        | 83.90323 | \n",
       "| 8        | 83.96774 | \n",
       "| 9        | 76.90000 | \n",
       "\n",
       "\n"
      ],
      "text/plain": [
       "  Month media   \n",
       "1 5     65.54839\n",
       "2 6     79.10000\n",
       "3 7     83.90323\n",
       "4 8     83.96774\n",
       "5 9     76.90000"
      ]
     },
     "metadata": {},
     "output_type": "display_data"
    }
   ],
   "source": [
    "summarise(group_by(temperatures_table, Month), media = mean(Temp, na.rm = TRUE))"
   ]
  },
  {
   "cell_type": "markdown",
   "metadata": {},
   "source": [
    "### El operador %>% ###"
   ]
  },
  {
   "cell_type": "code",
   "execution_count": 16,
   "metadata": {
    "scrolled": true
   },
   "outputs": [
    {
     "data": {
      "text/html": [
       "<table>\n",
       "<thead><tr><th scope=col>Temp</th><th scope=col>Month</th><th scope=col>Day</th></tr></thead>\n",
       "<tbody>\n",
       "\t<tr><td>72</td><td>5 </td><td> 2</td></tr>\n",
       "\t<tr><td>74</td><td>5 </td><td> 3</td></tr>\n",
       "\t<tr><td>74</td><td>5 </td><td>11</td></tr>\n",
       "\t<tr><td>73</td><td>5 </td><td>22</td></tr>\n",
       "\t<tr><td>81</td><td>5 </td><td>29</td></tr>\n",
       "\t<tr><td>79</td><td>5 </td><td>30</td></tr>\n",
       "\t<tr><td>76</td><td>5 </td><td>31</td></tr>\n",
       "\t<tr><td>78</td><td>6 </td><td> 1</td></tr>\n",
       "\t<tr><td>74</td><td>6 </td><td> 2</td></tr>\n",
       "\t<tr><td>84</td><td>6 </td><td> 4</td></tr>\n",
       "\t<tr><td>85</td><td>6 </td><td> 5</td></tr>\n",
       "\t<tr><td>79</td><td>6 </td><td> 6</td></tr>\n",
       "\t<tr><td>82</td><td>6 </td><td> 7</td></tr>\n",
       "\t<tr><td>87</td><td>6 </td><td> 8</td></tr>\n",
       "\t<tr><td>90</td><td>6 </td><td> 9</td></tr>\n",
       "\t<tr><td>87</td><td>6 </td><td>10</td></tr>\n",
       "\t<tr><td>93</td><td>6 </td><td>11</td></tr>\n",
       "\t<tr><td>92</td><td>6 </td><td>12</td></tr>\n",
       "\t<tr><td>82</td><td>6 </td><td>13</td></tr>\n",
       "\t<tr><td>80</td><td>6 </td><td>14</td></tr>\n",
       "\t<tr><td>79</td><td>6 </td><td>15</td></tr>\n",
       "\t<tr><td>77</td><td>6 </td><td>16</td></tr>\n",
       "\t<tr><td>72</td><td>6 </td><td>17</td></tr>\n",
       "\t<tr><td>73</td><td>6 </td><td>19</td></tr>\n",
       "\t<tr><td>76</td><td>6 </td><td>20</td></tr>\n",
       "\t<tr><td>77</td><td>6 </td><td>21</td></tr>\n",
       "\t<tr><td>76</td><td>6 </td><td>22</td></tr>\n",
       "\t<tr><td>76</td><td>6 </td><td>23</td></tr>\n",
       "\t<tr><td>76</td><td>6 </td><td>24</td></tr>\n",
       "\t<tr><td>75</td><td>6 </td><td>25</td></tr>\n",
       "\t<tr><td>...</td><td>...</td><td>...</td></tr>\n",
       "\t<tr><td>81</td><td>8 </td><td>25</td></tr>\n",
       "\t<tr><td>86</td><td>8 </td><td>26</td></tr>\n",
       "\t<tr><td>88</td><td>8 </td><td>27</td></tr>\n",
       "\t<tr><td>97</td><td>8 </td><td>28</td></tr>\n",
       "\t<tr><td>94</td><td>8 </td><td>29</td></tr>\n",
       "\t<tr><td>96</td><td>8 </td><td>30</td></tr>\n",
       "\t<tr><td>94</td><td>8 </td><td>31</td></tr>\n",
       "\t<tr><td>91</td><td>9 </td><td> 1</td></tr>\n",
       "\t<tr><td>92</td><td>9 </td><td> 2</td></tr>\n",
       "\t<tr><td>93</td><td>9 </td><td> 3</td></tr>\n",
       "\t<tr><td>93</td><td>9 </td><td> 4</td></tr>\n",
       "\t<tr><td>87</td><td>9 </td><td> 5</td></tr>\n",
       "\t<tr><td>84</td><td>9 </td><td> 6</td></tr>\n",
       "\t<tr><td>80</td><td>9 </td><td> 7</td></tr>\n",
       "\t<tr><td>78</td><td>9 </td><td> 8</td></tr>\n",
       "\t<tr><td>75</td><td>9 </td><td> 9</td></tr>\n",
       "\t<tr><td>73</td><td>9 </td><td>10</td></tr>\n",
       "\t<tr><td>81</td><td>9 </td><td>11</td></tr>\n",
       "\t<tr><td>76</td><td>9 </td><td>12</td></tr>\n",
       "\t<tr><td>77</td><td>9 </td><td>13</td></tr>\n",
       "\t<tr><td>71</td><td>9 </td><td>14</td></tr>\n",
       "\t<tr><td>71</td><td>9 </td><td>15</td></tr>\n",
       "\t<tr><td>78</td><td>9 </td><td>16</td></tr>\n",
       "\t<tr><td>76</td><td>9 </td><td>18</td></tr>\n",
       "\t<tr><td>82</td><td>9 </td><td>20</td></tr>\n",
       "\t<tr><td>71</td><td>9 </td><td>22</td></tr>\n",
       "\t<tr><td>81</td><td>9 </td><td>23</td></tr>\n",
       "\t<tr><td>77</td><td>9 </td><td>27</td></tr>\n",
       "\t<tr><td>75</td><td>9 </td><td>28</td></tr>\n",
       "\t<tr><td>76</td><td>9 </td><td>29</td></tr>\n",
       "</tbody>\n",
       "</table>\n"
      ],
      "text/latex": [
       "\\begin{tabular}{r|lll}\n",
       " Temp & Month & Day\\\\\n",
       "\\hline\n",
       "\t 72 & 5  &  2\\\\\n",
       "\t 74 & 5  &  3\\\\\n",
       "\t 74 & 5  & 11\\\\\n",
       "\t 73 & 5  & 22\\\\\n",
       "\t 81 & 5  & 29\\\\\n",
       "\t 79 & 5  & 30\\\\\n",
       "\t 76 & 5  & 31\\\\\n",
       "\t 78 & 6  &  1\\\\\n",
       "\t 74 & 6  &  2\\\\\n",
       "\t 84 & 6  &  4\\\\\n",
       "\t 85 & 6  &  5\\\\\n",
       "\t 79 & 6  &  6\\\\\n",
       "\t 82 & 6  &  7\\\\\n",
       "\t 87 & 6  &  8\\\\\n",
       "\t 90 & 6  &  9\\\\\n",
       "\t 87 & 6  & 10\\\\\n",
       "\t 93 & 6  & 11\\\\\n",
       "\t 92 & 6  & 12\\\\\n",
       "\t 82 & 6  & 13\\\\\n",
       "\t 80 & 6  & 14\\\\\n",
       "\t 79 & 6  & 15\\\\\n",
       "\t 77 & 6  & 16\\\\\n",
       "\t 72 & 6  & 17\\\\\n",
       "\t 73 & 6  & 19\\\\\n",
       "\t 76 & 6  & 20\\\\\n",
       "\t 77 & 6  & 21\\\\\n",
       "\t 76 & 6  & 22\\\\\n",
       "\t 76 & 6  & 23\\\\\n",
       "\t 76 & 6  & 24\\\\\n",
       "\t 75 & 6  & 25\\\\\n",
       "\t ... & ... & ...\\\\\n",
       "\t 81 & 8  & 25\\\\\n",
       "\t 86 & 8  & 26\\\\\n",
       "\t 88 & 8  & 27\\\\\n",
       "\t 97 & 8  & 28\\\\\n",
       "\t 94 & 8  & 29\\\\\n",
       "\t 96 & 8  & 30\\\\\n",
       "\t 94 & 8  & 31\\\\\n",
       "\t 91 & 9  &  1\\\\\n",
       "\t 92 & 9  &  2\\\\\n",
       "\t 93 & 9  &  3\\\\\n",
       "\t 93 & 9  &  4\\\\\n",
       "\t 87 & 9  &  5\\\\\n",
       "\t 84 & 9  &  6\\\\\n",
       "\t 80 & 9  &  7\\\\\n",
       "\t 78 & 9  &  8\\\\\n",
       "\t 75 & 9  &  9\\\\\n",
       "\t 73 & 9  & 10\\\\\n",
       "\t 81 & 9  & 11\\\\\n",
       "\t 76 & 9  & 12\\\\\n",
       "\t 77 & 9  & 13\\\\\n",
       "\t 71 & 9  & 14\\\\\n",
       "\t 71 & 9  & 15\\\\\n",
       "\t 78 & 9  & 16\\\\\n",
       "\t 76 & 9  & 18\\\\\n",
       "\t 82 & 9  & 20\\\\\n",
       "\t 71 & 9  & 22\\\\\n",
       "\t 81 & 9  & 23\\\\\n",
       "\t 77 & 9  & 27\\\\\n",
       "\t 75 & 9  & 28\\\\\n",
       "\t 76 & 9  & 29\\\\\n",
       "\\end{tabular}\n"
      ],
      "text/markdown": [
       "\n",
       "Temp | Month | Day | \n",
       "|---|---|---|---|---|---|---|---|---|---|---|---|---|---|---|---|---|---|---|---|---|---|---|---|---|---|---|---|---|---|---|---|---|---|---|---|---|---|---|---|---|---|---|---|---|---|---|---|---|---|---|---|---|---|---|---|---|---|---|---|---|\n",
       "| 72 | 5  |  2 | \n",
       "| 74 | 5  |  3 | \n",
       "| 74 | 5  | 11 | \n",
       "| 73 | 5  | 22 | \n",
       "| 81 | 5  | 29 | \n",
       "| 79 | 5  | 30 | \n",
       "| 76 | 5  | 31 | \n",
       "| 78 | 6  |  1 | \n",
       "| 74 | 6  |  2 | \n",
       "| 84 | 6  |  4 | \n",
       "| 85 | 6  |  5 | \n",
       "| 79 | 6  |  6 | \n",
       "| 82 | 6  |  7 | \n",
       "| 87 | 6  |  8 | \n",
       "| 90 | 6  |  9 | \n",
       "| 87 | 6  | 10 | \n",
       "| 93 | 6  | 11 | \n",
       "| 92 | 6  | 12 | \n",
       "| 82 | 6  | 13 | \n",
       "| 80 | 6  | 14 | \n",
       "| 79 | 6  | 15 | \n",
       "| 77 | 6  | 16 | \n",
       "| 72 | 6  | 17 | \n",
       "| 73 | 6  | 19 | \n",
       "| 76 | 6  | 20 | \n",
       "| 77 | 6  | 21 | \n",
       "| 76 | 6  | 22 | \n",
       "| 76 | 6  | 23 | \n",
       "| 76 | 6  | 24 | \n",
       "| 75 | 6  | 25 | \n",
       "| ... | ... | ... | \n",
       "| 81 | 8  | 25 | \n",
       "| 86 | 8  | 26 | \n",
       "| 88 | 8  | 27 | \n",
       "| 97 | 8  | 28 | \n",
       "| 94 | 8  | 29 | \n",
       "| 96 | 8  | 30 | \n",
       "| 94 | 8  | 31 | \n",
       "| 91 | 9  |  1 | \n",
       "| 92 | 9  |  2 | \n",
       "| 93 | 9  |  3 | \n",
       "| 93 | 9  |  4 | \n",
       "| 87 | 9  |  5 | \n",
       "| 84 | 9  |  6 | \n",
       "| 80 | 9  |  7 | \n",
       "| 78 | 9  |  8 | \n",
       "| 75 | 9  |  9 | \n",
       "| 73 | 9  | 10 | \n",
       "| 81 | 9  | 11 | \n",
       "| 76 | 9  | 12 | \n",
       "| 77 | 9  | 13 | \n",
       "| 71 | 9  | 14 | \n",
       "| 71 | 9  | 15 | \n",
       "| 78 | 9  | 16 | \n",
       "| 76 | 9  | 18 | \n",
       "| 82 | 9  | 20 | \n",
       "| 71 | 9  | 22 | \n",
       "| 81 | 9  | 23 | \n",
       "| 77 | 9  | 27 | \n",
       "| 75 | 9  | 28 | \n",
       "| 76 | 9  | 29 | \n",
       "\n",
       "\n"
      ],
      "text/plain": [
       "    Temp Month Day\n",
       "1   72   5      2 \n",
       "2   74   5      3 \n",
       "3   74   5     11 \n",
       "4   73   5     22 \n",
       "5   81   5     29 \n",
       "6   79   5     30 \n",
       "7   76   5     31 \n",
       "8   78   6      1 \n",
       "9   74   6      2 \n",
       "10  84   6      4 \n",
       "11  85   6      5 \n",
       "12  79   6      6 \n",
       "13  82   6      7 \n",
       "14  87   6      8 \n",
       "15  90   6      9 \n",
       "16  87   6     10 \n",
       "17  93   6     11 \n",
       "18  92   6     12 \n",
       "19  82   6     13 \n",
       "20  80   6     14 \n",
       "21  79   6     15 \n",
       "22  77   6     16 \n",
       "23  72   6     17 \n",
       "24  73   6     19 \n",
       "25  76   6     20 \n",
       "26  77   6     21 \n",
       "27  76   6     22 \n",
       "28  76   6     23 \n",
       "29  76   6     24 \n",
       "30  75   6     25 \n",
       "... ...  ...   ...\n",
       "91  81   8     25 \n",
       "92  86   8     26 \n",
       "93  88   8     27 \n",
       "94  97   8     28 \n",
       "95  94   8     29 \n",
       "96  96   8     30 \n",
       "97  94   8     31 \n",
       "98  91   9      1 \n",
       "99  92   9      2 \n",
       "100 93   9      3 \n",
       "101 93   9      4 \n",
       "102 87   9      5 \n",
       "103 84   9      6 \n",
       "104 80   9      7 \n",
       "105 78   9      8 \n",
       "106 75   9      9 \n",
       "107 73   9     10 \n",
       "108 81   9     11 \n",
       "109 76   9     12 \n",
       "110 77   9     13 \n",
       "111 71   9     14 \n",
       "112 71   9     15 \n",
       "113 78   9     16 \n",
       "114 76   9     18 \n",
       "115 82   9     20 \n",
       "116 71   9     22 \n",
       "117 81   9     23 \n",
       "118 77   9     27 \n",
       "119 75   9     28 \n",
       "120 76   9     29 "
      ]
     },
     "metadata": {},
     "output_type": "display_data"
    }
   ],
   "source": [
    "airquality %>% select (Temp, Month, Day) %>% filter(Temp > 70)"
   ]
  },
  {
   "cell_type": "markdown",
   "metadata": {},
   "source": [
    "## arrange ##\n",
    "\n",
    "similar a la función arrange en el paquete **plyr**"
   ]
  },
  {
   "cell_type": "code",
   "execution_count": null,
   "metadata": {},
   "outputs": [],
   "source": []
  }
 ],
 "metadata": {
  "kernelspec": {
   "display_name": "R",
   "language": "R",
   "name": "ir"
  },
  "language_info": {
   "codemirror_mode": "r",
   "file_extension": ".r",
   "mimetype": "text/x-r-source",
   "name": "R",
   "pygments_lexer": "r",
   "version": "3.4.2"
  }
 },
 "nbformat": 4,
 "nbformat_minor": 2
}
