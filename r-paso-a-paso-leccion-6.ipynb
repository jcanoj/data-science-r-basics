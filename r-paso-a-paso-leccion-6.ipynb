{
 "cells": [
  {
   "cell_type": "markdown",
   "metadata": {},
   "source": [
    "# Data Frames #"
   ]
  },
  {
   "cell_type": "markdown",
   "metadata": {},
   "source": [
    "Creamos dataframes usando la función **data.frame**"
   ]
  },
  {
   "cell_type": "code",
   "execution_count": 2,
   "metadata": {},
   "outputs": [
    {
     "data": {
      "text/html": [
       "<table>\n",
       "<thead><tr><th scope=col>name</th><th scope=col>time</th><th scope=col>year</th></tr></thead>\n",
       "<tbody>\n",
       "\t<tr><td>Usain Bolt    </td><td>9.58          </td><td>2009          </td></tr>\n",
       "\t<tr><td>Usain Bolt    </td><td>9.69          </td><td>2008          </td></tr>\n",
       "\t<tr><td>Asafa Powel   </td><td>9.74          </td><td>2007          </td></tr>\n",
       "\t<tr><td>Asafa Powel   </td><td>9.77          </td><td>2005          </td></tr>\n",
       "\t<tr><td>Maurice Greene</td><td>9.79          </td><td>1999          </td></tr>\n",
       "\t<tr><td>Donovan Bailey</td><td>9.84          </td><td>1996          </td></tr>\n",
       "</tbody>\n",
       "</table>\n"
      ],
      "text/latex": [
       "\\begin{tabular}{r|lll}\n",
       " name & time & year\\\\\n",
       "\\hline\n",
       "\t Usain Bolt     & 9.58           & 2009          \\\\\n",
       "\t Usain Bolt     & 9.69           & 2008          \\\\\n",
       "\t Asafa Powel    & 9.74           & 2007          \\\\\n",
       "\t Asafa Powel    & 9.77           & 2005          \\\\\n",
       "\t Maurice Greene & 9.79           & 1999          \\\\\n",
       "\t Donovan Bailey & 9.84           & 1996          \\\\\n",
       "\\end{tabular}\n"
      ],
      "text/markdown": [
       "\n",
       "name | time | year | \n",
       "|---|---|---|---|---|---|\n",
       "| Usain Bolt     | 9.58           | 2009           | \n",
       "| Usain Bolt     | 9.69           | 2008           | \n",
       "| Asafa Powel    | 9.74           | 2007           | \n",
       "| Asafa Powel    | 9.77           | 2005           | \n",
       "| Maurice Greene | 9.79           | 1999           | \n",
       "| Donovan Bailey | 9.84           | 1996           | \n",
       "\n",
       "\n"
      ],
      "text/plain": [
       "  name           time year\n",
       "1 Usain Bolt     9.58 2009\n",
       "2 Usain Bolt     9.69 2008\n",
       "3 Asafa Powel    9.74 2007\n",
       "4 Asafa Powel    9.77 2005\n",
       "5 Maurice Greene 9.79 1999\n",
       "6 Donovan Bailey 9.84 1996"
      ]
     },
     "metadata": {},
     "output_type": "display_data"
    }
   ],
   "source": [
    "# Progresión de la plusmarca mundial de los 100 m lisos masculino\n",
    "# Fuente: wikipedia\n",
    "tiempos <- data.frame (name=c(\"Usain Bolt\", \"Usain Bolt\", \"Asafa Powel\", \"Asafa Powel\", \"Maurice Greene\", \"Donovan Bailey\"), \n",
    "                       time=c(9.58, 9.69, 9.74, 9.77, 9.79, 9.84), \n",
    "                       year=c(2009, 2008, 2007, 2005, 1999, 1996))\n",
    "tiempos"
   ]
  },
  {
   "cell_type": "markdown",
   "metadata": {},
   "source": [
    "**CUIDADO** por defecto los vectores de cadena de texto son convertidos a tipo \"factor\""
   ]
  },
  {
   "cell_type": "code",
   "execution_count": 9,
   "metadata": {},
   "outputs": [
    {
     "data": {
      "text/html": [
       "'factor'"
      ],
      "text/latex": [
       "'factor'"
      ],
      "text/markdown": [
       "'factor'"
      ],
      "text/plain": [
       "[1] \"factor\""
      ]
     },
     "metadata": {},
     "output_type": "display_data"
    }
   ],
   "source": [
    "class (tiempos$name)"
   ]
  },
  {
   "cell_type": "code",
   "execution_count": 12,
   "metadata": {
    "scrolled": true
   },
   "outputs": [
    {
     "data": {
      "text/html": [
       "'character'"
      ],
      "text/latex": [
       "'character'"
      ],
      "text/markdown": [
       "'character'"
      ],
      "text/plain": [
       "[1] \"character\""
      ]
     },
     "metadata": {},
     "output_type": "display_data"
    }
   ],
   "source": [
    "tiempos <- data.frame (name=c(\"Usain Bolt\", \"Usain Bolt\", \"Asafa Powel\", \"Asafa Powel\", \"Maurice Greene\", \"Donovan Bailey\"), \n",
    "                       time=c(9.58, 9.69, 9.74, 9.77, 9.79, 9.84), \n",
    "                       year=c(2009, 2008, 2007, 2005, 1999, 1996),\n",
    "                       stringsAsFactors = FALSE)\n",
    "class (tiempos$name)"
   ]
  },
  {
   "cell_type": "code",
   "execution_count": 4,
   "metadata": {},
   "outputs": [
    {
     "data": {
      "text/html": [
       "6"
      ],
      "text/latex": [
       "6"
      ],
      "text/markdown": [
       "6"
      ],
      "text/plain": [
       "[1] 6"
      ]
     },
     "metadata": {},
     "output_type": "display_data"
    }
   ],
   "source": [
    "nrow(tiempos) # número de registros en el data frame"
   ]
  },
  {
   "cell_type": "markdown",
   "metadata": {},
   "source": [
    "otra forma de crear un data frame:"
   ]
  },
  {
   "cell_type": "code",
   "execution_count": null,
   "metadata": {
    "collapsed": true
   },
   "outputs": [],
   "source": [
    "temp <- c(35, 88, 42, 84, 81, 30)\n",
    "city <- c(\"Beijing\", \"Lagos\", \"Paris\", \"Rio de Janeiro\", \"San Juan\", \"Toronto\")\n",
    "city_temps <- data.frame(name = city, temperature = temp)\n",
    "city_temps"
   ]
  }
 ],
 "metadata": {
  "kernelspec": {
   "display_name": "R",
   "language": "R",
   "name": "ir"
  },
  "language_info": {
   "codemirror_mode": "r",
   "file_extension": ".r",
   "mimetype": "text/x-r-source",
   "name": "R",
   "pygments_lexer": "r",
   "version": "3.4.2"
  }
 },
 "nbformat": 4,
 "nbformat_minor": 2
}
