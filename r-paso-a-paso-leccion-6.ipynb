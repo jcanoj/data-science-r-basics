{
 "cells": [
  {
   "cell_type": "markdown",
   "metadata": {},
   "source": [
    "# Graficos #"
   ]
  },
  {
   "cell_type": "markdown",
   "metadata": {},
   "source": [
    "Una de las características más valoradas de R es su capacidad para realizar gráficos. Existen páginas como [**The R-graph gallery**](#http://www.r-graph-gallery.com/) que recogen una gran variedad de ellas y su código. Aquí vamos a ver algunos ejemplos básicos."
   ]
  },
  {
   "cell_type": "code",
   "execution_count": 10,
   "metadata": {
    "scrolled": true
   },
   "outputs": [],
   "source": [
    "library(dplyr)"
   ]
  },
  {
   "cell_type": "code",
   "execution_count": 29,
   "metadata": {},
   "outputs": [
    {
     "name": "stdout",
     "output_type": "stream",
     "text": [
      "'data.frame':\t52 obs. of  4 variables:\n",
      " $ Provincia: Factor w/ 52 levels \"A Coruña\",\"Álava\",..: 3 4 5 2 6 7 8 26 9 10 ...\n",
      " $ Poblacion: int  392110 1825264 646633 305459 1074862 168638 678459 1030650 5332513 1141457 ...\n",
      " $ Turismos : int  171789 901546 304071 141555 483289 79798 319349 645216 2396656 488454 ...\n",
      " $ PIB      : int  6521852 34321944 13871424 10337599 22905655 3330749 10702067 26130320 146368312 33027203 ...\n"
     ]
    },
    {
     "data": {
      "text/html": [
       "<table>\n",
       "<thead><tr><th scope=col>Provincia</th><th scope=col>Poblacion</th><th scope=col>Turismos</th><th scope=col>PIB</th></tr></thead>\n",
       "<tbody>\n",
       "\t<tr><td>Albacete</td><td> 392110 </td><td>171789  </td><td> 6521852</td></tr>\n",
       "\t<tr><td>Alicante</td><td>1825264 </td><td>901546  </td><td>34321944</td></tr>\n",
       "\t<tr><td>Almería </td><td> 646633 </td><td>304071  </td><td>13871424</td></tr>\n",
       "\t<tr><td>Álava   </td><td> 305459 </td><td>141555  </td><td>10337599</td></tr>\n",
       "\t<tr><td>Asturias</td><td>1074862 </td><td>483289  </td><td>22905655</td></tr>\n",
       "\t<tr><td>Ávila   </td><td> 168638 </td><td> 79798  </td><td> 3330749</td></tr>\n",
       "</tbody>\n",
       "</table>\n"
      ],
      "text/latex": [
       "\\begin{tabular}{r|llll}\n",
       " Provincia & Poblacion & Turismos & PIB\\\\\n",
       "\\hline\n",
       "\t Albacete &  392110  & 171789   &  6521852\\\\\n",
       "\t Alicante & 1825264  & 901546   & 34321944\\\\\n",
       "\t Almería  &  646633  & 304071   & 13871424\\\\\n",
       "\t Álava    &  305459  & 141555   & 10337599\\\\\n",
       "\t Asturias & 1074862  & 483289   & 22905655\\\\\n",
       "\t Ávila    &  168638  &  79798   &  3330749\\\\\n",
       "\\end{tabular}\n"
      ],
      "text/markdown": [
       "\n",
       "Provincia | Poblacion | Turismos | PIB | \n",
       "|---|---|---|---|---|---|\n",
       "| Albacete |  392110  | 171789   |  6521852 | \n",
       "| Alicante | 1825264  | 901546   | 34321944 | \n",
       "| Almería  |  646633  | 304071   | 13871424 | \n",
       "| Álava    |  305459  | 141555   | 10337599 | \n",
       "| Asturias | 1074862  | 483289   | 22905655 | \n",
       "| Ávila    |  168638  |  79798   |  3330749 | \n",
       "\n",
       "\n"
      ],
      "text/plain": [
       "  Provincia Poblacion Turismos PIB     \n",
       "1 Albacete   392110   171789    6521852\n",
       "2 Alicante  1825264   901546   34321944\n",
       "3 Almería    646633   304071   13871424\n",
       "4 Álava      305459   141555   10337599\n",
       "5 Asturias  1074862   483289   22905655\n",
       "6 Ávila      168638    79798    3330749"
      ]
     },
     "metadata": {},
     "output_type": "display_data"
    },
    {
     "data": {
      "text/plain": [
       "   Min. 1st Qu.  Median    Mean 3rd Qu.    Max. \n",
       "  69440  329936  589579  869245  995528 6081689 "
      ]
     },
     "metadata": {},
     "output_type": "display_data"
    },
    {
     "data": {
      "text/plain": [
       "   Min. 1st Qu.  Median    Mean 3rd Qu.    Max. \n",
       "  36043  156360  276874  418465  483591 3326579 "
      ]
     },
     "metadata": {},
     "output_type": "display_data"
    },
    {
     "data": {
      "image/png": "[encoded data removed]",
      "text/plain": [
       "plot without title"
      ]
     },
     "metadata": {},
     "output_type": "display_data"
    }
   ],
   "source": [
    "provincias <- read.csv(file='data/estadisticas_2007_provincias.csv')\n",
    "str(provincias)\n",
    "head(provincias)\n",
    "summary(provincias$Poblacion)\n",
    "summary(provincias$Turismos)\n",
    "poblacion_en_miles <- provincias$Poblacion/10^3\n",
    "turismos_en_miles <- provincias$Turismos/10^3\n",
    "turismos_provincia <- provincias$Turismos\n",
    "plot(poblacion_en_miles, turismos_en_miles)"
   ]
  },
  {
   "cell_type": "code",
   "execution_count": 30,
   "metadata": {},
   "outputs": [
    {
     "data": {
      "text/html": [
       "<table>\n",
       "<thead><tr><th scope=col>Provincia</th><th scope=col>Poblacion</th><th scope=col>Turismos</th><th scope=col>PIB</th><th scope=col>ratio</th></tr></thead>\n",
       "<tbody>\n",
       "\t<tr><td>Albacete</td><td> 392110 </td><td>171789  </td><td> 6521852</td><td>2.282509</td></tr>\n",
       "\t<tr><td>Alicante</td><td>1825264 </td><td>901546  </td><td>34321944</td><td>2.024593</td></tr>\n",
       "\t<tr><td>Almería </td><td> 646633 </td><td>304071  </td><td>13871424</td><td>2.126586</td></tr>\n",
       "\t<tr><td>Álava   </td><td> 305459 </td><td>141555  </td><td>10337599</td><td>2.157882</td></tr>\n",
       "\t<tr><td>Asturias</td><td>1074862 </td><td>483289  </td><td>22905655</td><td>2.224056</td></tr>\n",
       "\t<tr><td>Ávila   </td><td> 168638 </td><td> 79798  </td><td> 3330749</td><td>2.113311</td></tr>\n",
       "</tbody>\n",
       "</table>\n"
      ],
      "text/latex": [
       "\\begin{tabular}{r|lllll}\n",
       " Provincia & Poblacion & Turismos & PIB & ratio\\\\\n",
       "\\hline\n",
       "\t Albacete &  392110  & 171789   &  6521852 & 2.282509\\\\\n",
       "\t Alicante & 1825264  & 901546   & 34321944 & 2.024593\\\\\n",
       "\t Almería  &  646633  & 304071   & 13871424 & 2.126586\\\\\n",
       "\t Álava    &  305459  & 141555   & 10337599 & 2.157882\\\\\n",
       "\t Asturias & 1074862  & 483289   & 22905655 & 2.224056\\\\\n",
       "\t Ávila    &  168638  &  79798   &  3330749 & 2.113311\\\\\n",
       "\\end{tabular}\n"
      ],
      "text/markdown": [
       "\n",
       "Provincia | Poblacion | Turismos | PIB | ratio | \n",
       "|---|---|---|---|---|---|\n",
       "| Albacete |  392110  | 171789   |  6521852 | 2.282509 | \n",
       "| Alicante | 1825264  | 901546   | 34321944 | 2.024593 | \n",
       "| Almería  |  646633  | 304071   | 13871424 | 2.126586 | \n",
       "| Álava    |  305459  | 141555   | 10337599 | 2.157882 | \n",
       "| Asturias | 1074862  | 483289   | 22905655 | 2.224056 | \n",
       "| Ávila    |  168638  |  79798   |  3330749 | 2.113311 | \n",
       "\n",
       "\n"
      ],
      "text/plain": [
       "  Provincia Poblacion Turismos PIB      ratio   \n",
       "1 Albacete   392110   171789    6521852 2.282509\n",
       "2 Alicante  1825264   901546   34321944 2.024593\n",
       "3 Almería    646633   304071   13871424 2.126586\n",
       "4 Álava      305459   141555   10337599 2.157882\n",
       "5 Asturias  1074862   483289   22905655 2.224056\n",
       "6 Ávila      168638    79798    3330749 2.113311"
      ]
     },
     "metadata": {},
     "output_type": "display_data"
    }
   ],
   "source": [
    "provincias <- mutate(provincias, ratio_coches=Poblacion/Turismos)\n",
    "head(provincias)"
   ]
  },
  {
   "cell_type": "code",
   "execution_count": 32,
   "metadata": {
    "scrolled": true
   },
   "outputs": [
    {
     "ename": "ERROR",
     "evalue": "Error in hist.default(provincias$ratio_coches): 'x' must be numeric\n",
     "output_type": "error",
     "traceback": [
      "Error in hist.default(provincias$ratio_coches): 'x' must be numeric\nTraceback:\n",
      "1. hist(provincias$ratio_coches)",
      "2. hist.default(provincias$ratio_coches)",
      "3. stop(\"'x' must be numeric\")"
     ]
    }
   ],
   "source": [
    "hist(provincias$ratio_coches)"
   ]
  },
  {
   "cell_type": "code",
   "execution_count": 33,
   "metadata": {},
   "outputs": [
    {
     "data": {
      "image/png": "[encoded data removed]",
      "text/plain": [
       "plot without title"
      ]
     },
     "metadata": {},
     "output_type": "display_data"
    }
   ],
   "source": [
    "boxplot(Poblacion~Turismos, data=provincias)"
   ]
  },
  {
   "cell_type": "markdown",
   "metadata": {},
   "source": [
    "Otros links:\n",
    "\n",
    "- [**Plottly**](#https://plot.ly/r/) Es una librería para crear gráficos interactivos para publicar en línea"
   ]
  }
 ],
 "metadata": {
  "kernelspec": {
   "display_name": "R",
   "language": "R",
   "name": "ir"
  },
  "language_info": {
   "codemirror_mode": "r",
   "file_extension": ".r",
   "mimetype": "text/x-r-source",
   "name": "R",
   "pygments_lexer": "r",
   "version": "3.4.2"
  }
 },
 "nbformat": 4,
 "nbformat_minor": 2
}
