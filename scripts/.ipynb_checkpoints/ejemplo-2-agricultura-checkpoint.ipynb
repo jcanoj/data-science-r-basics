{
 "cells": [
  {
   "cell_type": "markdown",
   "metadata": {},
   "source": []
  },
  {
   "cell_type": "code",
   "execution_count": 50,
   "metadata": {},
   "outputs": [],
   "source": [
    "## creamos el objeto dataf y cargamos los datos en él\n",
    "setwd(\"../data\")\n",
    "df <- read.csv(\"banco_mundial_tierras_cultivables_has_por_persona.csv\", \n",
    "                  sep =\";\", skip = 3,  stringsAsFactors= FALSE, dec= \",\")"
   ]
  },
  {
   "cell_type": "code",
   "execution_count": 44,
   "metadata": {},
   "outputs": [
    {
     "data": {
      "text/html": [
       "'data.frame'"
      ],
      "text/latex": [
       "'data.frame'"
      ],
      "text/markdown": [
       "'data.frame'"
      ],
      "text/plain": [
       "[1] \"data.frame\""
      ]
     },
     "metadata": {},
     "output_type": "display_data"
    }
   ],
   "source": [
    "class(df)"
   ]
  },
  {
   "cell_type": "code",
   "execution_count": 45,
   "metadata": {},
   "outputs": [
    {
     "data": {
      "text/html": [
       "<ol class=list-inline>\n",
       "\t<li>264</li>\n",
       "\t<li>59</li>\n",
       "</ol>\n"
      ],
      "text/latex": [
       "\\begin{enumerate*}\n",
       "\\item 264\n",
       "\\item 59\n",
       "\\end{enumerate*}\n"
      ],
      "text/markdown": [
       "1. 264\n",
       "2. 59\n",
       "\n",
       "\n"
      ],
      "text/plain": [
       "[1] 264  59"
      ]
     },
     "metadata": {},
     "output_type": "display_data"
    }
   ],
   "source": [
    "dim(df) # comprobamos el tipo y el tamaño del objeto creado"
   ]
  },
  {
   "cell_type": "markdown",
   "metadata": {},
   "source": [
    "El objeto creado tiene **264 observaciones** (filas) y **59 variables(columnas)**"
   ]
  },
  {
   "cell_type": "code",
   "execution_count": 46,
   "metadata": {},
   "outputs": [
    {
     "data": {
      "text/html": [
       "<ol class=list-inline>\n",
       "\t<li>'Country.Name'</li>\n",
       "\t<li>'Country.Code'</li>\n",
       "\t<li>'X1960'</li>\n",
       "\t<li>'X1961'</li>\n",
       "\t<li>'X1962'</li>\n",
       "\t<li>'X1963'</li>\n",
       "\t<li>'X1964'</li>\n",
       "\t<li>'X1965'</li>\n",
       "\t<li>'X1966'</li>\n",
       "\t<li>'X1967'</li>\n",
       "\t<li>'X1968'</li>\n",
       "\t<li>'X1969'</li>\n",
       "\t<li>'X1970'</li>\n",
       "\t<li>'X1971'</li>\n",
       "\t<li>'X1972'</li>\n",
       "\t<li>'X1973'</li>\n",
       "\t<li>'X1974'</li>\n",
       "\t<li>'X1975'</li>\n",
       "\t<li>'X1976'</li>\n",
       "\t<li>'X1977'</li>\n",
       "\t<li>'X1978'</li>\n",
       "\t<li>'X1979'</li>\n",
       "\t<li>'X1980'</li>\n",
       "\t<li>'X1981'</li>\n",
       "\t<li>'X1982'</li>\n",
       "\t<li>'X1983'</li>\n",
       "\t<li>'X1984'</li>\n",
       "\t<li>'X1985'</li>\n",
       "\t<li>'X1986'</li>\n",
       "\t<li>'X1987'</li>\n",
       "\t<li>'X1988'</li>\n",
       "\t<li>'X1989'</li>\n",
       "\t<li>'X1990'</li>\n",
       "\t<li>'X1991'</li>\n",
       "\t<li>'X1992'</li>\n",
       "\t<li>'X1993'</li>\n",
       "\t<li>'X1994'</li>\n",
       "\t<li>'X1995'</li>\n",
       "\t<li>'X1996'</li>\n",
       "\t<li>'X1997'</li>\n",
       "\t<li>'X1998'</li>\n",
       "\t<li>'X1999'</li>\n",
       "\t<li>'X2000'</li>\n",
       "\t<li>'X2001'</li>\n",
       "\t<li>'X2002'</li>\n",
       "\t<li>'X2003'</li>\n",
       "\t<li>'X2004'</li>\n",
       "\t<li>'X2005'</li>\n",
       "\t<li>'X2006'</li>\n",
       "\t<li>'X2007'</li>\n",
       "\t<li>'X2008'</li>\n",
       "\t<li>'X2009'</li>\n",
       "\t<li>'X2010'</li>\n",
       "\t<li>'X2011'</li>\n",
       "\t<li>'X2012'</li>\n",
       "\t<li>'X2013'</li>\n",
       "\t<li>'X2014'</li>\n",
       "\t<li>'X2015'</li>\n",
       "\t<li>'X2016'</li>\n",
       "</ol>\n"
      ],
      "text/latex": [
       "\\begin{enumerate*}\n",
       "\\item 'Country.Name'\n",
       "\\item 'Country.Code'\n",
       "\\item 'X1960'\n",
       "\\item 'X1961'\n",
       "\\item 'X1962'\n",
       "\\item 'X1963'\n",
       "\\item 'X1964'\n",
       "\\item 'X1965'\n",
       "\\item 'X1966'\n",
       "\\item 'X1967'\n",
       "\\item 'X1968'\n",
       "\\item 'X1969'\n",
       "\\item 'X1970'\n",
       "\\item 'X1971'\n",
       "\\item 'X1972'\n",
       "\\item 'X1973'\n",
       "\\item 'X1974'\n",
       "\\item 'X1975'\n",
       "\\item 'X1976'\n",
       "\\item 'X1977'\n",
       "\\item 'X1978'\n",
       "\\item 'X1979'\n",
       "\\item 'X1980'\n",
       "\\item 'X1981'\n",
       "\\item 'X1982'\n",
       "\\item 'X1983'\n",
       "\\item 'X1984'\n",
       "\\item 'X1985'\n",
       "\\item 'X1986'\n",
       "\\item 'X1987'\n",
       "\\item 'X1988'\n",
       "\\item 'X1989'\n",
       "\\item 'X1990'\n",
       "\\item 'X1991'\n",
       "\\item 'X1992'\n",
       "\\item 'X1993'\n",
       "\\item 'X1994'\n",
       "\\item 'X1995'\n",
       "\\item 'X1996'\n",
       "\\item 'X1997'\n",
       "\\item 'X1998'\n",
       "\\item 'X1999'\n",
       "\\item 'X2000'\n",
       "\\item 'X2001'\n",
       "\\item 'X2002'\n",
       "\\item 'X2003'\n",
       "\\item 'X2004'\n",
       "\\item 'X2005'\n",
       "\\item 'X2006'\n",
       "\\item 'X2007'\n",
       "\\item 'X2008'\n",
       "\\item 'X2009'\n",
       "\\item 'X2010'\n",
       "\\item 'X2011'\n",
       "\\item 'X2012'\n",
       "\\item 'X2013'\n",
       "\\item 'X2014'\n",
       "\\item 'X2015'\n",
       "\\item 'X2016'\n",
       "\\end{enumerate*}\n"
      ],
      "text/markdown": [
       "1. 'Country.Name'\n",
       "2. 'Country.Code'\n",
       "3. 'X1960'\n",
       "4. 'X1961'\n",
       "5. 'X1962'\n",
       "6. 'X1963'\n",
       "7. 'X1964'\n",
       "8. 'X1965'\n",
       "9. 'X1966'\n",
       "10. 'X1967'\n",
       "11. 'X1968'\n",
       "12. 'X1969'\n",
       "13. 'X1970'\n",
       "14. 'X1971'\n",
       "15. 'X1972'\n",
       "16. 'X1973'\n",
       "17. 'X1974'\n",
       "18. 'X1975'\n",
       "19. 'X1976'\n",
       "20. 'X1977'\n",
       "21. 'X1978'\n",
       "22. 'X1979'\n",
       "23. 'X1980'\n",
       "24. 'X1981'\n",
       "25. 'X1982'\n",
       "26. 'X1983'\n",
       "27. 'X1984'\n",
       "28. 'X1985'\n",
       "29. 'X1986'\n",
       "30. 'X1987'\n",
       "31. 'X1988'\n",
       "32. 'X1989'\n",
       "33. 'X1990'\n",
       "34. 'X1991'\n",
       "35. 'X1992'\n",
       "36. 'X1993'\n",
       "37. 'X1994'\n",
       "38. 'X1995'\n",
       "39. 'X1996'\n",
       "40. 'X1997'\n",
       "41. 'X1998'\n",
       "42. 'X1999'\n",
       "43. 'X2000'\n",
       "44. 'X2001'\n",
       "45. 'X2002'\n",
       "46. 'X2003'\n",
       "47. 'X2004'\n",
       "48. 'X2005'\n",
       "49. 'X2006'\n",
       "50. 'X2007'\n",
       "51. 'X2008'\n",
       "52. 'X2009'\n",
       "53. 'X2010'\n",
       "54. 'X2011'\n",
       "55. 'X2012'\n",
       "56. 'X2013'\n",
       "57. 'X2014'\n",
       "58. 'X2015'\n",
       "59. 'X2016'\n",
       "\n",
       "\n"
      ],
      "text/plain": [
       " [1] \"Country.Name\" \"Country.Code\" \"X1960\"        \"X1961\"        \"X1962\"       \n",
       " [6] \"X1963\"        \"X1964\"        \"X1965\"        \"X1966\"        \"X1967\"       \n",
       "[11] \"X1968\"        \"X1969\"        \"X1970\"        \"X1971\"        \"X1972\"       \n",
       "[16] \"X1973\"        \"X1974\"        \"X1975\"        \"X1976\"        \"X1977\"       \n",
       "[21] \"X1978\"        \"X1979\"        \"X1980\"        \"X1981\"        \"X1982\"       \n",
       "[26] \"X1983\"        \"X1984\"        \"X1985\"        \"X1986\"        \"X1987\"       \n",
       "[31] \"X1988\"        \"X1989\"        \"X1990\"        \"X1991\"        \"X1992\"       \n",
       "[36] \"X1993\"        \"X1994\"        \"X1995\"        \"X1996\"        \"X1997\"       \n",
       "[41] \"X1998\"        \"X1999\"        \"X2000\"        \"X2001\"        \"X2002\"       \n",
       "[46] \"X2003\"        \"X2004\"        \"X2005\"        \"X2006\"        \"X2007\"       \n",
       "[51] \"X2008\"        \"X2009\"        \"X2010\"        \"X2011\"        \"X2012\"       \n",
       "[56] \"X2013\"        \"X2014\"        \"X2015\"        \"X2016\"       "
      ]
     },
     "metadata": {},
     "output_type": "display_data"
    }
   ],
   "source": [
    "names(df) # devuelve el nombre de las variables"
   ]
  },
  {
   "cell_type": "markdown",
   "metadata": {},
   "source": [
    "**read.csv()** hace uso de **make.names()** para comprobar la validez de los nombres de las etiquetas. Estas reglas exigen que un nombre válido debe de comenzar por una letra. Debido a eso R añade una \"X\" a las etiquetas de las variables. Esto puede ser desactivado usando **check.names = FALSE**"
   ]
  },
  {
   "cell_type": "code",
   "execution_count": 36,
   "metadata": {},
   "outputs": [
    {
     "data": {
      "text/plain": [
       "156456 bytes"
      ]
     },
     "metadata": {},
     "output_type": "display_data"
    }
   ],
   "source": [
    "object.size(df) # devuelve el tamaño del objeto en memoria"
   ]
  },
  {
   "cell_type": "code",
   "execution_count": 47,
   "metadata": {},
   "outputs": [
    {
     "data": {
      "text/html": [
       "<table>\n",
       "<thead><tr><th scope=col>Country.Name</th><th scope=col>Country.Code</th><th scope=col>X1960</th><th scope=col>X1961</th><th scope=col>X1962</th><th scope=col>X1963</th><th scope=col>X1964</th><th scope=col>X1965</th><th scope=col>X1966</th><th scope=col>X1967</th><th scope=col>...</th><th scope=col>X2007</th><th scope=col>X2008</th><th scope=col>X2009</th><th scope=col>X2010</th><th scope=col>X2011</th><th scope=col>X2012</th><th scope=col>X2013</th><th scope=col>X2014</th><th scope=col>X2015</th><th scope=col>X2016</th></tr></thead>\n",
       "<tbody>\n",
       "\t<tr><td>Aruba         </td><td>ABW           </td><td>NA            </td><td>0.03607634    </td><td>0.03557137    </td><td>0.03527648    </td><td>0.03506803    </td><td>0.03486750    </td><td>0.03465304    </td><td>0.03445009    </td><td>...           </td><td>0.01975894    </td><td>0.01973301    </td><td>0.01971356    </td><td>0.01967168    </td><td>0.01959766    </td><td>0.01949755    </td><td>0.01938229    </td><td>0.01926875    </td><td>NA            </td><td>NA            </td></tr>\n",
       "\t<tr><td>Afganistán    </td><td>AFG           </td><td>NA            </td><td>0.83453659    </td><td>0.82389351    </td><td>0.81288414    </td><td>0.80153228    </td><td>0.78483348    </td><td>0.77174395    </td><td>0.75622094    </td><td>...           </td><td>0.29282267    </td><td>0.28555694    </td><td>0.27827839    </td><td>0.27056053    </td><td>0.26224730    </td><td>0.25377107    </td><td>0.24533835    </td><td>0.23722435    </td><td>NA            </td><td>NA            </td></tr>\n",
       "\t<tr><td>Angola        </td><td>AGO           </td><td>NA            </td><td>0.46410375    </td><td>0.46027479    </td><td>0.45481778    </td><td>0.45131382    </td><td>0.44653659    </td><td>0.44375627    </td><td>0.44115389    </td><td>...           </td><td>0.16192260    </td><td>0.15625417    </td><td>0.17738715    </td><td>0.17544512    </td><td>0.19406600    </td><td>0.18727972    </td><td>0.18847357    </td><td>0.18201765    </td><td>NA            </td><td>NA            </td></tr>\n",
       "\t<tr><td>Albania       </td><td>ALB           </td><td>NA            </td><td>0.26027232    </td><td>0.25477424    </td><td>0.24962825    </td><td>0.24419351    </td><td>0.24667644    </td><td>0.24809709    </td><td>0.24827050    </td><td>...           </td><td>0.19461168    </td><td>0.20696811    </td><td>0.20802598    </td><td>0.21489718    </td><td>0.21409923    </td><td>0.21345324    </td><td>0.21315385    </td><td>0.21307644    </td><td>NA            </td><td>NA            </td></tr>\n",
       "\t<tr><td>Andorra       </td><td>AND           </td><td>NA            </td><td>0.06956522    </td><td>0.06506181    </td><td>0.06093103    </td><td>0.05724426    </td><td>0.05391126    </td><td>0.05089836    </td><td>0.04817420    </td><td>...           </td><td>0.02781708    </td><td>0.02623389    </td><td>0.02723118    </td><td>0.02960367    </td><td>0.03104441    </td><td>0.02911526    </td><td>0.03589642    </td><td>0.03534327    </td><td>NA            </td><td>NA            </td></tr>\n",
       "\t<tr><td>El mundo árabe</td><td>ARB           </td><td>NA            </td><td>0.48375236    </td><td>0.47091441    </td><td>0.46038746    </td><td>0.45144367    </td><td>0.44333417    </td><td>0.42989788    </td><td>0.42031216    </td><td>...           </td><td>0.17563888    </td><td>0.16892018    </td><td>0.16519897    </td><td>0.16195985    </td><td>0.15821628    </td><td>0.15573721    </td><td>0.15425933    </td><td>0.15205697    </td><td>NA            </td><td>NA            </td></tr>\n",
       "</tbody>\n",
       "</table>\n"
      ],
      "text/latex": [
       "\\begin{tabular}{r|lllllllllllllllllllllllllllllllllllllllllllllllllllllllllll}\n",
       " Country.Name & Country.Code & X1960 & X1961 & X1962 & X1963 & X1964 & X1965 & X1966 & X1967 & ... & X2007 & X2008 & X2009 & X2010 & X2011 & X2012 & X2013 & X2014 & X2015 & X2016\\\\\n",
       "\\hline\n",
       "\t Aruba          & ABW            & NA             & 0.03607634     & 0.03557137     & 0.03527648     & 0.03506803     & 0.03486750     & 0.03465304     & 0.03445009     & ...            & 0.01975894     & 0.01973301     & 0.01971356     & 0.01967168     & 0.01959766     & 0.01949755     & 0.01938229     & 0.01926875     & NA             & NA            \\\\\n",
       "\t Afganistán     & AFG            & NA             & 0.83453659     & 0.82389351     & 0.81288414     & 0.80153228     & 0.78483348     & 0.77174395     & 0.75622094     & ...            & 0.29282267     & 0.28555694     & 0.27827839     & 0.27056053     & 0.26224730     & 0.25377107     & 0.24533835     & 0.23722435     & NA             & NA            \\\\\n",
       "\t Angola         & AGO            & NA             & 0.46410375     & 0.46027479     & 0.45481778     & 0.45131382     & 0.44653659     & 0.44375627     & 0.44115389     & ...            & 0.16192260     & 0.15625417     & 0.17738715     & 0.17544512     & 0.19406600     & 0.18727972     & 0.18847357     & 0.18201765     & NA             & NA            \\\\\n",
       "\t Albania        & ALB            & NA             & 0.26027232     & 0.25477424     & 0.24962825     & 0.24419351     & 0.24667644     & 0.24809709     & 0.24827050     & ...            & 0.19461168     & 0.20696811     & 0.20802598     & 0.21489718     & 0.21409923     & 0.21345324     & 0.21315385     & 0.21307644     & NA             & NA            \\\\\n",
       "\t Andorra        & AND            & NA             & 0.06956522     & 0.06506181     & 0.06093103     & 0.05724426     & 0.05391126     & 0.05089836     & 0.04817420     & ...            & 0.02781708     & 0.02623389     & 0.02723118     & 0.02960367     & 0.03104441     & 0.02911526     & 0.03589642     & 0.03534327     & NA             & NA            \\\\\n",
       "\t El mundo árabe & ARB            & NA             & 0.48375236     & 0.47091441     & 0.46038746     & 0.45144367     & 0.44333417     & 0.42989788     & 0.42031216     & ...            & 0.17563888     & 0.16892018     & 0.16519897     & 0.16195985     & 0.15821628     & 0.15573721     & 0.15425933     & 0.15205697     & NA             & NA            \\\\\n",
       "\\end{tabular}\n"
      ],
      "text/markdown": [
       "\n",
       "Country.Name | Country.Code | X1960 | X1961 | X1962 | X1963 | X1964 | X1965 | X1966 | X1967 | ... | X2007 | X2008 | X2009 | X2010 | X2011 | X2012 | X2013 | X2014 | X2015 | X2016 | \n",
       "|---|---|---|---|---|---|\n",
       "| Aruba          | ABW            | NA             | 0.03607634     | 0.03557137     | 0.03527648     | 0.03506803     | 0.03486750     | 0.03465304     | 0.03445009     | ...            | 0.01975894     | 0.01973301     | 0.01971356     | 0.01967168     | 0.01959766     | 0.01949755     | 0.01938229     | 0.01926875     | NA             | NA             | \n",
       "| Afganistán     | AFG            | NA             | 0.83453659     | 0.82389351     | 0.81288414     | 0.80153228     | 0.78483348     | 0.77174395     | 0.75622094     | ...            | 0.29282267     | 0.28555694     | 0.27827839     | 0.27056053     | 0.26224730     | 0.25377107     | 0.24533835     | 0.23722435     | NA             | NA             | \n",
       "| Angola         | AGO            | NA             | 0.46410375     | 0.46027479     | 0.45481778     | 0.45131382     | 0.44653659     | 0.44375627     | 0.44115389     | ...            | 0.16192260     | 0.15625417     | 0.17738715     | 0.17544512     | 0.19406600     | 0.18727972     | 0.18847357     | 0.18201765     | NA             | NA             | \n",
       "| Albania        | ALB            | NA             | 0.26027232     | 0.25477424     | 0.24962825     | 0.24419351     | 0.24667644     | 0.24809709     | 0.24827050     | ...            | 0.19461168     | 0.20696811     | 0.20802598     | 0.21489718     | 0.21409923     | 0.21345324     | 0.21315385     | 0.21307644     | NA             | NA             | \n",
       "| Andorra        | AND            | NA             | 0.06956522     | 0.06506181     | 0.06093103     | 0.05724426     | 0.05391126     | 0.05089836     | 0.04817420     | ...            | 0.02781708     | 0.02623389     | 0.02723118     | 0.02960367     | 0.03104441     | 0.02911526     | 0.03589642     | 0.03534327     | NA             | NA             | \n",
       "| El mundo árabe | ARB            | NA             | 0.48375236     | 0.47091441     | 0.46038746     | 0.45144367     | 0.44333417     | 0.42989788     | 0.42031216     | ...            | 0.17563888     | 0.16892018     | 0.16519897     | 0.16195985     | 0.15821628     | 0.15573721     | 0.15425933     | 0.15205697     | NA             | NA             | \n",
       "\n",
       "\n"
      ],
      "text/plain": [
       "  Country.Name   Country.Code X1960 X1961      X1962      X1963      X1964     \n",
       "1 Aruba          ABW          NA    0.03607634 0.03557137 0.03527648 0.03506803\n",
       "2 Afganistán     AFG          NA    0.83453659 0.82389351 0.81288414 0.80153228\n",
       "3 Angola         AGO          NA    0.46410375 0.46027479 0.45481778 0.45131382\n",
       "4 Albania        ALB          NA    0.26027232 0.25477424 0.24962825 0.24419351\n",
       "5 Andorra        AND          NA    0.06956522 0.06506181 0.06093103 0.05724426\n",
       "6 El mundo árabe ARB          NA    0.48375236 0.47091441 0.46038746 0.45144367\n",
       "  X1965      X1966      X1967      ... X2007      X2008      X2009     \n",
       "1 0.03486750 0.03465304 0.03445009 ... 0.01975894 0.01973301 0.01971356\n",
       "2 0.78483348 0.77174395 0.75622094 ... 0.29282267 0.28555694 0.27827839\n",
       "3 0.44653659 0.44375627 0.44115389 ... 0.16192260 0.15625417 0.17738715\n",
       "4 0.24667644 0.24809709 0.24827050 ... 0.19461168 0.20696811 0.20802598\n",
       "5 0.05391126 0.05089836 0.04817420 ... 0.02781708 0.02623389 0.02723118\n",
       "6 0.44333417 0.42989788 0.42031216 ... 0.17563888 0.16892018 0.16519897\n",
       "  X2010      X2011      X2012      X2013      X2014      X2015 X2016\n",
       "1 0.01967168 0.01959766 0.01949755 0.01938229 0.01926875 NA    NA   \n",
       "2 0.27056053 0.26224730 0.25377107 0.24533835 0.23722435 NA    NA   \n",
       "3 0.17544512 0.19406600 0.18727972 0.18847357 0.18201765 NA    NA   \n",
       "4 0.21489718 0.21409923 0.21345324 0.21315385 0.21307644 NA    NA   \n",
       "5 0.02960367 0.03104441 0.02911526 0.03589642 0.03534327 NA    NA   \n",
       "6 0.16195985 0.15821628 0.15573721 0.15425933 0.15205697 NA    NA   "
      ]
     },
     "metadata": {},
     "output_type": "display_data"
    }
   ],
   "source": [
    "head(df)"
   ]
  },
  {
   "cell_type": "code",
   "execution_count": 54,
   "metadata": {},
   "outputs": [
    {
     "data": {
      "text/plain": [
       " Country.Name       Country.Code        X1960             X1961        \n",
       " Length:264         Length:264         Mode:logical   Min.   :0.00176  \n",
       " Class :character   Class :character   NA's:264       1st Qu.:0.15235  \n",
       " Mode  :character   Mode  :character                  Median :0.32391  \n",
       "                                                      Mean   :0.39022  \n",
       "                                                      3rd Qu.:0.51495  \n",
       "                                                      Max.   :3.29834  \n",
       "                                                      NA's   :48       \n",
       "     X1962             X1963             X1964             X1965        \n",
       " Min.   :0.00229   Min.   :0.00223   Min.   :0.00217   Min.   :0.00211  \n",
       " 1st Qu.:0.15113   1st Qu.:0.15041   1st Qu.:0.14576   1st Qu.:0.14410  \n",
       " Median :0.32006   Median :0.31624   Median :0.31102   Median :0.30643  \n",
       " Mean   :0.38491   Mean   :0.38061   Mean   :0.37576   Mean   :0.37055  \n",
       " 3rd Qu.:0.50552   3rd Qu.:0.50641   3rd Qu.:0.49717   3rd Qu.:0.49100  \n",
       " Max.   :3.20471   Max.   :3.11300   Max.   :3.16826   Max.   :3.24605  \n",
       " NA's   :48        NA's   :48        NA's   :48        NA's   :48       \n",
       "     X1966             X1967             X1968             X1969        \n",
       " Min.   :0.00191   Min.   :0.00173   Min.   :0.00149   Min.   :0.00145  \n",
       " 1st Qu.:0.14258   1st Qu.:0.13848   1st Qu.:0.13367   1st Qu.:0.13090  \n",
       " Median :0.30016   Median :0.29583   Median :0.29433   Median :0.29200  \n",
       " Mean   :0.36410   Mean   :0.35802   Mean   :0.35258   Mean   :0.34772  \n",
       " 3rd Qu.:0.47704   3rd Qu.:0.47069   3rd Qu.:0.46072   3rd Qu.:0.45392  \n",
       " Max.   :3.40005   Max.   :3.49843   Max.   :3.44658   Max.   :3.38416  \n",
       " NA's   :48        NA's   :48        NA's   :48        NA's   :48       \n",
       "     X1970             X1971             X1972             X1973       \n",
       " Min.   :0.00134   Min.   :0.00095   Min.   :0.00117   Min.   :0.0011  \n",
       " 1st Qu.:0.12885   1st Qu.:0.12720   1st Qu.:0.12633   1st Qu.:0.1254  \n",
       " Median :0.28588   Median :0.27832   Median :0.27619   Median :0.2725  \n",
       " Mean   :0.33975   Mean   :0.33250   Mean   :0.32565   Mean   :0.3203  \n",
       " 3rd Qu.:0.44259   3rd Qu.:0.43891   3rd Qu.:0.43263   3rd Qu.:0.4197  \n",
       " Max.   :3.32726   Max.   :3.17771   Max.   :3.08234   Max.   :3.0057  \n",
       " NA's   :48        NA's   :48        NA's   :48        NA's   :48      \n",
       "     X1974            X1975             X1976             X1977        \n",
       " Min.   :0.0009   Min.   :0.00088   Min.   :0.00087   Min.   :0.00086  \n",
       " 1st Qu.:0.1232   1st Qu.:0.12130   1st Qu.:0.12199   1st Qu.:0.12112  \n",
       " Median :0.2656   Median :0.25604   Median :0.25411   Median :0.24603  \n",
       " Mean   :0.3130   Mean   :0.30685   Mean   :0.30284   Mean   :0.29667  \n",
       " 3rd Qu.:0.4094   3rd Qu.:0.40777   3rd Qu.:0.40156   3rd Qu.:0.39017  \n",
       " Max.   :3.0694   Max.   :3.03937   Max.   :2.99836   Max.   :2.89508  \n",
       " NA's   :48       NA's   :48        NA's   :48        NA's   :48       \n",
       "     X1978             X1979             X1980             X1981        \n",
       " Min.   :0.00081   Min.   :0.00077   Min.   :0.00073   Min.   :0.00079  \n",
       " 1st Qu.:0.11800   1st Qu.:0.11787   1st Qu.:0.11574   1st Qu.:0.11420  \n",
       " Median :0.24184   Median :0.23947   Median :0.23365   Median :0.22099  \n",
       " Mean   :0.29321   Mean   :0.28875   Mean   :0.28338   Mean   :0.27713  \n",
       " 3rd Qu.:0.38157   3rd Qu.:0.37830   3rd Qu.:0.36392   3rd Qu.:0.35380  \n",
       " Max.   :2.96128   Max.   :3.02687   Max.   :2.99694   Max.   :2.88162  \n",
       " NA's   :48        NA's   :48        NA's   :48        NA's   :48       \n",
       "     X1982             X1983             X1984             X1985        \n",
       " Min.   :0.00076   Min.   :0.00075   Min.   :0.00073   Min.   :0.00073  \n",
       " 1st Qu.:0.11065   1st Qu.:0.10817   1st Qu.:0.10665   1st Qu.:0.10439  \n",
       " Median :0.21918   Median :0.21523   Median :0.21653   Median :0.21306  \n",
       " Mean   :0.27453   Mean   :0.26902   Mean   :0.26641   Mean   :0.26195  \n",
       " 3rd Qu.:0.34746   3rd Qu.:0.34028   3rd Qu.:0.33944   3rd Qu.:0.33705  \n",
       " Max.   :3.05534   Max.   :2.91606   Max.   :3.02882   Max.   :2.99213  \n",
       " NA's   :48        NA's   :48        NA's   :48        NA's   :47       \n",
       "     X1986             X1987             X1988             X1989        \n",
       " Min.   :0.00073   Min.   :0.00072   Min.   :0.00070   Min.   :0.00034  \n",
       " 1st Qu.:0.10175   1st Qu.:0.09923   1st Qu.:0.09586   1st Qu.:0.09417  \n",
       " Median :0.20892   Median :0.20573   Median :0.20265   Median :0.20049  \n",
       " Mean   :0.25806   Mean   :0.25414   Mean   :0.25026   Mean   :0.24632  \n",
       " 3rd Qu.:0.32944   3rd Qu.:0.32228   3rd Qu.:0.31828   3rd Qu.:0.31087  \n",
       " Max.   :2.92245   Max.   :2.88621   Max.   :2.84294   Max.   :2.83685  \n",
       " NA's   :47        NA's   :47        NA's   :47        NA's   :47       \n",
       "     X1990             X1991             X1992             X1993         \n",
       " Min.   :0.00033   Min.   :0.00032   Min.   :0.00031   Min.   :0.000302  \n",
       " 1st Qu.:0.08993   1st Qu.:0.08190   1st Qu.:0.10018   1st Qu.:0.101356  \n",
       " Median :0.19716   Median :0.19276   Median :0.20620   Median :0.207107  \n",
       " Mean   :0.24193   Mean   :0.23331   Mean   :0.25787   Mean   :0.255368  \n",
       " 3rd Qu.:0.30475   3rd Qu.:0.30126   3rd Qu.:0.30473   3rd Qu.:0.308147  \n",
       " Max.   :2.80690   Max.   :2.64406   Max.   :2.69791   Max.   :2.620705  \n",
       " NA's   :46        NA's   :41        NA's   :19        NA's   :16        \n",
       "     X1994              X1995              X1996              X1997         \n",
       " Min.   :0.000292   Min.   :0.000284   Min.   :0.000272   Min.   :0.000263  \n",
       " 1st Qu.:0.100169   1st Qu.:0.098499   1st Qu.:0.096046   1st Qu.:0.091211  \n",
       " Median :0.207224   Median :0.206316   Median :0.198729   Median :0.189082  \n",
       " Mean   :0.251425   Mean   :0.246002   Mean   :0.242583   Mean   :0.240435  \n",
       " 3rd Qu.:0.306309   3rd Qu.:0.305215   3rd Qu.:0.306037   3rd Qu.:0.299833  \n",
       " Max.   :2.649118   Max.   :2.218736   Max.   :2.118874   Max.   :2.153211  \n",
       " NA's   :16         NA's   :15         NA's   :15         NA's   :15        \n",
       "     X1998              X1999              X2000              X2001         \n",
       " Min.   :0.000255   Min.   :0.000253   Min.   :0.000248   Min.   :0.000242  \n",
       " 1st Qu.:0.090902   1st Qu.:0.086231   1st Qu.:0.082133   1st Qu.:0.080944  \n",
       " Median :0.186063   Median :0.185603   Median :0.179481   Median :0.176644  \n",
       " Mean   :0.238310   Mean   :0.235851   Mean   :0.230629   Mean   :0.225807  \n",
       " 3rd Qu.:0.291741   3rd Qu.:0.293311   3rd Qu.:0.283295   3rd Qu.:0.276625  \n",
       " Max.   :2.354497   Max.   :2.405685   Max.   :2.469796   Max.   :2.565652  \n",
       " NA's   :15         NA's   :15         NA's   :13         NA's   :13        \n",
       "     X2002              X2003              X2004              X2005         \n",
       " Min.   :0.000239   Min.   :0.000146   Min.   :0.000168   Min.   :0.000155  \n",
       " 1st Qu.:0.077656   1st Qu.:0.076823   1st Qu.:0.075348   1st Qu.:0.073981  \n",
       " Median :0.174009   Median :0.170760   Median :0.167965   Median :0.165683  \n",
       " Mean   :0.221443   Mean   :0.220075   Mean   :0.217922   Mean   :0.216998  \n",
       " 3rd Qu.:0.269144   3rd Qu.:0.274106   3rd Qu.:0.271953   3rd Qu.:0.270642  \n",
       " Max.   :2.432346   Max.   :2.364366   Max.   :2.372040   Max.   :2.422284  \n",
       " NA's   :13         NA's   :13         NA's   :13         NA's   :13        \n",
       "     X2006              X2007              X2008              X2009        \n",
       " Min.   :0.000148   Min.   :0.000153   Min.   :0.000124   Min.   :0.00012  \n",
       " 1st Qu.:0.076196   1st Qu.:0.075320   1st Qu.:0.073809   1st Qu.:0.07780  \n",
       " Median :0.163682   Median :0.161748   Median :0.155332   Median :0.15960  \n",
       " Mean   :0.214608   Mean   :0.211053   Mean   :0.210475   Mean   :0.20907  \n",
       " 3rd Qu.:0.271731   3rd Qu.:0.263612   3rd Qu.:0.267829   3rd Qu.:0.26259  \n",
       " Max.   :2.305306   Max.   :2.119303   Max.   :2.069678   Max.   :2.10292  \n",
       " NA's   :11         NA's   :10         NA's   :11         NA's   :11       \n",
       "     X2010              X2011              X2012              X2013         \n",
       " Min.   :0.000126   Min.   :0.000122   Min.   :0.000119   Min.   :0.000106  \n",
       " 1st Qu.:0.074240   1st Qu.:0.074676   1st Qu.:0.071530   1st Qu.:0.064007  \n",
       " Median :0.156150   Median :0.154201   Median :0.148499   Median :0.146080  \n",
       " Mean   :0.206370   Mean   :0.206258   Mean   :0.205097   Mean   :0.202367  \n",
       " 3rd Qu.:0.265572   3rd Qu.:0.258561   3rd Qu.:0.257730   3rd Qu.:0.248253  \n",
       " Max.   :1.932121   Max.   :2.134196   Max.   :2.072883   Max.   :1.999321  \n",
       " NA's   :11         NA's   :11         NA's   :12         NA's   :12        \n",
       "     X2014           X2015          X2016        \n",
       " Min.   :0.000102   Mode:logical   Mode:logical  \n",
       " 1st Qu.:0.062357   NA's:264       NA's:264      \n",
       " Median :0.144841                                \n",
       " Mean   :0.200980                                \n",
       " 3rd Qu.:0.246485                                \n",
       " Max.   :2.001518                                \n",
       " NA's   :12                                      "
      ]
     },
     "metadata": {},
     "output_type": "display_data"
    }
   ],
   "source": [
    "summary(df) # resumen de la estructura del objeto"
   ]
  },
  {
   "cell_type": "markdown",
   "metadata": {},
   "source": [
    "y como, muchas columnas contienen datos no validos (NA) e incluso algunas no tienen ningún dato (X1960, X2015, X2016)"
   ]
  },
  {
   "cell_type": "code",
   "execution_count": 55,
   "metadata": {},
   "outputs": [
    {
     "name": "stdout",
     "output_type": "stream",
     "text": [
      "'data.frame':\t264 obs. of  59 variables:\n",
      " $ Country.Name: chr  \"Aruba\" \"Afganistán\" \"Angola\" \"Albania\" ...\n",
      " $ Country.Code: chr  \"ABW\" \"AFG\" \"AGO\" \"ALB\" ...\n",
      " $ X1960       : logi  NA NA NA NA NA NA ...\n",
      " $ X1961       : num  0.0361 0.8345 0.4641 0.2603 0.0696 ...\n",
      " $ X1962       : num  0.0356 0.8239 0.4603 0.2548 0.0651 ...\n",
      " $ X1963       : num  0.0353 0.8129 0.4548 0.2496 0.0609 ...\n",
      " $ X1964       : num  0.0351 0.8015 0.4513 0.2442 0.0572 ...\n",
      " $ X1965       : num  0.0349 0.7848 0.4465 0.2467 0.0539 ...\n",
      " $ X1966       : num  0.0347 0.7717 0.4438 0.2481 0.0509 ...\n",
      " $ X1967       : num  0.0345 0.7562 0.4412 0.2483 0.0482 ...\n",
      " $ X1968       : num  0.0343 0.7397 0.4384 0.2472 0.0457 ...\n",
      " $ X1969       : num  0.0341 0.7241 0.4366 0.245 0.0434 ...\n",
      " $ X1970       : num  0.0339 0.7073 0.428 0.244 0.0412 ...\n",
      " $ X1971       : num  0.0336 0.6919 0.4186 0.2422 0.0391 ...\n",
      " $ X1972       : num  0.0334 0.6748 0.4087 0.2407 0.0372 ...\n",
      " $ X1973       : num  0.0332 0.6576 0.3985 0.2386 0.0354 ...\n",
      " $ X1974       : num  0.033 0.642 0.388 0.237 0.0339 ...\n",
      " $ X1975       : num  0.033 0.6283 0.3775 0.2341 0.0326 ...\n",
      " $ X1976       : num  0.033 0.616 0.367 0.2339 0.0315 ...\n",
      " $ X1977       : num  0.0331 0.6053 0.3567 0.2307 0.0305 ...\n",
      " $ X1978       : num  0.0333 0.5975 0.3462 0.2272 0.0296 ...\n",
      " $ X1979       : num  0.0333 0.5944 0.3356 0.2227 0.0287 ...\n",
      " $ X1980       : num  0.0333 0.5971 0.3248 0.2189 0.0277 ...\n",
      " $ X1981       : num  0.033 0.6059 0.3137 0.2157 0.0267 ...\n",
      " $ X1982       : num  0.0326 0.6204 0.3026 0.2115 0.0256 ...\n",
      " $ X1983       : num  0.0322 0.6385 0.292 0.2071 0.0245 ...\n",
      " $ X1984       : num  0.0318 0.6566 0.2822 0.2028 0.0234 ...\n",
      " $ X1985       : num  0.0317 0.6713 0.2734 0.1987 0.0224 ...\n",
      " $ X1986       : num  0.0319 0.6818 0.2655 0.1949 0.0215 ...\n",
      " $ X1987       : num  0.0323 0.6877 0.2585 0.1913 0.0206 ...\n",
      " $ X1988       : num  0.0327 0.6854 0.2519 0.1878 0.0198 ...\n",
      " $ X1989       : num  0.0328 0.6716 0.2452 0.1803 0.0191 ...\n",
      " $ X1990       : num  0.0322 0.6458 0.2383 0.1762 0.0367 ...\n",
      " $ X1991       : num  0.0309 0.6088 0.235 0.1769 0.0353 ...\n",
      " $ X1992       : num  0.0293 0.5658 0.2313 0.178 0.034 ...\n",
      " $ X1993       : num  0.0276 0.5183 0.2238 0.1788 0.0328 ...\n",
      " $ X1994       : num  0.0261 0.4763 0.2167 0.1799 0.0319 ...\n",
      " $ X1995       : num  0.0249 0.4476 0.2102 0.181 0.0313 ...\n",
      " $ X1996       : num  0.024 0.4291 0.2043 0.1821 0.0311 ...\n",
      " $ X1997       : num  0.0234 0.4181 0.1988 0.1836 0.0311 ...\n",
      " $ X1998       : num  0.0229 0.4112 0.1935 0.1844 0.0343 ...\n",
      " $ X1999       : num  0.0225 0.3944 0.1881 0.1856 0.0357 ...\n",
      " $ X2000       : num  0.022 0.3824 0.1825 0.1871 0.0352 ...\n",
      " $ X2001       : num  0.0215 0.3664 0.1766 0.1889 0.0356 ...\n",
      " $ X2002       : num  0.0211 0.3493 0.1764 0.1894 0.0357 ...\n",
      " $ X2003       : num  0.0206 0.337 0.1813 0.1902 0.0342 ...\n",
      " $ X2004       : num  0.0203 0.3241 0.1749 0.191 0.0328 ...\n",
      " $ X2005       : num  0.02 0.3113 0.1688 0.1786 0.0317 ...\n",
      " $ X2006       : num  0.0198 0.301 0.1629 0.1952 0.0296 ...\n",
      " $ X2007       : num  0.0198 0.2928 0.1619 0.1946 0.0278 ...\n",
      " $ X2008       : num  0.0197 0.2856 0.1563 0.207 0.0262 ...\n",
      " $ X2009       : num  0.0197 0.2783 0.1774 0.208 0.0272 ...\n",
      " $ X2010       : num  0.0197 0.2706 0.1754 0.2149 0.0296 ...\n",
      " $ X2011       : num  0.0196 0.2622 0.1941 0.2141 0.031 ...\n",
      " $ X2012       : num  0.0195 0.2538 0.1873 0.2135 0.0291 ...\n",
      " $ X2013       : num  0.0194 0.2453 0.1885 0.2132 0.0359 ...\n",
      " $ X2014       : num  0.0193 0.2372 0.182 0.2131 0.0353 ...\n",
      " $ X2015       : logi  NA NA NA NA NA NA ...\n",
      " $ X2016       : logi  NA NA NA NA NA NA ...\n"
     ]
    }
   ],
   "source": [
    "str(df) # estructura del objeto"
   ]
  },
  {
   "cell_type": "code",
   "execution_count": 60,
   "metadata": {},
   "outputs": [
    {
     "ename": "ERROR",
     "evalue": "Error in colMeans(df[3:5, ], na.rm = TRUE): 'x' debe ser numérico\n",
     "output_type": "error",
     "traceback": [
      "Error in colMeans(df[3:5, ], na.rm = TRUE): 'x' debe ser numérico\nTraceback:\n",
      "1. colMeans(df[3:5, ], na.rm = TRUE)"
     ]
    }
   ],
   "source": [
    "colMeans(df[3:5,], na.rm = TRUE)"
   ]
  },
  {
   "cell_type": "code",
   "execution_count": null,
   "metadata": {},
   "outputs": [],
   "source": []
  }
 ],
 "metadata": {
  "kernelspec": {
   "display_name": "R",
   "language": "R",
   "name": "ir"
  },
  "language_info": {
   "codemirror_mode": "r",
   "file_extension": ".r",
   "mimetype": "text/x-r-source",
   "name": "R",
   "pygments_lexer": "r",
   "version": "3.4.2"
  }
 },
 "nbformat": 4,
 "nbformat_minor": 2
}
