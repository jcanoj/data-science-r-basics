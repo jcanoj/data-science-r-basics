{
 "cells": [
  {
   "cell_type": "markdown",
   "metadata": {},
   "source": [
    "# Vectores#"
   ]
  },
  {
   "cell_type": "markdown",
   "metadata": {},
   "source": [
    "creamos vectores usando la función **c**, abreviatura de **concatenate**. Para crear vectores de tipo \"character\" debemos usar dobles comillas. En caso contrario R pensará que son variables y usará su valor."
   ]
  },
  {
   "cell_type": "code",
   "execution_count": 1,
   "metadata": {
    "collapsed": true
   },
   "outputs": [],
   "source": [
    "codes <- c(380, 124, 818)\n",
    "country <- c(\"italia\", \"canada\", \"egipto\")"
   ]
  },
  {
   "cell_type": "markdown",
   "metadata": {},
   "source": [
    "Otra manera de crear vectores numericos es definiendo nombres para cada uno de ellos. No estamos asignando variables sino etiquetando los valores. Aunque estas etiquetas forman parte del vector, sigue siendo de tipo numérico"
   ]
  },
  {
   "cell_type": "code",
   "execution_count": 2,
   "metadata": {},
   "outputs": [
    {
     "data": {
      "text/html": [
       "<dl class=dl-horizontal>\n",
       "\t<dt>italia</dt>\n",
       "\t\t<dd>380</dd>\n",
       "\t<dt>canada</dt>\n",
       "\t\t<dd>124</dd>\n",
       "\t<dt>egipto</dt>\n",
       "\t\t<dd>818</dd>\n",
       "</dl>\n"
      ],
      "text/latex": [
       "\\begin{description*}\n",
       "\\item[italia] 380\n",
       "\\item[canada] 124\n",
       "\\item[egipto] 818\n",
       "\\end{description*}\n"
      ],
      "text/markdown": [
       "italia\n",
       ":   380canada\n",
       ":   124egipto\n",
       ":   818\n",
       "\n"
      ],
      "text/plain": [
       "italia canada egipto \n",
       "   380    124    818 "
      ]
     },
     "metadata": {},
     "output_type": "display_data"
    },
    {
     "data": {
      "text/html": [
       "'numeric'"
      ],
      "text/latex": [
       "'numeric'"
      ],
      "text/markdown": [
       "'numeric'"
      ],
      "text/plain": [
       "[1] \"numeric\""
      ]
     },
     "metadata": {},
     "output_type": "display_data"
    }
   ],
   "source": [
    "codes <- c(italia=380, canada=124, egipto=818)\n",
    "# codes <- c(\"italia\"=380, \"canada\"=124, \"egipto\"=818) da el mismo resultado!\n",
    "codes\n",
    "class(codes)"
   ]
  },
  {
   "cell_type": "markdown",
   "metadata": {},
   "source": [
    "otra manera de hacer esto"
   ]
  },
  {
   "cell_type": "code",
   "execution_count": 3,
   "metadata": {},
   "outputs": [
    {
     "data": {
      "text/html": [
       "<dl class=dl-horizontal>\n",
       "\t<dt>italia</dt>\n",
       "\t\t<dd>380</dd>\n",
       "\t<dt>canada</dt>\n",
       "\t\t<dd>124</dd>\n",
       "\t<dt>egipto</dt>\n",
       "\t\t<dd>818</dd>\n",
       "</dl>\n"
      ],
      "text/latex": [
       "\\begin{description*}\n",
       "\\item[italia] 380\n",
       "\\item[canada] 124\n",
       "\\item[egipto] 818\n",
       "\\end{description*}\n"
      ],
      "text/markdown": [
       "italia\n",
       ":   380canada\n",
       ":   124egipto\n",
       ":   818\n",
       "\n"
      ],
      "text/plain": [
       "italia canada egipto \n",
       "   380    124    818 "
      ]
     },
     "metadata": {},
     "output_type": "display_data"
    }
   ],
   "source": [
    "codes <- c(380, 124, 818)\n",
    "country <- c(\"italia\", \"canada\", \"egipto\")\n",
    "names (codes) <- country\n",
    "codes"
   ]
  },
  {
   "cell_type": "markdown",
   "metadata": {},
   "source": [
    "Otra forma de crear un vector numérico es mediante la función **seq**, abreviatura de **sequence**. **seq** genera una secuencia"
   ]
  },
  {
   "cell_type": "code",
   "execution_count": 29,
   "metadata": {},
   "outputs": [
    {
     "data": {
      "text/html": [
       "<ol class=list-inline>\n",
       "\t<li>1</li>\n",
       "\t<li>2</li>\n",
       "\t<li>3</li>\n",
       "\t<li>4</li>\n",
       "\t<li>5</li>\n",
       "\t<li>6</li>\n",
       "\t<li>7</li>\n",
       "\t<li>8</li>\n",
       "\t<li>9</li>\n",
       "\t<li>10</li>\n",
       "</ol>\n"
      ],
      "text/latex": [
       "\\begin{enumerate*}\n",
       "\\item 1\n",
       "\\item 2\n",
       "\\item 3\n",
       "\\item 4\n",
       "\\item 5\n",
       "\\item 6\n",
       "\\item 7\n",
       "\\item 8\n",
       "\\item 9\n",
       "\\item 10\n",
       "\\end{enumerate*}\n"
      ],
      "text/markdown": [
       "1. 1\n",
       "2. 2\n",
       "3. 3\n",
       "4. 4\n",
       "5. 5\n",
       "6. 6\n",
       "7. 7\n",
       "8. 8\n",
       "9. 9\n",
       "10. 10\n",
       "\n",
       "\n"
      ],
      "text/plain": [
       " [1]  1  2  3  4  5  6  7  8  9 10"
      ]
     },
     "metadata": {},
     "output_type": "display_data"
    },
    {
     "data": {
      "text/html": [
       "<ol class=list-inline>\n",
       "\t<li>1</li>\n",
       "\t<li>3</li>\n",
       "\t<li>5</li>\n",
       "\t<li>7</li>\n",
       "\t<li>9</li>\n",
       "</ol>\n"
      ],
      "text/latex": [
       "\\begin{enumerate*}\n",
       "\\item 1\n",
       "\\item 3\n",
       "\\item 5\n",
       "\\item 7\n",
       "\\item 9\n",
       "\\end{enumerate*}\n"
      ],
      "text/markdown": [
       "1. 1\n",
       "2. 3\n",
       "3. 5\n",
       "4. 7\n",
       "5. 9\n",
       "\n",
       "\n"
      ],
      "text/plain": [
       "[1] 1 3 5 7 9"
      ]
     },
     "metadata": {},
     "output_type": "display_data"
    },
    {
     "data": {
      "text/html": [
       "<ol class=list-inline>\n",
       "\t<li>1</li>\n",
       "\t<li>2</li>\n",
       "\t<li>3</li>\n",
       "\t<li>4</li>\n",
       "\t<li>5</li>\n",
       "\t<li>6</li>\n",
       "\t<li>7</li>\n",
       "\t<li>8</li>\n",
       "\t<li>9</li>\n",
       "\t<li>10</li>\n",
       "</ol>\n"
      ],
      "text/latex": [
       "\\begin{enumerate*}\n",
       "\\item 1\n",
       "\\item 2\n",
       "\\item 3\n",
       "\\item 4\n",
       "\\item 5\n",
       "\\item 6\n",
       "\\item 7\n",
       "\\item 8\n",
       "\\item 9\n",
       "\\item 10\n",
       "\\end{enumerate*}\n"
      ],
      "text/markdown": [
       "1. 1\n",
       "2. 2\n",
       "3. 3\n",
       "4. 4\n",
       "5. 5\n",
       "6. 6\n",
       "7. 7\n",
       "8. 8\n",
       "9. 9\n",
       "10. 10\n",
       "\n",
       "\n"
      ],
      "text/plain": [
       " [1]  1  2  3  4  5  6  7  8  9 10"
      ]
     },
     "metadata": {},
     "output_type": "display_data"
    },
    {
     "data": {
      "text/html": [
       "<ol class=list-inline>\n",
       "\t<li>1</li>\n",
       "\t<li>1.5</li>\n",
       "\t<li>2</li>\n",
       "\t<li>2.5</li>\n",
       "\t<li>3</li>\n",
       "\t<li>3.5</li>\n",
       "\t<li>4</li>\n",
       "\t<li>4.5</li>\n",
       "\t<li>5</li>\n",
       "\t<li>5.5</li>\n",
       "\t<li>6</li>\n",
       "\t<li>6.5</li>\n",
       "\t<li>7</li>\n",
       "\t<li>7.5</li>\n",
       "\t<li>8</li>\n",
       "\t<li>8.5</li>\n",
       "\t<li>9</li>\n",
       "\t<li>9.5</li>\n",
       "\t<li>10</li>\n",
       "</ol>\n"
      ],
      "text/latex": [
       "\\begin{enumerate*}\n",
       "\\item 1\n",
       "\\item 1.5\n",
       "\\item 2\n",
       "\\item 2.5\n",
       "\\item 3\n",
       "\\item 3.5\n",
       "\\item 4\n",
       "\\item 4.5\n",
       "\\item 5\n",
       "\\item 5.5\n",
       "\\item 6\n",
       "\\item 6.5\n",
       "\\item 7\n",
       "\\item 7.5\n",
       "\\item 8\n",
       "\\item 8.5\n",
       "\\item 9\n",
       "\\item 9.5\n",
       "\\item 10\n",
       "\\end{enumerate*}\n"
      ],
      "text/markdown": [
       "1. 1\n",
       "2. 1.5\n",
       "3. 2\n",
       "4. 2.5\n",
       "5. 3\n",
       "6. 3.5\n",
       "7. 4\n",
       "8. 4.5\n",
       "9. 5\n",
       "10. 5.5\n",
       "11. 6\n",
       "12. 6.5\n",
       "13. 7\n",
       "14. 7.5\n",
       "15. 8\n",
       "16. 8.5\n",
       "17. 9\n",
       "18. 9.5\n",
       "19. 10\n",
       "\n",
       "\n"
      ],
      "text/plain": [
       " [1]  1.0  1.5  2.0  2.5  3.0  3.5  4.0  4.5  5.0  5.5  6.0  6.5  7.0  7.5  8.0\n",
       "[16]  8.5  9.0  9.5 10.0"
      ]
     },
     "metadata": {},
     "output_type": "display_data"
    },
    {
     "data": {
      "text/html": [
       "<ol class=list-inline>\n",
       "\t<li>0</li>\n",
       "\t<li>25</li>\n",
       "\t<li>50</li>\n",
       "\t<li>75</li>\n",
       "\t<li>100</li>\n",
       "</ol>\n"
      ],
      "text/latex": [
       "\\begin{enumerate*}\n",
       "\\item 0\n",
       "\\item 25\n",
       "\\item 50\n",
       "\\item 75\n",
       "\\item 100\n",
       "\\end{enumerate*}\n"
      ],
      "text/markdown": [
       "1. 0\n",
       "2. 25\n",
       "3. 50\n",
       "4. 75\n",
       "5. 100\n",
       "\n",
       "\n"
      ],
      "text/plain": [
       "[1]   0  25  50  75 100"
      ]
     },
     "metadata": {},
     "output_type": "display_data"
    }
   ],
   "source": [
    "seq (1,10) # crea una secuencia de valores numericos del 1 al 10\n",
    "seq (1,10, 2) # crea una secuencia con un intervalo  = 2\n",
    "1:10 # equivale a seq (1,10)\n",
    "seq (1,10,0.5) # genera una secuencia de valores espaciadoso 0.5 unidades\n",
    "seq(0,100, length.out =5) # genera una secuencia de longitud 5"
   ]
  },
  {
   "cell_type": "markdown",
   "metadata": {},
   "source": [
    "## Subsetting ##"
   ]
  },
  {
   "cell_type": "code",
   "execution_count": 8,
   "metadata": {},
   "outputs": [
    {
     "data": {
      "text/html": [
       "<strong>canada:</strong> 124"
      ],
      "text/latex": [
       "\\textbf{canada:} 124"
      ],
      "text/markdown": [
       "**canada:** 124"
      ],
      "text/plain": [
       "canada \n",
       "   124 "
      ]
     },
     "metadata": {},
     "output_type": "display_data"
    },
    {
     "data": {
      "text/html": [
       "<dl class=dl-horizontal>\n",
       "\t<dt>italia</dt>\n",
       "\t\t<dd>380</dd>\n",
       "\t<dt>egipto</dt>\n",
       "\t\t<dd>818</dd>\n",
       "</dl>\n"
      ],
      "text/latex": [
       "\\begin{description*}\n",
       "\\item[italia] 380\n",
       "\\item[egipto] 818\n",
       "\\end{description*}\n"
      ],
      "text/markdown": [
       "italia\n",
       ":   380egipto\n",
       ":   818\n",
       "\n"
      ],
      "text/plain": [
       "italia egipto \n",
       "   380    818 "
      ]
     },
     "metadata": {},
     "output_type": "display_data"
    },
    {
     "data": {
      "text/html": [
       "<dl class=dl-horizontal>\n",
       "\t<dt>italia</dt>\n",
       "\t\t<dd>380</dd>\n",
       "\t<dt>canada</dt>\n",
       "\t\t<dd>124</dd>\n",
       "</dl>\n"
      ],
      "text/latex": [
       "\\begin{description*}\n",
       "\\item[italia] 380\n",
       "\\item[canada] 124\n",
       "\\end{description*}\n"
      ],
      "text/markdown": [
       "italia\n",
       ":   380canada\n",
       ":   124\n",
       "\n"
      ],
      "text/plain": [
       "italia canada \n",
       "   380    124 "
      ]
     },
     "metadata": {},
     "output_type": "display_data"
    },
    {
     "data": {
      "text/html": [
       "<strong>canada:</strong> 124"
      ],
      "text/latex": [
       "\\textbf{canada:} 124"
      ],
      "text/markdown": [
       "**canada:** 124"
      ],
      "text/plain": [
       "canada \n",
       "   124 "
      ]
     },
     "metadata": {},
     "output_type": "display_data"
    },
    {
     "data": {
      "text/html": [
       "<dl class=dl-horizontal>\n",
       "\t<dt>egipto</dt>\n",
       "\t\t<dd>818</dd>\n",
       "\t<dt>italia</dt>\n",
       "\t\t<dd>380</dd>\n",
       "</dl>\n"
      ],
      "text/latex": [
       "\\begin{description*}\n",
       "\\item[egipto] 818\n",
       "\\item[italia] 380\n",
       "\\end{description*}\n"
      ],
      "text/markdown": [
       "egipto\n",
       ":   818italia\n",
       ":   380\n",
       "\n"
      ],
      "text/plain": [
       "egipto italia \n",
       "   818    380 "
      ]
     },
     "metadata": {},
     "output_type": "display_data"
    }
   ],
   "source": [
    "codes [2] # accede al elemento 2 del vector codes; ojo, el primer elemento es el numero 1!\n",
    "codes [c(1,3)] # crea un vector con valores 1 y 3 para acceder a estos elementos\n",
    "codes [1:2] # usando una secuencia para acceder a los dos primeros elementos\n",
    "codes [\"canada\"]\n",
    "codes [c(\"egipto\", \"italia\")]"
   ]
  },
  {
   "cell_type": "markdown",
   "metadata": {},
   "source": [
    "## Conversión de tipos (Vector Coercion) ##"
   ]
  },
  {
   "cell_type": "markdown",
   "metadata": {},
   "source": [
    "R fuerza el tipo de ciertos datos cuando los datos son de tipo distinto."
   ]
  },
  {
   "cell_type": "code",
   "execution_count": 13,
   "metadata": {
    "scrolled": true
   },
   "outputs": [
    {
     "data": {
      "text/html": [
       "<ol class=list-inline>\n",
       "\t<li>'1'</li>\n",
       "\t<li>'manzanas'</li>\n",
       "\t<li>'3'</li>\n",
       "</ol>\n"
      ],
      "text/latex": [
       "\\begin{enumerate*}\n",
       "\\item '1'\n",
       "\\item 'manzanas'\n",
       "\\item '3'\n",
       "\\end{enumerate*}\n"
      ],
      "text/markdown": [
       "1. '1'\n",
       "2. 'manzanas'\n",
       "3. '3'\n",
       "\n",
       "\n"
      ],
      "text/plain": [
       "[1] \"1\"        \"manzanas\" \"3\"       "
      ]
     },
     "metadata": {},
     "output_type": "display_data"
    },
    {
     "data": {
      "text/html": [
       "'character'"
      ],
      "text/latex": [
       "'character'"
      ],
      "text/markdown": [
       "'character'"
      ],
      "text/plain": [
       "[1] \"character\""
      ]
     },
     "metadata": {},
     "output_type": "display_data"
    }
   ],
   "source": [
    "x <- c(1, \"manzanas\", 3)\n",
    "x\n",
    "class (x)"
   ]
  },
  {
   "cell_type": "markdown",
   "metadata": {},
   "source": [
    "También podemos forzar el tipo de datos usando **as.character** para convertir a tipo texto o **as.numeric** para convertir a tipo numérico"
   ]
  },
  {
   "cell_type": "code",
   "execution_count": 18,
   "metadata": {
    "scrolled": true
   },
   "outputs": [
    {
     "data": {
      "text/html": [
       "<ol class=list-inline>\n",
       "\t<li>'1'</li>\n",
       "\t<li>'2'</li>\n",
       "\t<li>'3'</li>\n",
       "\t<li>'4'</li>\n",
       "\t<li>'5'</li>\n",
       "</ol>\n"
      ],
      "text/latex": [
       "\\begin{enumerate*}\n",
       "\\item '1'\n",
       "\\item '2'\n",
       "\\item '3'\n",
       "\\item '4'\n",
       "\\item '5'\n",
       "\\end{enumerate*}\n"
      ],
      "text/markdown": [
       "1. '1'\n",
       "2. '2'\n",
       "3. '3'\n",
       "4. '4'\n",
       "5. '5'\n",
       "\n",
       "\n"
      ],
      "text/plain": [
       "[1] \"1\" \"2\" \"3\" \"4\" \"5\""
      ]
     },
     "metadata": {},
     "output_type": "display_data"
    },
    {
     "data": {
      "text/html": [
       "'character'"
      ],
      "text/latex": [
       "'character'"
      ],
      "text/markdown": [
       "'character'"
      ],
      "text/plain": [
       "[1] \"character\""
      ]
     },
     "metadata": {},
     "output_type": "display_data"
    },
    {
     "data": {
      "text/html": [
       "<ol class=list-inline>\n",
       "\t<li>1</li>\n",
       "\t<li>2</li>\n",
       "\t<li>3</li>\n",
       "\t<li>4</li>\n",
       "\t<li>5</li>\n",
       "</ol>\n"
      ],
      "text/latex": [
       "\\begin{enumerate*}\n",
       "\\item 1\n",
       "\\item 2\n",
       "\\item 3\n",
       "\\item 4\n",
       "\\item 5\n",
       "\\end{enumerate*}\n"
      ],
      "text/markdown": [
       "1. 1\n",
       "2. 2\n",
       "3. 3\n",
       "4. 4\n",
       "5. 5\n",
       "\n",
       "\n"
      ],
      "text/plain": [
       "[1] 1 2 3 4 5"
      ]
     },
     "metadata": {},
     "output_type": "display_data"
    },
    {
     "data": {
      "text/html": [
       "'numeric'"
      ],
      "text/latex": [
       "'numeric'"
      ],
      "text/markdown": [
       "'numeric'"
      ],
      "text/plain": [
       "[1] \"numeric\""
      ]
     },
     "metadata": {},
     "output_type": "display_data"
    }
   ],
   "source": [
    "x <- as.character(1:5)\n",
    "x; class (x)\n",
    "y <- as.numeric(x)\n",
    "y; class (y)"
   ]
  },
  {
   "cell_type": "markdown",
   "metadata": {},
   "source": [
    "## El valor NA ##"
   ]
  },
  {
   "cell_type": "markdown",
   "metadata": {},
   "source": [
    "R utiliza el valor **NA** para indicar que un dato falta. Esto puede ocurrir al forzar el tipo de datos."
   ]
  },
  {
   "cell_type": "code",
   "execution_count": 18,
   "metadata": {
    "scrolled": true
   },
   "outputs": [
    {
     "name": "stderr",
     "output_type": "stream",
     "text": [
      "Warning message in eval(expr, envir, enclos):\n",
      "\"NAs introducidos por coerción\""
     ]
    },
    {
     "data": {
      "text/html": [
       "<ol class=list-inline>\n",
       "\t<li>1</li>\n",
       "\t<li>NA</li>\n",
       "\t<li>3</li>\n",
       "</ol>\n"
      ],
      "text/latex": [
       "\\begin{enumerate*}\n",
       "\\item 1\n",
       "\\item NA\n",
       "\\item 3\n",
       "\\end{enumerate*}\n"
      ],
      "text/markdown": [
       "1. 1\n",
       "2. NA\n",
       "3. 3\n",
       "\n",
       "\n"
      ],
      "text/plain": [
       "[1]  1 NA  3"
      ]
     },
     "metadata": {},
     "output_type": "display_data"
    }
   ],
   "source": [
    "x <- c(\"1\", \"b\", \"3\")\n",
    "y <- as.numeric(x)\n",
    "y"
   ]
  },
  {
   "cell_type": "code",
   "execution_count": 23,
   "metadata": {},
   "outputs": [
    {
     "data": {
      "text/html": [
       "<ol class=list-inline>\n",
       "\t<li>FALSE</li>\n",
       "\t<li>FALSE</li>\n",
       "\t<li>TRUE</li>\n",
       "\t<li>FALSE</li>\n",
       "\t<li>FALSE</li>\n",
       "\t<li>TRUE</li>\n",
       "\t<li>FALSE</li>\n",
       "</ol>\n"
      ],
      "text/latex": [
       "\\begin{enumerate*}\n",
       "\\item FALSE\n",
       "\\item FALSE\n",
       "\\item TRUE\n",
       "\\item FALSE\n",
       "\\item FALSE\n",
       "\\item TRUE\n",
       "\\item FALSE\n",
       "\\end{enumerate*}\n"
      ],
      "text/markdown": [
       "1. FALSE\n",
       "2. FALSE\n",
       "3. TRUE\n",
       "4. FALSE\n",
       "5. FALSE\n",
       "6. TRUE\n",
       "7. FALSE\n",
       "\n",
       "\n"
      ],
      "text/plain": [
       "[1] FALSE FALSE  TRUE FALSE FALSE  TRUE FALSE"
      ]
     },
     "metadata": {},
     "output_type": "display_data"
    },
    {
     "data": {
      "text/html": [
       "2"
      ],
      "text/latex": [
       "2"
      ],
      "text/markdown": [
       "2"
      ],
      "text/plain": [
       "[1] 2"
      ]
     },
     "metadata": {},
     "output_type": "display_data"
    }
   ],
   "source": [
    "x <- c(1, 2, NA, 4, 5, NA, 7)\n",
    "is.na(x) # devuelve un vector indicando si un valor es NA (TRUE)\n",
    "sum (is.na(x)) # devuelve el total de valores NA"
   ]
  },
  {
   "cell_type": "markdown",
   "metadata": {},
   "source": [
    "### Eliminando los valores NA ###"
   ]
  },
  {
   "cell_type": "code",
   "execution_count": 25,
   "metadata": {},
   "outputs": [
    {
     "data": {
      "text/plain": [
       "[1] NA"
      ]
     },
     "metadata": {},
     "output_type": "display_data"
    },
    {
     "data": {
      "text/html": [
       "<ol class=list-inline>\n",
       "\t<li>1</li>\n",
       "\t<li>2</li>\n",
       "\t<li>4</li>\n",
       "\t<li>5</li>\n",
       "\t<li>7</li>\n",
       "</ol>\n"
      ],
      "text/latex": [
       "\\begin{enumerate*}\n",
       "\\item 1\n",
       "\\item 2\n",
       "\\item 4\n",
       "\\item 5\n",
       "\\item 7\n",
       "\\end{enumerate*}\n"
      ],
      "text/markdown": [
       "1. 1\n",
       "2. 2\n",
       "3. 4\n",
       "4. 5\n",
       "5. 7\n",
       "\n",
       "\n"
      ],
      "text/plain": [
       "[1] 1 2 4 5 7"
      ]
     },
     "metadata": {},
     "output_type": "display_data"
    },
    {
     "data": {
      "text/html": [
       "3.8"
      ],
      "text/latex": [
       "3.8"
      ],
      "text/markdown": [
       "3.8"
      ],
      "text/plain": [
       "[1] 3.8"
      ]
     },
     "metadata": {},
     "output_type": "display_data"
    }
   ],
   "source": [
    "x <- c(1, 2, NA, 4, 5, NA, 7)\n",
    "mean(x) # no es posible calcular la media con valores NA\n",
    "ind <- is.na(x)\n",
    "x <- x[!ind] # creamos un nuevo vector sin los valores NA\n",
    "x\n",
    "mean (x) # ahora sí podemos calcular la media"
   ]
  },
  {
   "cell_type": "markdown",
   "metadata": {},
   "source": [
    "## sort, order, rank##"
   ]
  },
  {
   "cell_type": "markdown",
   "metadata": {},
   "source": [
    "Orange es un dataset incluido en R con datos experimentales sobre el diametro de las naranjas"
   ]
  },
  {
   "cell_type": "code",
   "execution_count": 31,
   "metadata": {
    "scrolled": false
   },
   "outputs": [
    {
     "data": {
      "text/html": [
       "<table>\n",
       "<thead><tr><th scope=col>Tree</th><th scope=col>age</th><th scope=col>circumference</th></tr></thead>\n",
       "<tbody>\n",
       "\t<tr><td>1   </td><td> 118</td><td> 30 </td></tr>\n",
       "\t<tr><td>1   </td><td> 484</td><td> 58 </td></tr>\n",
       "\t<tr><td>1   </td><td> 664</td><td> 87 </td></tr>\n",
       "\t<tr><td>1   </td><td>1004</td><td>115 </td></tr>\n",
       "\t<tr><td>1   </td><td>1231</td><td>120 </td></tr>\n",
       "\t<tr><td>1   </td><td>1372</td><td>142 </td></tr>\n",
       "</tbody>\n",
       "</table>\n"
      ],
      "text/latex": [
       "\\begin{tabular}{r|lll}\n",
       " Tree & age & circumference\\\\\n",
       "\\hline\n",
       "\t 1    &  118 &  30 \\\\\n",
       "\t 1    &  484 &  58 \\\\\n",
       "\t 1    &  664 &  87 \\\\\n",
       "\t 1    & 1004 & 115 \\\\\n",
       "\t 1    & 1231 & 120 \\\\\n",
       "\t 1    & 1372 & 142 \\\\\n",
       "\\end{tabular}\n"
      ],
      "text/markdown": [
       "\n",
       "Tree | age | circumference | \n",
       "|---|---|---|---|---|---|\n",
       "| 1    |  118 |  30  | \n",
       "| 1    |  484 |  58  | \n",
       "| 1    |  664 |  87  | \n",
       "| 1    | 1004 | 115  | \n",
       "| 1    | 1231 | 120  | \n",
       "| 1    | 1372 | 142  | \n",
       "\n",
       "\n"
      ],
      "text/plain": [
       "  Tree age  circumference\n",
       "1 1     118  30          \n",
       "2 1     484  58          \n",
       "3 1     664  87          \n",
       "4 1    1004 115          \n",
       "5 1    1231 120          \n",
       "6 1    1372 142          "
      ]
     },
     "metadata": {},
     "output_type": "display_data"
    }
   ],
   "source": [
    "head(Orange)"
   ]
  },
  {
   "cell_type": "code",
   "execution_count": 2,
   "metadata": {},
   "outputs": [
    {
     "data": {
      "text/html": [
       "<ol class=list-inline>\n",
       "\t<li>30</li>\n",
       "\t<li>58</li>\n",
       "\t<li>87</li>\n",
       "\t<li>115</li>\n",
       "\t<li>120</li>\n",
       "\t<li>142</li>\n",
       "</ol>\n"
      ],
      "text/latex": [
       "\\begin{enumerate*}\n",
       "\\item 30\n",
       "\\item 58\n",
       "\\item 87\n",
       "\\item 115\n",
       "\\item 120\n",
       "\\item 142\n",
       "\\end{enumerate*}\n"
      ],
      "text/markdown": [
       "1. 30\n",
       "2. 58\n",
       "3. 87\n",
       "4. 115\n",
       "5. 120\n",
       "6. 142\n",
       "\n",
       "\n"
      ],
      "text/plain": [
       "[1]  30  58  87 115 120 142"
      ]
     },
     "metadata": {},
     "output_type": "display_data"
    }
   ],
   "source": [
    "head(Orange$circumference) # nos devuelve un vector cuyos valores tienen el mismo orden que el dataset"
   ]
  },
  {
   "cell_type": "code",
   "execution_count": 33,
   "metadata": {},
   "outputs": [
    {
     "data": {
      "text/html": [
       "<ol class=list-inline>\n",
       "\t<li>30</li>\n",
       "\t<li>30</li>\n",
       "\t<li>30</li>\n",
       "\t<li>32</li>\n",
       "\t<li>33</li>\n",
       "\t<li>49</li>\n",
       "\t<li>51</li>\n",
       "\t<li>58</li>\n",
       "\t<li>62</li>\n",
       "\t<li>69</li>\n",
       "\t<li>75</li>\n",
       "\t<li>81</li>\n",
       "\t<li>87</li>\n",
       "\t<li>108</li>\n",
       "\t<li>111</li>\n",
       "\t<li>112</li>\n",
       "\t<li>115</li>\n",
       "\t<li>115</li>\n",
       "\t<li>120</li>\n",
       "\t<li>125</li>\n",
       "\t<li>139</li>\n",
       "\t<li>140</li>\n",
       "\t<li>142</li>\n",
       "\t<li>142</li>\n",
       "\t<li>145</li>\n",
       "\t<li>156</li>\n",
       "\t<li>167</li>\n",
       "\t<li>172</li>\n",
       "\t<li>174</li>\n",
       "\t<li>177</li>\n",
       "\t<li>179</li>\n",
       "\t<li>203</li>\n",
       "\t<li>203</li>\n",
       "\t<li>209</li>\n",
       "\t<li>214</li>\n",
       "</ol>\n"
      ],
      "text/latex": [
       "\\begin{enumerate*}\n",
       "\\item 30\n",
       "\\item 30\n",
       "\\item 30\n",
       "\\item 32\n",
       "\\item 33\n",
       "\\item 49\n",
       "\\item 51\n",
       "\\item 58\n",
       "\\item 62\n",
       "\\item 69\n",
       "\\item 75\n",
       "\\item 81\n",
       "\\item 87\n",
       "\\item 108\n",
       "\\item 111\n",
       "\\item 112\n",
       "\\item 115\n",
       "\\item 115\n",
       "\\item 120\n",
       "\\item 125\n",
       "\\item 139\n",
       "\\item 140\n",
       "\\item 142\n",
       "\\item 142\n",
       "\\item 145\n",
       "\\item 156\n",
       "\\item 167\n",
       "\\item 172\n",
       "\\item 174\n",
       "\\item 177\n",
       "\\item 179\n",
       "\\item 203\n",
       "\\item 203\n",
       "\\item 209\n",
       "\\item 214\n",
       "\\end{enumerate*}\n"
      ],
      "text/markdown": [
       "1. 30\n",
       "2. 30\n",
       "3. 30\n",
       "4. 32\n",
       "5. 33\n",
       "6. 49\n",
       "7. 51\n",
       "8. 58\n",
       "9. 62\n",
       "10. 69\n",
       "11. 75\n",
       "12. 81\n",
       "13. 87\n",
       "14. 108\n",
       "15. 111\n",
       "16. 112\n",
       "17. 115\n",
       "18. 115\n",
       "19. 120\n",
       "20. 125\n",
       "21. 139\n",
       "22. 140\n",
       "23. 142\n",
       "24. 142\n",
       "25. 145\n",
       "26. 156\n",
       "27. 167\n",
       "28. 172\n",
       "29. 174\n",
       "30. 177\n",
       "31. 179\n",
       "32. 203\n",
       "33. 203\n",
       "34. 209\n",
       "35. 214\n",
       "\n",
       "\n"
      ],
      "text/plain": [
       " [1]  30  30  30  32  33  49  51  58  62  69  75  81  87 108 111 112 115 115 120\n",
       "[20] 125 139 140 142 142 145 156 167 172 174 177 179 203 203 209 214"
      ]
     },
     "metadata": {},
     "output_type": "display_data"
    }
   ],
   "source": [
    "sort(Orange$circumference) # devuelve el vector ordenado de menor a mayor"
   ]
  },
  {
   "cell_type": "code",
   "execution_count": 34,
   "metadata": {},
   "outputs": [
    {
     "data": {
      "text/html": [
       "<ol class=list-inline>\n",
       "\t<li>1</li>\n",
       "\t<li>15</li>\n",
       "\t<li>29</li>\n",
       "\t<li>22</li>\n",
       "\t<li>8</li>\n",
       "\t<li>30</li>\n",
       "\t<li>16</li>\n",
       "\t<li>2</li>\n",
       "\t<li>23</li>\n",
       "\t<li>9</li>\n",
       "\t<li>17</li>\n",
       "\t<li>31</li>\n",
       "\t<li>3</li>\n",
       "\t<li>18</li>\n",
       "\t<li>10</li>\n",
       "\t<li>24</li>\n",
       "\t<li>4</li>\n",
       "\t<li>19</li>\n",
       "\t<li>5</li>\n",
       "\t<li>32</li>\n",
       "\t<li>20</li>\n",
       "\t<li>21</li>\n",
       "\t<li>6</li>\n",
       "\t<li>33</li>\n",
       "\t<li>7</li>\n",
       "\t<li>11</li>\n",
       "\t<li>25</li>\n",
       "\t<li>12</li>\n",
       "\t<li>34</li>\n",
       "\t<li>35</li>\n",
       "\t<li>26</li>\n",
       "\t<li>13</li>\n",
       "\t<li>14</li>\n",
       "\t<li>27</li>\n",
       "\t<li>28</li>\n",
       "</ol>\n"
      ],
      "text/latex": [
       "\\begin{enumerate*}\n",
       "\\item 1\n",
       "\\item 15\n",
       "\\item 29\n",
       "\\item 22\n",
       "\\item 8\n",
       "\\item 30\n",
       "\\item 16\n",
       "\\item 2\n",
       "\\item 23\n",
       "\\item 9\n",
       "\\item 17\n",
       "\\item 31\n",
       "\\item 3\n",
       "\\item 18\n",
       "\\item 10\n",
       "\\item 24\n",
       "\\item 4\n",
       "\\item 19\n",
       "\\item 5\n",
       "\\item 32\n",
       "\\item 20\n",
       "\\item 21\n",
       "\\item 6\n",
       "\\item 33\n",
       "\\item 7\n",
       "\\item 11\n",
       "\\item 25\n",
       "\\item 12\n",
       "\\item 34\n",
       "\\item 35\n",
       "\\item 26\n",
       "\\item 13\n",
       "\\item 14\n",
       "\\item 27\n",
       "\\item 28\n",
       "\\end{enumerate*}\n"
      ],
      "text/markdown": [
       "1. 1\n",
       "2. 15\n",
       "3. 29\n",
       "4. 22\n",
       "5. 8\n",
       "6. 30\n",
       "7. 16\n",
       "8. 2\n",
       "9. 23\n",
       "10. 9\n",
       "11. 17\n",
       "12. 31\n",
       "13. 3\n",
       "14. 18\n",
       "15. 10\n",
       "16. 24\n",
       "17. 4\n",
       "18. 19\n",
       "19. 5\n",
       "20. 32\n",
       "21. 20\n",
       "22. 21\n",
       "23. 6\n",
       "24. 33\n",
       "25. 7\n",
       "26. 11\n",
       "27. 25\n",
       "28. 12\n",
       "29. 34\n",
       "30. 35\n",
       "31. 26\n",
       "32. 13\n",
       "33. 14\n",
       "34. 27\n",
       "35. 28\n",
       "\n",
       "\n"
      ],
      "text/plain": [
       " [1]  1 15 29 22  8 30 16  2 23  9 17 31  3 18 10 24  4 19  5 32 20 21  6 33  7\n",
       "[26] 11 25 12 34 35 26 13 14 27 28"
      ]
     },
     "metadata": {},
     "output_type": "display_data"
    }
   ],
   "source": [
    "order(Orange$circumference) # devuelve el indice que pondría el vector en orden (utilizando sort)"
   ]
  },
  {
   "cell_type": "code",
   "execution_count": 36,
   "metadata": {
    "scrolled": true
   },
   "outputs": [
    {
     "data": {
      "text/html": [
       "<ol class=list-inline>\n",
       "\t<li>30</li>\n",
       "\t<li>30</li>\n",
       "\t<li>30</li>\n",
       "\t<li>32</li>\n",
       "\t<li>33</li>\n",
       "\t<li>49</li>\n",
       "\t<li>51</li>\n",
       "\t<li>58</li>\n",
       "\t<li>62</li>\n",
       "\t<li>69</li>\n",
       "\t<li>75</li>\n",
       "\t<li>81</li>\n",
       "\t<li>87</li>\n",
       "\t<li>108</li>\n",
       "\t<li>111</li>\n",
       "\t<li>112</li>\n",
       "\t<li>115</li>\n",
       "\t<li>115</li>\n",
       "\t<li>120</li>\n",
       "\t<li>125</li>\n",
       "\t<li>139</li>\n",
       "\t<li>140</li>\n",
       "\t<li>142</li>\n",
       "\t<li>142</li>\n",
       "\t<li>145</li>\n",
       "\t<li>156</li>\n",
       "\t<li>167</li>\n",
       "\t<li>172</li>\n",
       "\t<li>174</li>\n",
       "\t<li>177</li>\n",
       "\t<li>179</li>\n",
       "\t<li>203</li>\n",
       "\t<li>203</li>\n",
       "\t<li>209</li>\n",
       "\t<li>214</li>\n",
       "</ol>\n"
      ],
      "text/latex": [
       "\\begin{enumerate*}\n",
       "\\item 30\n",
       "\\item 30\n",
       "\\item 30\n",
       "\\item 32\n",
       "\\item 33\n",
       "\\item 49\n",
       "\\item 51\n",
       "\\item 58\n",
       "\\item 62\n",
       "\\item 69\n",
       "\\item 75\n",
       "\\item 81\n",
       "\\item 87\n",
       "\\item 108\n",
       "\\item 111\n",
       "\\item 112\n",
       "\\item 115\n",
       "\\item 115\n",
       "\\item 120\n",
       "\\item 125\n",
       "\\item 139\n",
       "\\item 140\n",
       "\\item 142\n",
       "\\item 142\n",
       "\\item 145\n",
       "\\item 156\n",
       "\\item 167\n",
       "\\item 172\n",
       "\\item 174\n",
       "\\item 177\n",
       "\\item 179\n",
       "\\item 203\n",
       "\\item 203\n",
       "\\item 209\n",
       "\\item 214\n",
       "\\end{enumerate*}\n"
      ],
      "text/markdown": [
       "1. 30\n",
       "2. 30\n",
       "3. 30\n",
       "4. 32\n",
       "5. 33\n",
       "6. 49\n",
       "7. 51\n",
       "8. 58\n",
       "9. 62\n",
       "10. 69\n",
       "11. 75\n",
       "12. 81\n",
       "13. 87\n",
       "14. 108\n",
       "15. 111\n",
       "16. 112\n",
       "17. 115\n",
       "18. 115\n",
       "19. 120\n",
       "20. 125\n",
       "21. 139\n",
       "22. 140\n",
       "23. 142\n",
       "24. 142\n",
       "25. 145\n",
       "26. 156\n",
       "27. 167\n",
       "28. 172\n",
       "29. 174\n",
       "30. 177\n",
       "31. 179\n",
       "32. 203\n",
       "33. 203\n",
       "34. 209\n",
       "35. 214\n",
       "\n",
       "\n"
      ],
      "text/plain": [
       " [1]  30  30  30  32  33  49  51  58  62  69  75  81  87 108 111 112 115 115 120\n",
       "[20] 125 139 140 142 142 145 156 167 172 174 177 179 203 203 209 214"
      ]
     },
     "metadata": {},
     "output_type": "display_data"
    }
   ],
   "source": [
    "index <- order(Orange$circumference)\n",
    "x <- Orange$circumference\n",
    "x[index]"
   ]
  },
  {
   "cell_type": "markdown",
   "metadata": {},
   "source": [
    "Esto no permite ordenar un vector según el indice de otro."
   ]
  },
  {
   "cell_type": "code",
   "execution_count": 4,
   "metadata": {},
   "outputs": [
    {
     "data": {
      "text/html": [
       "<ol class=list-inline>\n",
       "\t<li>118</li>\n",
       "\t<li>118</li>\n",
       "\t<li>118</li>\n",
       "\t<li>118</li>\n",
       "\t<li>118</li>\n",
       "\t<li>484</li>\n",
       "\t<li>484</li>\n",
       "\t<li>484</li>\n",
       "\t<li>484</li>\n",
       "\t<li>484</li>\n",
       "\t<li>664</li>\n",
       "\t<li>664</li>\n",
       "\t<li>664</li>\n",
       "\t<li>1004</li>\n",
       "\t<li>664</li>\n",
       "\t<li>664</li>\n",
       "\t<li>1004</li>\n",
       "\t<li>1231</li>\n",
       "\t<li>1231</li>\n",
       "\t<li>1004</li>\n",
       "\t<li>1372</li>\n",
       "\t<li>1582</li>\n",
       "\t<li>1372</li>\n",
       "\t<li>1231</li>\n",
       "\t<li>1582</li>\n",
       "\t<li>1004</li>\n",
       "\t<li>1004</li>\n",
       "\t<li>1231</li>\n",
       "\t<li>1372</li>\n",
       "\t<li>1582</li>\n",
       "\t<li>1231</li>\n",
       "\t<li>1372</li>\n",
       "\t<li>1582</li>\n",
       "\t<li>1372</li>\n",
       "\t<li>1582</li>\n",
       "</ol>\n"
      ],
      "text/latex": [
       "\\begin{enumerate*}\n",
       "\\item 118\n",
       "\\item 118\n",
       "\\item 118\n",
       "\\item 118\n",
       "\\item 118\n",
       "\\item 484\n",
       "\\item 484\n",
       "\\item 484\n",
       "\\item 484\n",
       "\\item 484\n",
       "\\item 664\n",
       "\\item 664\n",
       "\\item 664\n",
       "\\item 1004\n",
       "\\item 664\n",
       "\\item 664\n",
       "\\item 1004\n",
       "\\item 1231\n",
       "\\item 1231\n",
       "\\item 1004\n",
       "\\item 1372\n",
       "\\item 1582\n",
       "\\item 1372\n",
       "\\item 1231\n",
       "\\item 1582\n",
       "\\item 1004\n",
       "\\item 1004\n",
       "\\item 1231\n",
       "\\item 1372\n",
       "\\item 1582\n",
       "\\item 1231\n",
       "\\item 1372\n",
       "\\item 1582\n",
       "\\item 1372\n",
       "\\item 1582\n",
       "\\end{enumerate*}\n"
      ],
      "text/markdown": [
       "1. 118\n",
       "2. 118\n",
       "3. 118\n",
       "4. 118\n",
       "5. 118\n",
       "6. 484\n",
       "7. 484\n",
       "8. 484\n",
       "9. 484\n",
       "10. 484\n",
       "11. 664\n",
       "12. 664\n",
       "13. 664\n",
       "14. 1004\n",
       "15. 664\n",
       "16. 664\n",
       "17. 1004\n",
       "18. 1231\n",
       "19. 1231\n",
       "20. 1004\n",
       "21. 1372\n",
       "22. 1582\n",
       "23. 1372\n",
       "24. 1231\n",
       "25. 1582\n",
       "26. 1004\n",
       "27. 1004\n",
       "28. 1231\n",
       "29. 1372\n",
       "30. 1582\n",
       "31. 1231\n",
       "32. 1372\n",
       "33. 1582\n",
       "34. 1372\n",
       "35. 1582\n",
       "\n",
       "\n"
      ],
      "text/plain": [
       " [1]  118  118  118  118  118  484  484  484  484  484  664  664  664 1004  664\n",
       "[16]  664 1004 1231 1231 1004 1372 1582 1372 1231 1582 1004 1004 1231 1372 1582\n",
       "[31] 1231 1372 1582 1372 1582"
      ]
     },
     "metadata": {},
     "output_type": "display_data"
    }
   ],
   "source": [
    "index <- order (Orange$circumference)\n",
    "Orange$age[index]"
   ]
  },
  {
   "cell_type": "markdown",
   "metadata": {},
   "source": [
    "**max** y **which.max** nos dan el máximo valor de un vector y su indice. **min** y **which.min** el m enor"
   ]
  },
  {
   "cell_type": "code",
   "execution_count": 8,
   "metadata": {},
   "outputs": [
    {
     "data": {
      "text/html": [
       "214"
      ],
      "text/latex": [
       "214"
      ],
      "text/markdown": [
       "214"
      ],
      "text/plain": [
       "[1] 214"
      ]
     },
     "metadata": {},
     "output_type": "display_data"
    },
    {
     "data": {
      "text/html": [
       "1582"
      ],
      "text/latex": [
       "1582"
      ],
      "text/markdown": [
       "1582"
      ],
      "text/plain": [
       "[1] 1582"
      ]
     },
     "metadata": {},
     "output_type": "display_data"
    }
   ],
   "source": [
    "max(Orange$circumference)\n",
    "i_max <- which.max(Orange$circumference)\n",
    "Orange$age[i_max]"
   ]
  },
  {
   "cell_type": "code",
   "execution_count": 9,
   "metadata": {},
   "outputs": [
    {
     "data": {
      "text/html": [
       "30"
      ],
      "text/latex": [
       "30"
      ],
      "text/markdown": [
       "30"
      ],
      "text/plain": [
       "[1] 30"
      ]
     },
     "metadata": {},
     "output_type": "display_data"
    },
    {
     "data": {
      "text/html": [
       "118"
      ],
      "text/latex": [
       "118"
      ],
      "text/markdown": [
       "118"
      ],
      "text/plain": [
       "[1] 118"
      ]
     },
     "metadata": {},
     "output_type": "display_data"
    }
   ],
   "source": [
    "min(Orange$circumference)\n",
    "i_min <- which.min(Orange$circumference)\n",
    "Orange$age[i_min]"
   ]
  },
  {
   "cell_type": "markdown",
   "metadata": {},
   "source": [
    "**rank** nos devuelve un vector con los indices"
   ]
  },
  {
   "cell_type": "code",
   "execution_count": 2,
   "metadata": {},
   "outputs": [
    {
     "data": {
      "text/html": [
       "<ol class=list-inline>\n",
       "\t<li>3</li>\n",
       "\t<li>1</li>\n",
       "\t<li>2</li>\n",
       "\t<li>5</li>\n",
       "\t<li>4</li>\n",
       "</ol>\n"
      ],
      "text/latex": [
       "\\begin{enumerate*}\n",
       "\\item 3\n",
       "\\item 1\n",
       "\\item 2\n",
       "\\item 5\n",
       "\\item 4\n",
       "\\end{enumerate*}\n"
      ],
      "text/markdown": [
       "1. 3\n",
       "2. 1\n",
       "3. 2\n",
       "4. 5\n",
       "5. 4\n",
       "\n",
       "\n"
      ],
      "text/plain": [
       "[1] 3 1 2 5 4"
      ]
     },
     "metadata": {},
     "output_type": "display_data"
    },
    {
     "data": {
      "text/html": [
       "<ol class=list-inline>\n",
       "\t<li>3</li>\n",
       "\t<li>5</li>\n",
       "\t<li>4</li>\n",
       "\t<li>1</li>\n",
       "\t<li>2</li>\n",
       "</ol>\n"
      ],
      "text/latex": [
       "\\begin{enumerate*}\n",
       "\\item 3\n",
       "\\item 5\n",
       "\\item 4\n",
       "\\item 1\n",
       "\\item 2\n",
       "\\end{enumerate*}\n"
      ],
      "text/markdown": [
       "1. 3\n",
       "2. 5\n",
       "3. 4\n",
       "4. 1\n",
       "5. 2\n",
       "\n",
       "\n"
      ],
      "text/plain": [
       "[1] 3 5 4 1 2"
      ]
     },
     "metadata": {},
     "output_type": "display_data"
    }
   ],
   "source": [
    "x <- c (31, 4, 15, 92, 65)\n",
    "rank (x) # devuelve un vector con los indices que ordenarían el vector de menor a mayor.\n",
    "rank (-x) # igual pero ordenado de mayor a menor"
   ]
  },
  {
   "cell_type": "code",
   "execution_count": null,
   "metadata": {
    "collapsed": true
   },
   "outputs": [],
   "source": []
  },
  {
   "cell_type": "markdown",
   "metadata": {},
   "source": [
    "Resumiendo:"
   ]
  },
  {
   "cell_type": "code",
   "execution_count": 14,
   "metadata": {
    "scrolled": true
   },
   "outputs": [
    {
     "data": {
      "text/html": [
       "<ol class=list-inline>\n",
       "\t<li>31</li>\n",
       "\t<li>4</li>\n",
       "\t<li>15</li>\n",
       "\t<li>92</li>\n",
       "\t<li>65</li>\n",
       "</ol>\n"
      ],
      "text/latex": [
       "\\begin{enumerate*}\n",
       "\\item 31\n",
       "\\item 4\n",
       "\\item 15\n",
       "\\item 92\n",
       "\\item 65\n",
       "\\end{enumerate*}\n"
      ],
      "text/markdown": [
       "1. 31\n",
       "2. 4\n",
       "3. 15\n",
       "4. 92\n",
       "5. 65\n",
       "\n",
       "\n"
      ],
      "text/plain": [
       "[1] 31  4 15 92 65"
      ]
     },
     "metadata": {},
     "output_type": "display_data"
    },
    {
     "data": {
      "text/html": [
       "<ol class=list-inline>\n",
       "\t<li>4</li>\n",
       "\t<li>15</li>\n",
       "\t<li>31</li>\n",
       "\t<li>65</li>\n",
       "\t<li>92</li>\n",
       "</ol>\n"
      ],
      "text/latex": [
       "\\begin{enumerate*}\n",
       "\\item 4\n",
       "\\item 15\n",
       "\\item 31\n",
       "\\item 65\n",
       "\\item 92\n",
       "\\end{enumerate*}\n"
      ],
      "text/markdown": [
       "1. 4\n",
       "2. 15\n",
       "3. 31\n",
       "4. 65\n",
       "5. 92\n",
       "\n",
       "\n"
      ],
      "text/plain": [
       "[1]  4 15 31 65 92"
      ]
     },
     "metadata": {},
     "output_type": "display_data"
    },
    {
     "data": {
      "text/html": [
       "<ol class=list-inline>\n",
       "\t<li>2</li>\n",
       "\t<li>3</li>\n",
       "\t<li>1</li>\n",
       "\t<li>5</li>\n",
       "\t<li>4</li>\n",
       "</ol>\n"
      ],
      "text/latex": [
       "\\begin{enumerate*}\n",
       "\\item 2\n",
       "\\item 3\n",
       "\\item 1\n",
       "\\item 5\n",
       "\\item 4\n",
       "\\end{enumerate*}\n"
      ],
      "text/markdown": [
       "1. 2\n",
       "2. 3\n",
       "3. 1\n",
       "4. 5\n",
       "5. 4\n",
       "\n",
       "\n"
      ],
      "text/plain": [
       "[1] 2 3 1 5 4"
      ]
     },
     "metadata": {},
     "output_type": "display_data"
    },
    {
     "data": {
      "text/html": [
       "<ol class=list-inline>\n",
       "\t<li>3</li>\n",
       "\t<li>1</li>\n",
       "\t<li>2</li>\n",
       "\t<li>5</li>\n",
       "\t<li>4</li>\n",
       "</ol>\n"
      ],
      "text/latex": [
       "\\begin{enumerate*}\n",
       "\\item 3\n",
       "\\item 1\n",
       "\\item 2\n",
       "\\item 5\n",
       "\\item 4\n",
       "\\end{enumerate*}\n"
      ],
      "text/markdown": [
       "1. 3\n",
       "2. 1\n",
       "3. 2\n",
       "4. 5\n",
       "5. 4\n",
       "\n",
       "\n"
      ],
      "text/plain": [
       "[1] 3 1 2 5 4"
      ]
     },
     "metadata": {},
     "output_type": "display_data"
    }
   ],
   "source": [
    "x\n",
    "sort(x)# ordena el vector\n",
    "order(x) # indices para ordenar el vector original\n",
    "rank(x) # posición que ocuparían los valores si el vector estuviera ordenado"
   ]
  },
  {
   "cell_type": "markdown",
   "metadata": {},
   "source": [
    "## Aritmética de vectores ##"
   ]
  },
  {
   "cell_type": "markdown",
   "metadata": {},
   "source": [
    "Las operaciones aritméticas entre vectores se producen elemento por elemento"
   ]
  },
  {
   "cell_type": "code",
   "execution_count": 3,
   "metadata": {},
   "outputs": [
    {
     "data": {
      "text/html": [
       "<ol class=list-inline>\n",
       "\t<li>27.94</li>\n",
       "\t<li>35.56</li>\n",
       "\t<li>39.116</li>\n",
       "\t<li>43.18</li>\n",
       "\t<li>48.26</li>\n",
       "\t<li>53.34</li>\n",
       "\t<li>60.96</li>\n",
       "\t<li>101.6</li>\n",
       "</ol>\n"
      ],
      "text/latex": [
       "\\begin{enumerate*}\n",
       "\\item 27.94\n",
       "\\item 35.56\n",
       "\\item 39.116\n",
       "\\item 43.18\n",
       "\\item 48.26\n",
       "\\item 53.34\n",
       "\\item 60.96\n",
       "\\item 101.6\n",
       "\\end{enumerate*}\n"
      ],
      "text/markdown": [
       "1. 27.94\n",
       "2. 35.56\n",
       "3. 39.116\n",
       "4. 43.18\n",
       "5. 48.26\n",
       "6. 53.34\n",
       "7. 60.96\n",
       "8. 101.6\n",
       "\n",
       "\n"
      ],
      "text/plain": [
       "[1]  27.940  35.560  39.116  43.180  48.260  53.340  60.960 101.600"
      ]
     },
     "metadata": {},
     "output_type": "display_data"
    }
   ],
   "source": [
    "inches <- c(11, 14, 15.4, 17, 19, 21, 24, 40)\n",
    "cm = inches*2.54 # multiplica cada elemento del vector por 2.54\n",
    "cm"
   ]
  },
  {
   "cell_type": "code",
   "execution_count": 13,
   "metadata": {},
   "outputs": [
    {
     "data": {
      "text/html": [
       "<ol class=list-inline>\n",
       "\t<li>91.9486752280507</li>\n",
       "\t<li>100.955108799148</li>\n",
       "\t<li>269.480316899963</li>\n",
       "\t<li>231.918481214043</li>\n",
       "\t<li>200.853776465122</li>\n",
       "</ol>\n"
      ],
      "text/latex": [
       "\\begin{enumerate*}\n",
       "\\item 91.9486752280507\n",
       "\\item 100.955108799148\n",
       "\\item 269.480316899963\n",
       "\\item 231.918481214043\n",
       "\\item 200.853776465122\n",
       "\\end{enumerate*}\n"
      ],
      "text/markdown": [
       "1. 91.9486752280507\n",
       "2. 100.955108799148\n",
       "3. 269.480316899963\n",
       "4. 231.918481214043\n",
       "5. 200.853776465122\n",
       "\n",
       "\n"
      ],
      "text/plain": [
       "[1]  91.94868 100.95511 269.48032 231.91848 200.85378"
      ]
     },
     "metadata": {},
     "output_type": "display_data"
    }
   ],
   "source": [
    "pais <- c('España', 'Francia', 'UK', 'Alemania', 'Italia')\n",
    "sup <- c(505370, 643801, 243610, 357022, 301340) # fuente wikipedia; en km2\n",
    "hab <- c(46468102, 64995000, 65648100, 82800000, 60525277) # fuente wikipedia; censo 2016-2017\n",
    "datos_pais <- data.frame(nombre=pais, superficie=sup, habitantes=hab)\n",
    "datos_pais$habitantes/datos_pais$superficie # densidad de población en habitantes por km2"
   ]
  },
  {
   "cell_type": "code",
   "execution_count": 14,
   "metadata": {},
   "outputs": [
    {
     "data": {
      "text/html": [
       "1.63498390018489"
      ],
      "text/latex": [
       "1.63498390018489"
      ],
      "text/markdown": [
       "1.63498390018489"
      ],
      "text/plain": [
       "[1] 1.634984"
      ]
     },
     "metadata": {},
     "output_type": "display_data"
    }
   ],
   "source": [
    "x <- seq(1:100)\n",
    "sum(1/x^2) # suma de euler; resultado es aproximadamente pi^2/6"
   ]
  }
 ],
 "metadata": {
  "kernelspec": {
   "display_name": "R",
   "language": "R",
   "name": "ir"
  },
  "language_info": {
   "codemirror_mode": "r",
   "file_extension": ".r",
   "mimetype": "text/x-r-source",
   "name": "R",
   "pygments_lexer": "r",
   "version": "3.4.2"
  }
 },
 "nbformat": 4,
 "nbformat_minor": 2
}
