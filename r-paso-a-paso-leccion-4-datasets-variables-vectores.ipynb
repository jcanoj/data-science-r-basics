{
 "cells": [
  {
   "cell_type": "markdown",
   "metadata": {},
   "source": [
    "# Datasets#"
   ]
  },
  {
   "cell_type": "markdown",
   "metadata": {},
   "source": [
    "Los dataframes son objetos donde guardamos datos tabulados. Conceptualmente un dataset es una tabla que contiene una serie de observaciones en filas. Cada fila es un **vector**. Las columnas se llaman **variables**. R contiene varios datasets de ejemplo que podemos listar mediante la función **data()**. A diferencia de las matrices, los dataframes pueden contener objetos de distinto tipo."
   ]
  },
  {
   "cell_type": "code",
   "execution_count": 1,
   "metadata": {},
   "outputs": [],
   "source": [
    "data() #salida en terminal"
   ]
  },
  {
   "cell_type": "markdown",
   "metadata": {},
   "source": [
    "**head** y **tails** nos muestran los primeros y últimos registros en un dataset"
   ]
  },
  {
   "cell_type": "code",
   "execution_count": 10,
   "metadata": {},
   "outputs": [
    {
     "data": {
      "text/html": [
       "<table>\n",
       "<thead><tr><th scope=col>Plant</th><th scope=col>Type</th><th scope=col>Treatment</th><th scope=col>conc</th><th scope=col>uptake</th></tr></thead>\n",
       "<tbody>\n",
       "\t<tr><td>Qn1       </td><td>Quebec    </td><td>nonchilled</td><td> 95       </td><td>16.0      </td></tr>\n",
       "\t<tr><td>Qn1       </td><td>Quebec    </td><td>nonchilled</td><td>175       </td><td>30.4      </td></tr>\n",
       "\t<tr><td>Qn1       </td><td>Quebec    </td><td>nonchilled</td><td>250       </td><td>34.8      </td></tr>\n",
       "\t<tr><td>Qn1       </td><td>Quebec    </td><td>nonchilled</td><td>350       </td><td>37.2      </td></tr>\n",
       "\t<tr><td>Qn1       </td><td>Quebec    </td><td>nonchilled</td><td>500       </td><td>35.3      </td></tr>\n",
       "\t<tr><td>Qn1       </td><td>Quebec    </td><td>nonchilled</td><td>675       </td><td>39.2      </td></tr>\n",
       "</tbody>\n",
       "</table>\n"
      ],
      "text/latex": [
       "\\begin{tabular}{r|lllll}\n",
       " Plant & Type & Treatment & conc & uptake\\\\\n",
       "\\hline\n",
       "\t Qn1        & Quebec     & nonchilled &  95        & 16.0      \\\\\n",
       "\t Qn1        & Quebec     & nonchilled & 175        & 30.4      \\\\\n",
       "\t Qn1        & Quebec     & nonchilled & 250        & 34.8      \\\\\n",
       "\t Qn1        & Quebec     & nonchilled & 350        & 37.2      \\\\\n",
       "\t Qn1        & Quebec     & nonchilled & 500        & 35.3      \\\\\n",
       "\t Qn1        & Quebec     & nonchilled & 675        & 39.2      \\\\\n",
       "\\end{tabular}\n"
      ],
      "text/markdown": [
       "\n",
       "Plant | Type | Treatment | conc | uptake | \n",
       "|---|---|---|---|---|---|\n",
       "| Qn1        | Quebec     | nonchilled |  95        | 16.0       | \n",
       "| Qn1        | Quebec     | nonchilled | 175        | 30.4       | \n",
       "| Qn1        | Quebec     | nonchilled | 250        | 34.8       | \n",
       "| Qn1        | Quebec     | nonchilled | 350        | 37.2       | \n",
       "| Qn1        | Quebec     | nonchilled | 500        | 35.3       | \n",
       "| Qn1        | Quebec     | nonchilled | 675        | 39.2       | \n",
       "\n",
       "\n"
      ],
      "text/plain": [
       "  Plant Type   Treatment  conc uptake\n",
       "1 Qn1   Quebec nonchilled  95  16.0  \n",
       "2 Qn1   Quebec nonchilled 175  30.4  \n",
       "3 Qn1   Quebec nonchilled 250  34.8  \n",
       "4 Qn1   Quebec nonchilled 350  37.2  \n",
       "5 Qn1   Quebec nonchilled 500  35.3  \n",
       "6 Qn1   Quebec nonchilled 675  39.2  "
      ]
     },
     "metadata": {},
     "output_type": "display_data"
    }
   ],
   "source": [
    "head(CO2)"
   ]
  },
  {
   "cell_type": "markdown",
   "metadata": {},
   "source": [
    "Podemos cargar librerías externas con **library**. Una librería pueden ser un conjunto de funciones relacionadas o un conjunto de datasets. **dslabs** es una librería utilizada en el curso. Esta librería tiene un dataset llamado **murders** con datos sobre homicidios en los Estados Unidos. El comando **str** (abreviatura de **structure**) nos muestra el número de observaciones y las variables de este dataset."
   ]
  },
  {
   "cell_type": "code",
   "execution_count": 3,
   "metadata": {},
   "outputs": [],
   "source": [
    "library(dslabs)"
   ]
  },
  {
   "cell_type": "code",
   "execution_count": 4,
   "metadata": {
    "scrolled": true
   },
   "outputs": [
    {
     "data": {
      "text/html": [
       "<table>\n",
       "<thead><tr><th scope=col>state</th><th scope=col>abb</th><th scope=col>region</th><th scope=col>population</th><th scope=col>total</th></tr></thead>\n",
       "<tbody>\n",
       "\t<tr><td>Alabama   </td><td>AL        </td><td>South     </td><td> 4779736  </td><td> 135      </td></tr>\n",
       "\t<tr><td>Alaska    </td><td>AK        </td><td>West      </td><td>  710231  </td><td>  19      </td></tr>\n",
       "\t<tr><td>Arizona   </td><td>AZ        </td><td>West      </td><td> 6392017  </td><td> 232      </td></tr>\n",
       "\t<tr><td>Arkansas  </td><td>AR        </td><td>South     </td><td> 2915918  </td><td>  93      </td></tr>\n",
       "\t<tr><td>California</td><td>CA        </td><td>West      </td><td>37253956  </td><td>1257      </td></tr>\n",
       "\t<tr><td>Colorado  </td><td>CO        </td><td>West      </td><td> 5029196  </td><td>  65      </td></tr>\n",
       "</tbody>\n",
       "</table>\n"
      ],
      "text/latex": [
       "\\begin{tabular}{r|lllll}\n",
       " state & abb & region & population & total\\\\\n",
       "\\hline\n",
       "\t Alabama    & AL         & South      &  4779736   &  135      \\\\\n",
       "\t Alaska     & AK         & West       &   710231   &   19      \\\\\n",
       "\t Arizona    & AZ         & West       &  6392017   &  232      \\\\\n",
       "\t Arkansas   & AR         & South      &  2915918   &   93      \\\\\n",
       "\t California & CA         & West       & 37253956   & 1257      \\\\\n",
       "\t Colorado   & CO         & West       &  5029196   &   65      \\\\\n",
       "\\end{tabular}\n"
      ],
      "text/markdown": [
       "\n",
       "state | abb | region | population | total | \n",
       "|---|---|---|---|---|---|\n",
       "| Alabama    | AL         | South      |  4779736   |  135       | \n",
       "| Alaska     | AK         | West       |   710231   |   19       | \n",
       "| Arizona    | AZ         | West       |  6392017   |  232       | \n",
       "| Arkansas   | AR         | South      |  2915918   |   93       | \n",
       "| California | CA         | West       | 37253956   | 1257       | \n",
       "| Colorado   | CO         | West       |  5029196   |   65       | \n",
       "\n",
       "\n"
      ],
      "text/plain": [
       "  state      abb region population total\n",
       "1 Alabama    AL  South   4779736    135 \n",
       "2 Alaska     AK  West     710231     19 \n",
       "3 Arizona    AZ  West    6392017    232 \n",
       "4 Arkansas   AR  South   2915918     93 \n",
       "5 California CA  West   37253956   1257 \n",
       "6 Colorado   CO  West    5029196     65 "
      ]
     },
     "metadata": {},
     "output_type": "display_data"
    }
   ],
   "source": [
    "head(murders)"
   ]
  },
  {
   "cell_type": "code",
   "execution_count": 6,
   "metadata": {
    "scrolled": true
   },
   "outputs": [
    {
     "name": "stdout",
     "output_type": "stream",
     "text": [
      "'data.frame':\t51 obs. of  5 variables:\n",
      " $ state     : chr  \"Alabama\" \"Alaska\" \"Arizona\" \"Arkansas\" ...\n",
      " $ abb       : chr  \"AL\" \"AK\" \"AZ\" \"AR\" ...\n",
      " $ region    : Factor w/ 4 levels \"Northeast\",\"South\",..: 2 4 4 2 4 4 1 2 2 2 ...\n",
      " $ population: num  4779736 710231 6392017 2915918 37253956 ...\n",
      " $ total     : num  135 19 232 93 1257 ...\n"
     ]
    }
   ],
   "source": [
    "str(murders)"
   ]
  },
  {
   "cell_type": "markdown",
   "metadata": {},
   "source": [
    "También podemos acceder a los nombres de las variables con la palabra clave **names**"
   ]
  },
  {
   "cell_type": "code",
   "execution_count": 7,
   "metadata": {},
   "outputs": [
    {
     "data": {
      "text/html": [
       "<ol class=list-inline>\n",
       "\t<li>'state'</li>\n",
       "\t<li>'abb'</li>\n",
       "\t<li>'region'</li>\n",
       "\t<li>'population'</li>\n",
       "\t<li>'total'</li>\n",
       "</ol>\n"
      ],
      "text/latex": [
       "\\begin{enumerate*}\n",
       "\\item 'state'\n",
       "\\item 'abb'\n",
       "\\item 'region'\n",
       "\\item 'population'\n",
       "\\item 'total'\n",
       "\\end{enumerate*}\n"
      ],
      "text/markdown": [
       "1. 'state'\n",
       "2. 'abb'\n",
       "3. 'region'\n",
       "4. 'population'\n",
       "5. 'total'\n",
       "\n",
       "\n"
      ],
      "text/plain": [
       "[1] \"state\"      \"abb\"        \"region\"     \"population\" \"total\"     "
      ]
     },
     "metadata": {},
     "output_type": "display_data"
    }
   ],
   "source": [
    "names(murders)"
   ]
  },
  {
   "cell_type": "markdown",
   "metadata": {},
   "source": [
    "Accedemos a las variables usando el símbolo **$** que en R se llama **accessor**."
   ]
  },
  {
   "cell_type": "code",
   "execution_count": 8,
   "metadata": {},
   "outputs": [
    {
     "data": {
      "text/html": [
       "<ol class=list-inline>\n",
       "\t<li>'Alabama'</li>\n",
       "\t<li>'Alaska'</li>\n",
       "\t<li>'Arizona'</li>\n",
       "\t<li>'Arkansas'</li>\n",
       "\t<li>'California'</li>\n",
       "\t<li>'Colorado'</li>\n",
       "\t<li>'Connecticut'</li>\n",
       "\t<li>'Delaware'</li>\n",
       "\t<li>'District of Columbia'</li>\n",
       "\t<li>'Florida'</li>\n",
       "\t<li>'Georgia'</li>\n",
       "\t<li>'Hawaii'</li>\n",
       "\t<li>'Idaho'</li>\n",
       "\t<li>'Illinois'</li>\n",
       "\t<li>'Indiana'</li>\n",
       "\t<li>'Iowa'</li>\n",
       "\t<li>'Kansas'</li>\n",
       "\t<li>'Kentucky'</li>\n",
       "\t<li>'Louisiana'</li>\n",
       "\t<li>'Maine'</li>\n",
       "\t<li>'Maryland'</li>\n",
       "\t<li>'Massachusetts'</li>\n",
       "\t<li>'Michigan'</li>\n",
       "\t<li>'Minnesota'</li>\n",
       "\t<li>'Mississippi'</li>\n",
       "\t<li>'Missouri'</li>\n",
       "\t<li>'Montana'</li>\n",
       "\t<li>'Nebraska'</li>\n",
       "\t<li>'Nevada'</li>\n",
       "\t<li>'New Hampshire'</li>\n",
       "\t<li>'New Jersey'</li>\n",
       "\t<li>'New Mexico'</li>\n",
       "\t<li>'New York'</li>\n",
       "\t<li>'North Carolina'</li>\n",
       "\t<li>'North Dakota'</li>\n",
       "\t<li>'Ohio'</li>\n",
       "\t<li>'Oklahoma'</li>\n",
       "\t<li>'Oregon'</li>\n",
       "\t<li>'Pennsylvania'</li>\n",
       "\t<li>'Rhode Island'</li>\n",
       "\t<li>'South Carolina'</li>\n",
       "\t<li>'South Dakota'</li>\n",
       "\t<li>'Tennessee'</li>\n",
       "\t<li>'Texas'</li>\n",
       "\t<li>'Utah'</li>\n",
       "\t<li>'Vermont'</li>\n",
       "\t<li>'Virginia'</li>\n",
       "\t<li>'Washington'</li>\n",
       "\t<li>'West Virginia'</li>\n",
       "\t<li>'Wisconsin'</li>\n",
       "\t<li>'Wyoming'</li>\n",
       "</ol>\n"
      ],
      "text/latex": [
       "\\begin{enumerate*}\n",
       "\\item 'Alabama'\n",
       "\\item 'Alaska'\n",
       "\\item 'Arizona'\n",
       "\\item 'Arkansas'\n",
       "\\item 'California'\n",
       "\\item 'Colorado'\n",
       "\\item 'Connecticut'\n",
       "\\item 'Delaware'\n",
       "\\item 'District of Columbia'\n",
       "\\item 'Florida'\n",
       "\\item 'Georgia'\n",
       "\\item 'Hawaii'\n",
       "\\item 'Idaho'\n",
       "\\item 'Illinois'\n",
       "\\item 'Indiana'\n",
       "\\item 'Iowa'\n",
       "\\item 'Kansas'\n",
       "\\item 'Kentucky'\n",
       "\\item 'Louisiana'\n",
       "\\item 'Maine'\n",
       "\\item 'Maryland'\n",
       "\\item 'Massachusetts'\n",
       "\\item 'Michigan'\n",
       "\\item 'Minnesota'\n",
       "\\item 'Mississippi'\n",
       "\\item 'Missouri'\n",
       "\\item 'Montana'\n",
       "\\item 'Nebraska'\n",
       "\\item 'Nevada'\n",
       "\\item 'New Hampshire'\n",
       "\\item 'New Jersey'\n",
       "\\item 'New Mexico'\n",
       "\\item 'New York'\n",
       "\\item 'North Carolina'\n",
       "\\item 'North Dakota'\n",
       "\\item 'Ohio'\n",
       "\\item 'Oklahoma'\n",
       "\\item 'Oregon'\n",
       "\\item 'Pennsylvania'\n",
       "\\item 'Rhode Island'\n",
       "\\item 'South Carolina'\n",
       "\\item 'South Dakota'\n",
       "\\item 'Tennessee'\n",
       "\\item 'Texas'\n",
       "\\item 'Utah'\n",
       "\\item 'Vermont'\n",
       "\\item 'Virginia'\n",
       "\\item 'Washington'\n",
       "\\item 'West Virginia'\n",
       "\\item 'Wisconsin'\n",
       "\\item 'Wyoming'\n",
       "\\end{enumerate*}\n"
      ],
      "text/markdown": [
       "1. 'Alabama'\n",
       "2. 'Alaska'\n",
       "3. 'Arizona'\n",
       "4. 'Arkansas'\n",
       "5. 'California'\n",
       "6. 'Colorado'\n",
       "7. 'Connecticut'\n",
       "8. 'Delaware'\n",
       "9. 'District of Columbia'\n",
       "10. 'Florida'\n",
       "11. 'Georgia'\n",
       "12. 'Hawaii'\n",
       "13. 'Idaho'\n",
       "14. 'Illinois'\n",
       "15. 'Indiana'\n",
       "16. 'Iowa'\n",
       "17. 'Kansas'\n",
       "18. 'Kentucky'\n",
       "19. 'Louisiana'\n",
       "20. 'Maine'\n",
       "21. 'Maryland'\n",
       "22. 'Massachusetts'\n",
       "23. 'Michigan'\n",
       "24. 'Minnesota'\n",
       "25. 'Mississippi'\n",
       "26. 'Missouri'\n",
       "27. 'Montana'\n",
       "28. 'Nebraska'\n",
       "29. 'Nevada'\n",
       "30. 'New Hampshire'\n",
       "31. 'New Jersey'\n",
       "32. 'New Mexico'\n",
       "33. 'New York'\n",
       "34. 'North Carolina'\n",
       "35. 'North Dakota'\n",
       "36. 'Ohio'\n",
       "37. 'Oklahoma'\n",
       "38. 'Oregon'\n",
       "39. 'Pennsylvania'\n",
       "40. 'Rhode Island'\n",
       "41. 'South Carolina'\n",
       "42. 'South Dakota'\n",
       "43. 'Tennessee'\n",
       "44. 'Texas'\n",
       "45. 'Utah'\n",
       "46. 'Vermont'\n",
       "47. 'Virginia'\n",
       "48. 'Washington'\n",
       "49. 'West Virginia'\n",
       "50. 'Wisconsin'\n",
       "51. 'Wyoming'\n",
       "\n",
       "\n"
      ],
      "text/plain": [
       " [1] \"Alabama\"              \"Alaska\"               \"Arizona\"             \n",
       " [4] \"Arkansas\"             \"California\"           \"Colorado\"            \n",
       " [7] \"Connecticut\"          \"Delaware\"             \"District of Columbia\"\n",
       "[10] \"Florida\"              \"Georgia\"              \"Hawaii\"              \n",
       "[13] \"Idaho\"                \"Illinois\"             \"Indiana\"             \n",
       "[16] \"Iowa\"                 \"Kansas\"               \"Kentucky\"            \n",
       "[19] \"Louisiana\"            \"Maine\"                \"Maryland\"            \n",
       "[22] \"Massachusetts\"        \"Michigan\"             \"Minnesota\"           \n",
       "[25] \"Mississippi\"          \"Missouri\"             \"Montana\"             \n",
       "[28] \"Nebraska\"             \"Nevada\"               \"New Hampshire\"       \n",
       "[31] \"New Jersey\"           \"New Mexico\"           \"New York\"            \n",
       "[34] \"North Carolina\"       \"North Dakota\"         \"Ohio\"                \n",
       "[37] \"Oklahoma\"             \"Oregon\"               \"Pennsylvania\"        \n",
       "[40] \"Rhode Island\"         \"South Carolina\"       \"South Dakota\"        \n",
       "[43] \"Tennessee\"            \"Texas\"                \"Utah\"                \n",
       "[46] \"Vermont\"              \"Virginia\"             \"Washington\"          \n",
       "[49] \"West Virginia\"        \"Wisconsin\"            \"Wyoming\"             "
      ]
     },
     "metadata": {},
     "output_type": "display_data"
    }
   ],
   "source": [
    "murders$state"
   ]
  },
  {
   "cell_type": "markdown",
   "metadata": {},
   "source": [
    "El objeto devuelto usando un accessor es un **vector**"
   ]
  },
  {
   "cell_type": "code",
   "execution_count": 3,
   "metadata": {},
   "outputs": [
    {
     "data": {
      "text/html": [
       "51"
      ],
      "text/latex": [
       "51"
      ],
      "text/markdown": [
       "51"
      ],
      "text/plain": [
       "[1] 51"
      ]
     },
     "metadata": {},
     "output_type": "display_data"
    }
   ],
   "source": [
    "pop <- murders$population\n",
    "length(pop)"
   ]
  },
  {
   "cell_type": "code",
   "execution_count": 9,
   "metadata": {},
   "outputs": [
    {
     "data": {
      "text/html": [
       "'character'"
      ],
      "text/latex": [
       "'character'"
      ],
      "text/markdown": [
       "'character'"
      ],
      "text/plain": [
       "[1] \"character\""
      ]
     },
     "metadata": {},
     "output_type": "display_data"
    }
   ],
   "source": [
    "class (murders$state)"
   ]
  },
  {
   "cell_type": "code",
   "execution_count": 10,
   "metadata": {},
   "outputs": [
    {
     "data": {
      "text/html": [
       "'factor'"
      ],
      "text/latex": [
       "'factor'"
      ],
      "text/markdown": [
       "'factor'"
      ],
      "text/plain": [
       "[1] \"factor\""
      ]
     },
     "metadata": {},
     "output_type": "display_data"
    }
   ],
   "source": [
    "class (murders$region)"
   ]
  },
  {
   "cell_type": "markdown",
   "metadata": {
    "collapsed": true
   },
   "source": [
    "Los **factores** son útiles para almacenar categorías. Usando la función **levels** podemos saber el número de estas categorías. No confundir con la longitud del vector correspondiente."
   ]
  },
  {
   "cell_type": "code",
   "execution_count": 8,
   "metadata": {
    "scrolled": true
   },
   "outputs": [
    {
     "data": {
      "text/html": [
       "51"
      ],
      "text/latex": [
       "51"
      ],
      "text/markdown": [
       "51"
      ],
      "text/plain": [
       "[1] 51"
      ]
     },
     "metadata": {},
     "output_type": "display_data"
    },
    {
     "data": {
      "text/html": [
       "<ol class=list-inline>\n",
       "\t<li>'Northeast'</li>\n",
       "\t<li>'South'</li>\n",
       "\t<li>'North Central'</li>\n",
       "\t<li>'West'</li>\n",
       "</ol>\n"
      ],
      "text/latex": [
       "\\begin{enumerate*}\n",
       "\\item 'Northeast'\n",
       "\\item 'South'\n",
       "\\item 'North Central'\n",
       "\\item 'West'\n",
       "\\end{enumerate*}\n"
      ],
      "text/markdown": [
       "1. 'Northeast'\n",
       "2. 'South'\n",
       "3. 'North Central'\n",
       "4. 'West'\n",
       "\n",
       "\n"
      ],
      "text/plain": [
       "[1] \"Northeast\"     \"South\"         \"North Central\" \"West\"         "
      ]
     },
     "metadata": {},
     "output_type": "display_data"
    }
   ],
   "source": [
    "length (murders$region)\n",
    "levels(murders$region)"
   ]
  },
  {
   "cell_type": "markdown",
   "metadata": {},
   "source": [
    "Si lo que queremos es crear un vector usamos, la palabra clave **c** de **create**"
   ]
  },
  {
   "cell_type": "code",
   "execution_count": 1,
   "metadata": {
    "collapsed": true
   },
   "outputs": [],
   "source": [
    "# fuente: wikipedia\n",
    "paises <- c(\"Portugal\", \"España\", \"Francia\", \"Alemania\", \"Italia\", \"Reino Unido\")\n",
    "superficie <-c (92090, 505370, 547104, 357022, 301340, 243610 ) #en km2\n",
    "sup_fortestal <- c(31882, 18418, 16989, 11419, 9297, 3144) #en miles de hectareas; datos de 2015"
   ]
  },
  {
   "cell_type": "markdown",
   "metadata": {},
   "source": [
    "# Creando datasets #"
   ]
  },
  {
   "cell_type": "markdown",
   "metadata": {},
   "source": [
    "Podemos crear datasets de distintas formas. Por ejemplo desde un archivo csv con **read.csv()**, a partir de una talbe con **read.table()** o bien usando la función **data.frame**"
   ]
  },
  {
   "cell_type": "code",
   "execution_count": 12,
   "metadata": {},
   "outputs": [],
   "source": [
    "provincias <- read.csv('data/estadisticas_2007_provincias.csv')"
   ]
  },
  {
   "cell_type": "code",
   "execution_count": 13,
   "metadata": {},
   "outputs": [
    {
     "data": {
      "text/html": [
       "<table>\n",
       "<thead><tr><th scope=col>Provincia</th><th scope=col>Poblacion</th><th scope=col>Turismos</th><th scope=col>PIB</th></tr></thead>\n",
       "<tbody>\n",
       "\t<tr><td>Albacete</td><td> 392110 </td><td>171789  </td><td> 6521852</td></tr>\n",
       "\t<tr><td>Alicante</td><td>1825264 </td><td>901546  </td><td>34321944</td></tr>\n",
       "\t<tr><td>Almería </td><td> 646633 </td><td>304071  </td><td>13871424</td></tr>\n",
       "\t<tr><td>Álava   </td><td> 305459 </td><td>141555  </td><td>10337599</td></tr>\n",
       "\t<tr><td>Asturias</td><td>1074862 </td><td>483289  </td><td>22905655</td></tr>\n",
       "\t<tr><td>Ávila   </td><td> 168638 </td><td> 79798  </td><td> 3330749</td></tr>\n",
       "</tbody>\n",
       "</table>\n"
      ],
      "text/latex": [
       "\\begin{tabular}{r|llll}\n",
       " Provincia & Poblacion & Turismos & PIB\\\\\n",
       "\\hline\n",
       "\t Albacete &  392110  & 171789   &  6521852\\\\\n",
       "\t Alicante & 1825264  & 901546   & 34321944\\\\\n",
       "\t Almería  &  646633  & 304071   & 13871424\\\\\n",
       "\t Álava    &  305459  & 141555   & 10337599\\\\\n",
       "\t Asturias & 1074862  & 483289   & 22905655\\\\\n",
       "\t Ávila    &  168638  &  79798   &  3330749\\\\\n",
       "\\end{tabular}\n"
      ],
      "text/markdown": [
       "\n",
       "Provincia | Poblacion | Turismos | PIB | \n",
       "|---|---|---|---|---|---|\n",
       "| Albacete |  392110  | 171789   |  6521852 | \n",
       "| Alicante | 1825264  | 901546   | 34321944 | \n",
       "| Almería  |  646633  | 304071   | 13871424 | \n",
       "| Álava    |  305459  | 141555   | 10337599 | \n",
       "| Asturias | 1074862  | 483289   | 22905655 | \n",
       "| Ávila    |  168638  |  79798   |  3330749 | \n",
       "\n",
       "\n"
      ],
      "text/plain": [
       "  Provincia Poblacion Turismos PIB     \n",
       "1 Albacete   392110   171789    6521852\n",
       "2 Alicante  1825264   901546   34321944\n",
       "3 Almería    646633   304071   13871424\n",
       "4 Álava      305459   141555   10337599\n",
       "5 Asturias  1074862   483289   22905655\n",
       "6 Ávila      168638    79798    3330749"
      ]
     },
     "metadata": {},
     "output_type": "display_data"
    }
   ],
   "source": [
    "head(provincias)"
   ]
  },
  {
   "cell_type": "code",
   "execution_count": 14,
   "metadata": {},
   "outputs": [
    {
     "name": "stdout",
     "output_type": "stream",
     "text": [
      "'data.frame':\t52 obs. of  4 variables:\n",
      " $ Provincia: Factor w/ 52 levels \"A Coruña\",\"Álava\",..: 3 4 5 2 6 7 8 26 9 10 ...\n",
      " $ Poblacion: int  392110 1825264 646633 305459 1074862 168638 678459 1030650 5332513 1141457 ...\n",
      " $ Turismos : int  171789 901546 304071 141555 483289 79798 319349 645216 2396656 488454 ...\n",
      " $ PIB      : int  6521852 34321944 13871424 10337599 22905655 3330749 10702067 26130320 146368312 33027203 ...\n"
     ]
    }
   ],
   "source": [
    "str(provincias)"
   ]
  },
  {
   "cell_type": "code",
   "execution_count": 1,
   "metadata": {
    "scrolled": true
   },
   "outputs": [
    {
     "data": {
      "text/html": [
       "<table>\n",
       "<thead><tr><th scope=col>name</th><th scope=col>time</th><th scope=col>year</th></tr></thead>\n",
       "<tbody>\n",
       "\t<tr><td>Usain Bolt    </td><td>9.58          </td><td>2009          </td></tr>\n",
       "\t<tr><td>Usain Bolt    </td><td>9.69          </td><td>2008          </td></tr>\n",
       "\t<tr><td>Asafa Powel   </td><td>9.74          </td><td>2007          </td></tr>\n",
       "\t<tr><td>Asafa Powel   </td><td>9.77          </td><td>2005          </td></tr>\n",
       "\t<tr><td>Maurice Greene</td><td>9.79          </td><td>1999          </td></tr>\n",
       "\t<tr><td>Donovan Bailey</td><td>9.84          </td><td>1996          </td></tr>\n",
       "</tbody>\n",
       "</table>\n"
      ],
      "text/latex": [
       "\\begin{tabular}{r|lll}\n",
       " name & time & year\\\\\n",
       "\\hline\n",
       "\t Usain Bolt     & 9.58           & 2009          \\\\\n",
       "\t Usain Bolt     & 9.69           & 2008          \\\\\n",
       "\t Asafa Powel    & 9.74           & 2007          \\\\\n",
       "\t Asafa Powel    & 9.77           & 2005          \\\\\n",
       "\t Maurice Greene & 9.79           & 1999          \\\\\n",
       "\t Donovan Bailey & 9.84           & 1996          \\\\\n",
       "\\end{tabular}\n"
      ],
      "text/markdown": [
       "\n",
       "name | time | year | \n",
       "|---|---|---|---|---|---|\n",
       "| Usain Bolt     | 9.58           | 2009           | \n",
       "| Usain Bolt     | 9.69           | 2008           | \n",
       "| Asafa Powel    | 9.74           | 2007           | \n",
       "| Asafa Powel    | 9.77           | 2005           | \n",
       "| Maurice Greene | 9.79           | 1999           | \n",
       "| Donovan Bailey | 9.84           | 1996           | \n",
       "\n",
       "\n"
      ],
      "text/plain": [
       "  name           time year\n",
       "1 Usain Bolt     9.58 2009\n",
       "2 Usain Bolt     9.69 2008\n",
       "3 Asafa Powel    9.74 2007\n",
       "4 Asafa Powel    9.77 2005\n",
       "5 Maurice Greene 9.79 1999\n",
       "6 Donovan Bailey 9.84 1996"
      ]
     },
     "metadata": {},
     "output_type": "display_data"
    }
   ],
   "source": [
    "# Progresión de la plusmarca mundial de los 100 m lisos masculino\n",
    "# Fuente: wikipedia\n",
    "tiempos <- data.frame (name=c(\"Usain Bolt\", \"Usain Bolt\", \"Asafa Powel\", \"Asafa Powel\", \"Maurice Greene\", \"Donovan Bailey\"), \n",
    "                       time=c(9.58, 9.69, 9.74, 9.77, 9.79, 9.84), \n",
    "                       year=c(2009, 2008, 2007, 2005, 1999, 1996))\n",
    "tiempos"
   ]
  },
  {
   "cell_type": "markdown",
   "metadata": {},
   "source": [
    "**CUIDADO** por defecto los vectores de cadena de texto son convertidos a tipo \"factor\""
   ]
  },
  {
   "cell_type": "code",
   "execution_count": 9,
   "metadata": {},
   "outputs": [
    {
     "data": {
      "text/html": [
       "'factor'"
      ],
      "text/latex": [
       "'factor'"
      ],
      "text/markdown": [
       "'factor'"
      ],
      "text/plain": [
       "[1] \"factor\""
      ]
     },
     "metadata": {},
     "output_type": "display_data"
    }
   ],
   "source": [
    "class (tiempos$name)"
   ]
  },
  {
   "cell_type": "code",
   "execution_count": 12,
   "metadata": {
    "scrolled": true
   },
   "outputs": [
    {
     "data": {
      "text/html": [
       "'character'"
      ],
      "text/latex": [
       "'character'"
      ],
      "text/markdown": [
       "'character'"
      ],
      "text/plain": [
       "[1] \"character\""
      ]
     },
     "metadata": {},
     "output_type": "display_data"
    }
   ],
   "source": [
    "tiempos <- data.frame (name=c(\"Usain Bolt\", \"Usain Bolt\", \"Asafa Powel\", \"Asafa Powel\", \"Maurice Greene\", \"Donovan Bailey\"), \n",
    "                       time=c(9.58, 9.69, 9.74, 9.77, 9.79, 9.84), \n",
    "                       year=c(2009, 2008, 2007, 2005, 1999, 1996),\n",
    "                       stringsAsFactors = FALSE)\n",
    "class (tiempos$name)"
   ]
  },
  {
   "cell_type": "code",
   "execution_count": 4,
   "metadata": {},
   "outputs": [
    {
     "data": {
      "text/html": [
       "6"
      ],
      "text/latex": [
       "6"
      ],
      "text/markdown": [
       "6"
      ],
      "text/plain": [
       "[1] 6"
      ]
     },
     "metadata": {},
     "output_type": "display_data"
    }
   ],
   "source": [
    "nrow(tiempos) # número de registros en el data frame"
   ]
  },
  {
   "cell_type": "markdown",
   "metadata": {},
   "source": [
    "otra forma de crear un data frame:"
   ]
  },
  {
   "cell_type": "code",
   "execution_count": 1,
   "metadata": {},
   "outputs": [
    {
     "data": {
      "text/html": [
       "<table>\n",
       "<thead><tr><th scope=col>name</th><th scope=col>temperature</th></tr></thead>\n",
       "<tbody>\n",
       "\t<tr><td>Beijing       </td><td>35            </td></tr>\n",
       "\t<tr><td>Lagos         </td><td>88            </td></tr>\n",
       "\t<tr><td>Paris         </td><td>42            </td></tr>\n",
       "\t<tr><td>Rio de Janeiro</td><td>84            </td></tr>\n",
       "\t<tr><td>San Juan      </td><td>81            </td></tr>\n",
       "\t<tr><td>Toronto       </td><td>30            </td></tr>\n",
       "</tbody>\n",
       "</table>\n"
      ],
      "text/latex": [
       "\\begin{tabular}{r|ll}\n",
       " name & temperature\\\\\n",
       "\\hline\n",
       "\t Beijing        & 35            \\\\\n",
       "\t Lagos          & 88            \\\\\n",
       "\t Paris          & 42            \\\\\n",
       "\t Rio de Janeiro & 84            \\\\\n",
       "\t San Juan       & 81            \\\\\n",
       "\t Toronto        & 30            \\\\\n",
       "\\end{tabular}\n"
      ],
      "text/markdown": [
       "\n",
       "name | temperature | \n",
       "|---|---|---|---|---|---|\n",
       "| Beijing        | 35             | \n",
       "| Lagos          | 88             | \n",
       "| Paris          | 42             | \n",
       "| Rio de Janeiro | 84             | \n",
       "| San Juan       | 81             | \n",
       "| Toronto        | 30             | \n",
       "\n",
       "\n"
      ],
      "text/plain": [
       "  name           temperature\n",
       "1 Beijing        35         \n",
       "2 Lagos          88         \n",
       "3 Paris          42         \n",
       "4 Rio de Janeiro 84         \n",
       "5 San Juan       81         \n",
       "6 Toronto        30         "
      ]
     },
     "metadata": {},
     "output_type": "display_data"
    }
   ],
   "source": [
    "temp <- c(35, 88, 42, 84, 81, 30)\n",
    "city <- c(\"Beijing\", \"Lagos\", \"Paris\", \"Rio de Janeiro\", \"San Juan\", \"Toronto\")\n",
    "city_temps <- data.frame(name = city, temperature = temp)\n",
    "city_temps"
   ]
  },
  {
   "cell_type": "markdown",
   "metadata": {},
   "source": [
    "también podemos leer un dataset a partir de un fichero csv"
   ]
  },
  {
   "cell_type": "code",
   "execution_count": 17,
   "metadata": {},
   "outputs": [
    {
     "data": {
      "text/html": [
       "<table>\n",
       "<thead><tr><th scope=col>Aeropuertos</th><th scope=col>Total</th></tr></thead>\n",
       "<tbody>\n",
       "\t<tr><td>ADOLFO SUÁREZ MADRID-BARAJAS</td><td>50420583                    </td></tr>\n",
       "\t<tr><td>BARCELONA-EL PRAT           </td><td>44154693                    </td></tr>\n",
       "\t<tr><td>PALMA DE MALLORCA           </td><td>26253882                    </td></tr>\n",
       "\t<tr><td>MALAGA-COSTA DEL SOL        </td><td>16672776                    </td></tr>\n",
       "\t<tr><td>ALICANTE-ELCHE              </td><td>12344945                    </td></tr>\n",
       "\t<tr><td>GRAN CANARIA                </td><td>12093645                    </td></tr>\n",
       "</tbody>\n",
       "</table>\n"
      ],
      "text/latex": [
       "\\begin{tabular}{r|ll}\n",
       " Aeropuertos & Total\\\\\n",
       "\\hline\n",
       "\t ADOLFO SUÁREZ MADRID-BARAJAS & 50420583                    \\\\\n",
       "\t BARCELONA-EL PRAT            & 44154693                    \\\\\n",
       "\t PALMA DE MALLORCA            & 26253882                    \\\\\n",
       "\t MALAGA-COSTA DEL SOL         & 16672776                    \\\\\n",
       "\t ALICANTE-ELCHE               & 12344945                    \\\\\n",
       "\t GRAN CANARIA                 & 12093645                    \\\\\n",
       "\\end{tabular}\n"
      ],
      "text/markdown": [
       "\n",
       "Aeropuertos | Total | \n",
       "|---|---|---|---|---|---|\n",
       "| ADOLFO SUÁREZ MADRID-BARAJAS | 50420583                     | \n",
       "| BARCELONA-EL PRAT            | 44154693                     | \n",
       "| PALMA DE MALLORCA            | 26253882                     | \n",
       "| MALAGA-COSTA DEL SOL         | 16672776                     | \n",
       "| ALICANTE-ELCHE               | 12344945                     | \n",
       "| GRAN CANARIA                 | 12093645                     | \n",
       "\n",
       "\n"
      ],
      "text/plain": [
       "  Aeropuertos                  Total   \n",
       "1 ADOLFO SUÁREZ MADRID-BARAJAS 50420583\n",
       "2 BARCELONA-EL PRAT            44154693\n",
       "3 PALMA DE MALLORCA            26253882\n",
       "4 MALAGA-COSTA DEL SOL         16672776\n",
       "5 ALICANTE-ELCHE               12344945\n",
       "6 GRAN CANARIA                 12093645"
      ]
     },
     "metadata": {},
     "output_type": "display_data"
    }
   ],
   "source": [
    "pasajeros <- read.csv(file='data/pasajeros_aeropuertos_2016.csv')\n",
    "head(pasajeros)"
   ]
  },
  {
   "cell_type": "markdown",
   "metadata": {
    "collapsed": true
   },
   "source": [
    "## MAS INFORMACION ##"
   ]
  },
  {
   "cell_type": "markdown",
   "metadata": {},
   "source": [
    "Algunas fuentes de datos para practicar con R"
   ]
  },
  {
   "cell_type": "markdown",
   "metadata": {},
   "source": [
    "- [Banco Mundial](https://datos.bancomundial.org/) - Datos de libre acceso del banco mundial\n",
    "- [INE](http://www.ine.es/dyngs/INEbase/listaoperaciones.htm) - Instituto Nacional de Estadistica"
   ]
  }
 ],
 "metadata": {
  "kernelspec": {
   "display_name": "R",
   "language": "R",
   "name": "ir"
  },
  "language_info": {
   "codemirror_mode": "r",
   "file_extension": ".r",
   "mimetype": "text/x-r-source",
   "name": "R",
   "pygments_lexer": "r",
   "version": "3.4.2"
  }
 },
 "nbformat": 4,
 "nbformat_minor": 2
}
