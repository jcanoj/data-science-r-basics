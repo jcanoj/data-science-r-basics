{
 "cells": [
  {
   "cell_type": "markdown",
   "metadata": {},
   "source": [
    "### Referencias ###\n",
    "- Data Analysis for the Life Science. ebook de Rafael Irizarry y Michael I. Love. Disponible en [leanpub](https://leanpub.com/dataanalysisforthelifesciences) y en [html](http://genomicsclass.github.io/book/). El material de este libro está disponible en [github](https://github.com/genomicsclass/labs)\n",
    "- [R markdown](http://rmarkdown.rstudio.com/) formato que permite la creación de documentos, presentaciones dinámicas e informes en R."
   ]
  }
 ],
 "metadata": {
  "kernelspec": {
   "display_name": "R",
   "language": "R",
   "name": "ir"
  },
  "language_info": {
   "codemirror_mode": "r",
   "file_extension": ".r",
   "mimetype": "text/x-r-source",
   "name": "R",
   "pygments_lexer": "r",
   "version": "3.4.2"
  }
 },
 "nbformat": 4,
 "nbformat_minor": 2
}
