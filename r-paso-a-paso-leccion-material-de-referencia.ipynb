{
 "cells": [
  {
   "cell_type": "markdown",
   "metadata": {},
   "source": [
    "### Referencias ###\n",
    "- Data Analysis for the Life Science. ebook de Rafael Irizarry y Michael I. Love. Disponible en [leanpub](https://leanpub.com/dataanalysisforthelifesciences) y en [html](http://genomicsclass.github.io/book/). El material de este libro está disponible en [github](https://github.com/genomicsclass/labs)\n",
    "- [R markdown](http://rmarkdown.rstudio.com/) formato que permite la creación de documentos, presentaciones dinámicas e informes en R.\n",
    "- [R for Dummies](http://www.dummies.com/programming/r/)\n",
    "- [R para todos: libros de R gratuitos](https://rparatodos.wordpress.com/2011/11/22/libros-de-r-gratuitos/)"
   ]
  },
  {
   "cell_type": "code",
   "execution_count": null,
   "metadata": {},
   "outputs": [],
   "source": []
  }
 ],
 "metadata": {
  "kernelspec": {
   "display_name": "R",
   "language": "R",
   "name": "ir"
  },
  "language_info": {
   "codemirror_mode": "r",
   "file_extension": ".r",
   "mimetype": "text/x-r-source",
   "name": "R",
   "pygments_lexer": "r",
   "version": "3.4.2"
  }
 },
 "nbformat": 4,
 "nbformat_minor": 2
}
